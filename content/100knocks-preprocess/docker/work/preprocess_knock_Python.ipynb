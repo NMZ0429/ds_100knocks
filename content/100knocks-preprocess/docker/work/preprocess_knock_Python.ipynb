{
 "cells": [
  {
   "cell_type": "markdown",
   "metadata": {},
   "source": [
    "# データサイエンス 100 本ノック（構造化データ加工編） - Python\n"
   ]
  },
  {
   "cell_type": "markdown",
   "metadata": {},
   "source": [
    "## はじめに\n",
    "\n",
    "- 初めに以下のセルを実行してください\n",
    "- 必要なライブラリのインポートとデータベース（PostgreSQL）からのデータ読み込みを行います\n",
    "- pandas 等、利用が想定されるライブラリは以下セルでインポートしています\n",
    "- その他利用したいライブラリがあれば適宜インストールしてください（\"!pip install ライブラリ名\"でインストールも可能）\n",
    "- 処理は複数回に分けても構いません\n",
    "- 名前、住所等はダミーデータであり、実在するものではありません\n"
   ]
  },
  {
   "cell_type": "code",
   "execution_count": 1,
   "metadata": {},
   "outputs": [],
   "source": [
    "# noqa\n",
    "import os\n",
    "import pandas as pd\n",
    "import numpy as np\n",
    "from dateutil.relativedelta import relativedelta\n",
    "import math\n",
    "from sklearn import preprocessing\n",
    "from sklearn.impute import SimpleImputer\n",
    "from sklearn.model_selection import train_test_split\n",
    "from sklearn.model_selection import TimeSeriesSplit\n",
    "from imblearn.under_sampling import RandomUnderSampler\n",
    "import polars as pl\n",
    "\n",
    "\n",
    "dtype = {\n",
    "    \"customer_id\": str,\n",
    "    \"gender_cd\": str,\n",
    "    \"postal_cd\": str,\n",
    "    \"application_store_cd\": str,\n",
    "    \"status_cd\": str,\n",
    "    \"category_major_cd\": str,\n",
    "    \"category_medium_cd\": str,\n",
    "    \"category_small_cd\": str,\n",
    "    \"product_cd\": str,\n",
    "    \"store_cd\": str,\n",
    "    \"prefecture_cd\": str,\n",
    "    \"tel_no\": str,\n",
    "    \"street\": str,\n",
    "}\n",
    "\n",
    "\n",
    "df_customer = pl.read_csv(\"../data/customer.csv\")\n",
    "df_category = pl.read_csv(\"../data/category.csv\")\n",
    "df_product = pl.read_csv(\"../data/product.csv\")\n",
    "df_receipt = pl.read_csv(\"../data/receipt.csv\")\n",
    "df_store = pl.read_csv(\"../data/store.csv\")\n",
    "df_geocode = pl.read_csv(\"../data/geocode.csv\")\n",
    "\n",
    "\n",
    "# cast column types\n",
    "for df in [df_customer, df_category, df_product, df_receipt, df_store, df_geocode]:\n",
    "    for col, col_type in dtype.items():\n",
    "        if col in df.columns:\n",
    "            df = df.select(pl.col(col).cast(pl.String).alias(col))"
   ]
  },
  {
   "cell_type": "markdown",
   "metadata": {},
   "source": [
    "# 演習問題\n"
   ]
  },
  {
   "cell_type": "markdown",
   "metadata": {},
   "source": [
    "---\n",
    "\n",
    "> P-001: レシート明細データ（df_receipt）から全項目の先頭 10 件を表示し、どのようなデータを保有しているか目視で確認せよ。\n"
   ]
  },
  {
   "cell_type": "code",
   "execution_count": 2,
   "metadata": {},
   "outputs": [
    {
     "data": {
      "text/html": [
       "<div><style>\n",
       ".dataframe > thead > tr,\n",
       ".dataframe > tbody > tr {\n",
       "  text-align: right;\n",
       "  white-space: pre-wrap;\n",
       "}\n",
       "</style>\n",
       "<small>shape: (10, 9)</small><table border=\"1\" class=\"dataframe\"><thead><tr><th>sales_ymd</th><th>sales_epoch</th><th>store_cd</th><th>receipt_no</th><th>receipt_sub_no</th><th>customer_id</th><th>product_cd</th><th>quantity</th><th>amount</th></tr><tr><td>i64</td><td>i64</td><td>str</td><td>i64</td><td>i64</td><td>str</td><td>str</td><td>i64</td><td>i64</td></tr></thead><tbody><tr><td>20181103</td><td>1541203200</td><td>&quot;S14006&quot;</td><td>112</td><td>1</td><td>&quot;CS006214000001&quot;</td><td>&quot;P070305012&quot;</td><td>1</td><td>158</td></tr><tr><td>20181118</td><td>1542499200</td><td>&quot;S13008&quot;</td><td>1132</td><td>2</td><td>&quot;CS008415000097&quot;</td><td>&quot;P070701017&quot;</td><td>1</td><td>81</td></tr><tr><td>20170712</td><td>1499817600</td><td>&quot;S14028&quot;</td><td>1102</td><td>1</td><td>&quot;CS028414000014&quot;</td><td>&quot;P060101005&quot;</td><td>1</td><td>170</td></tr><tr><td>20190205</td><td>1549324800</td><td>&quot;S14042&quot;</td><td>1132</td><td>1</td><td>&quot;ZZ000000000000&quot;</td><td>&quot;P050301001&quot;</td><td>1</td><td>25</td></tr><tr><td>20180821</td><td>1534809600</td><td>&quot;S14025&quot;</td><td>1102</td><td>2</td><td>&quot;CS025415000050&quot;</td><td>&quot;P060102007&quot;</td><td>1</td><td>90</td></tr><tr><td>20190605</td><td>1559692800</td><td>&quot;S13003&quot;</td><td>1112</td><td>1</td><td>&quot;CS003515000195&quot;</td><td>&quot;P050102002&quot;</td><td>1</td><td>138</td></tr><tr><td>20181205</td><td>1543968000</td><td>&quot;S14024&quot;</td><td>1102</td><td>2</td><td>&quot;CS024514000042&quot;</td><td>&quot;P080101005&quot;</td><td>1</td><td>30</td></tr><tr><td>20190922</td><td>1569110400</td><td>&quot;S14040&quot;</td><td>1102</td><td>1</td><td>&quot;CS040415000178&quot;</td><td>&quot;P070501004&quot;</td><td>1</td><td>128</td></tr><tr><td>20170504</td><td>1493856000</td><td>&quot;S13020&quot;</td><td>1112</td><td>2</td><td>&quot;ZZ000000000000&quot;</td><td>&quot;P071302010&quot;</td><td>1</td><td>770</td></tr><tr><td>20191010</td><td>1570665600</td><td>&quot;S14027&quot;</td><td>1102</td><td>1</td><td>&quot;CS027514000015&quot;</td><td>&quot;P071101003&quot;</td><td>1</td><td>680</td></tr></tbody></table></div>"
      ],
      "text/plain": [
       "shape: (10, 9)\n",
       "┌───────────┬────────────┬──────────┬────────────┬───┬────────────┬────────────┬──────────┬────────┐\n",
       "│ sales_ymd ┆ sales_epoc ┆ store_cd ┆ receipt_no ┆ … ┆ customer_i ┆ product_cd ┆ quantity ┆ amount │\n",
       "│ ---       ┆ h          ┆ ---      ┆ ---        ┆   ┆ d          ┆ ---        ┆ ---      ┆ ---    │\n",
       "│ i64       ┆ ---        ┆ str      ┆ i64        ┆   ┆ ---        ┆ str        ┆ i64      ┆ i64    │\n",
       "│           ┆ i64        ┆          ┆            ┆   ┆ str        ┆            ┆          ┆        │\n",
       "╞═══════════╪════════════╪══════════╪════════════╪═══╪════════════╪════════════╪══════════╪════════╡\n",
       "│ 20181103  ┆ 1541203200 ┆ S14006   ┆ 112        ┆ … ┆ CS00621400 ┆ P070305012 ┆ 1        ┆ 158    │\n",
       "│           ┆            ┆          ┆            ┆   ┆ 0001       ┆            ┆          ┆        │\n",
       "│ 20181118  ┆ 1542499200 ┆ S13008   ┆ 1132       ┆ … ┆ CS00841500 ┆ P070701017 ┆ 1        ┆ 81     │\n",
       "│           ┆            ┆          ┆            ┆   ┆ 0097       ┆            ┆          ┆        │\n",
       "│ 20170712  ┆ 1499817600 ┆ S14028   ┆ 1102       ┆ … ┆ CS02841400 ┆ P060101005 ┆ 1        ┆ 170    │\n",
       "│           ┆            ┆          ┆            ┆   ┆ 0014       ┆            ┆          ┆        │\n",
       "│ 20190205  ┆ 1549324800 ┆ S14042   ┆ 1132       ┆ … ┆ ZZ00000000 ┆ P050301001 ┆ 1        ┆ 25     │\n",
       "│           ┆            ┆          ┆            ┆   ┆ 0000       ┆            ┆          ┆        │\n",
       "│ 20180821  ┆ 1534809600 ┆ S14025   ┆ 1102       ┆ … ┆ CS02541500 ┆ P060102007 ┆ 1        ┆ 90     │\n",
       "│           ┆            ┆          ┆            ┆   ┆ 0050       ┆            ┆          ┆        │\n",
       "│ 20190605  ┆ 1559692800 ┆ S13003   ┆ 1112       ┆ … ┆ CS00351500 ┆ P050102002 ┆ 1        ┆ 138    │\n",
       "│           ┆            ┆          ┆            ┆   ┆ 0195       ┆            ┆          ┆        │\n",
       "│ 20181205  ┆ 1543968000 ┆ S14024   ┆ 1102       ┆ … ┆ CS02451400 ┆ P080101005 ┆ 1        ┆ 30     │\n",
       "│           ┆            ┆          ┆            ┆   ┆ 0042       ┆            ┆          ┆        │\n",
       "│ 20190922  ┆ 1569110400 ┆ S14040   ┆ 1102       ┆ … ┆ CS04041500 ┆ P070501004 ┆ 1        ┆ 128    │\n",
       "│           ┆            ┆          ┆            ┆   ┆ 0178       ┆            ┆          ┆        │\n",
       "│ 20170504  ┆ 1493856000 ┆ S13020   ┆ 1112       ┆ … ┆ ZZ00000000 ┆ P071302010 ┆ 1        ┆ 770    │\n",
       "│           ┆            ┆          ┆            ┆   ┆ 0000       ┆            ┆          ┆        │\n",
       "│ 20191010  ┆ 1570665600 ┆ S14027   ┆ 1102       ┆ … ┆ CS02751400 ┆ P071101003 ┆ 1        ┆ 680    │\n",
       "│           ┆            ┆          ┆            ┆   ┆ 0015       ┆            ┆          ┆        │\n",
       "└───────────┴────────────┴──────────┴────────────┴───┴────────────┴────────────┴──────────┴────────┘"
      ]
     },
     "execution_count": 2,
     "metadata": {},
     "output_type": "execute_result"
    }
   ],
   "source": [
    "df_receipt.head(10)"
   ]
  },
  {
   "cell_type": "markdown",
   "metadata": {},
   "source": [
    "---\n",
    "\n",
    "> P-002: レシート明細データ（df_receipt）から売上年月日（sales_ymd）、顧客 ID（customer_id）、商品コード（product_cd）、売上金額（amount）の順に列を指定し、10 件表示せよ。\n"
   ]
  },
  {
   "cell_type": "code",
   "execution_count": 3,
   "metadata": {},
   "outputs": [
    {
     "data": {
      "text/html": [
       "<div><style>\n",
       ".dataframe > thead > tr,\n",
       ".dataframe > tbody > tr {\n",
       "  text-align: right;\n",
       "  white-space: pre-wrap;\n",
       "}\n",
       "</style>\n",
       "<small>shape: (10, 4)</small><table border=\"1\" class=\"dataframe\"><thead><tr><th>sales_ymd</th><th>customer_id</th><th>product_cd</th><th>amount</th></tr><tr><td>i64</td><td>str</td><td>str</td><td>i64</td></tr></thead><tbody><tr><td>20181103</td><td>&quot;CS006214000001&quot;</td><td>&quot;P070305012&quot;</td><td>158</td></tr><tr><td>20181118</td><td>&quot;CS008415000097&quot;</td><td>&quot;P070701017&quot;</td><td>81</td></tr><tr><td>20170712</td><td>&quot;CS028414000014&quot;</td><td>&quot;P060101005&quot;</td><td>170</td></tr><tr><td>20190205</td><td>&quot;ZZ000000000000&quot;</td><td>&quot;P050301001&quot;</td><td>25</td></tr><tr><td>20180821</td><td>&quot;CS025415000050&quot;</td><td>&quot;P060102007&quot;</td><td>90</td></tr><tr><td>20190605</td><td>&quot;CS003515000195&quot;</td><td>&quot;P050102002&quot;</td><td>138</td></tr><tr><td>20181205</td><td>&quot;CS024514000042&quot;</td><td>&quot;P080101005&quot;</td><td>30</td></tr><tr><td>20190922</td><td>&quot;CS040415000178&quot;</td><td>&quot;P070501004&quot;</td><td>128</td></tr><tr><td>20170504</td><td>&quot;ZZ000000000000&quot;</td><td>&quot;P071302010&quot;</td><td>770</td></tr><tr><td>20191010</td><td>&quot;CS027514000015&quot;</td><td>&quot;P071101003&quot;</td><td>680</td></tr></tbody></table></div>"
      ],
      "text/plain": [
       "shape: (10, 4)\n",
       "┌───────────┬────────────────┬────────────┬────────┐\n",
       "│ sales_ymd ┆ customer_id    ┆ product_cd ┆ amount │\n",
       "│ ---       ┆ ---            ┆ ---        ┆ ---    │\n",
       "│ i64       ┆ str            ┆ str        ┆ i64    │\n",
       "╞═══════════╪════════════════╪════════════╪════════╡\n",
       "│ 20181103  ┆ CS006214000001 ┆ P070305012 ┆ 158    │\n",
       "│ 20181118  ┆ CS008415000097 ┆ P070701017 ┆ 81     │\n",
       "│ 20170712  ┆ CS028414000014 ┆ P060101005 ┆ 170    │\n",
       "│ 20190205  ┆ ZZ000000000000 ┆ P050301001 ┆ 25     │\n",
       "│ 20180821  ┆ CS025415000050 ┆ P060102007 ┆ 90     │\n",
       "│ 20190605  ┆ CS003515000195 ┆ P050102002 ┆ 138    │\n",
       "│ 20181205  ┆ CS024514000042 ┆ P080101005 ┆ 30     │\n",
       "│ 20190922  ┆ CS040415000178 ┆ P070501004 ┆ 128    │\n",
       "│ 20170504  ┆ ZZ000000000000 ┆ P071302010 ┆ 770    │\n",
       "│ 20191010  ┆ CS027514000015 ┆ P071101003 ┆ 680    │\n",
       "└───────────┴────────────────┴────────────┴────────┘"
      ]
     },
     "execution_count": 3,
     "metadata": {},
     "output_type": "execute_result"
    }
   ],
   "source": [
    "df_receipt.select(\n",
    "    pl.col(\"sales_ymd\"), pl.col(\"customer_id\"), pl.col(\"product_cd\"), pl.col(\"amount\")\n",
    ").head(10)"
   ]
  },
  {
   "cell_type": "markdown",
   "metadata": {},
   "source": [
    "---\n",
    "\n",
    "> P-003: レシート明細データ（df_receipt）から売上年月日（sales_ymd）、顧客 ID（customer_id）、商品コード（product_cd）、売上金額（amount）の順に列を指定し、10 件表示せよ。ただし、sales_ymd を sales_date に項目名を変更して抽出すること。\n"
   ]
  },
  {
   "cell_type": "code",
   "execution_count": 4,
   "metadata": {},
   "outputs": [
    {
     "data": {
      "text/html": [
       "<div><style>\n",
       ".dataframe > thead > tr,\n",
       ".dataframe > tbody > tr {\n",
       "  text-align: right;\n",
       "  white-space: pre-wrap;\n",
       "}\n",
       "</style>\n",
       "<small>shape: (10, 4)</small><table border=\"1\" class=\"dataframe\"><thead><tr><th>sales_date</th><th>customer_id</th><th>product_cd</th><th>amount</th></tr><tr><td>i64</td><td>str</td><td>str</td><td>i64</td></tr></thead><tbody><tr><td>20181103</td><td>&quot;CS006214000001&quot;</td><td>&quot;P070305012&quot;</td><td>158</td></tr><tr><td>20181118</td><td>&quot;CS008415000097&quot;</td><td>&quot;P070701017&quot;</td><td>81</td></tr><tr><td>20170712</td><td>&quot;CS028414000014&quot;</td><td>&quot;P060101005&quot;</td><td>170</td></tr><tr><td>20190205</td><td>&quot;ZZ000000000000&quot;</td><td>&quot;P050301001&quot;</td><td>25</td></tr><tr><td>20180821</td><td>&quot;CS025415000050&quot;</td><td>&quot;P060102007&quot;</td><td>90</td></tr><tr><td>20190605</td><td>&quot;CS003515000195&quot;</td><td>&quot;P050102002&quot;</td><td>138</td></tr><tr><td>20181205</td><td>&quot;CS024514000042&quot;</td><td>&quot;P080101005&quot;</td><td>30</td></tr><tr><td>20190922</td><td>&quot;CS040415000178&quot;</td><td>&quot;P070501004&quot;</td><td>128</td></tr><tr><td>20170504</td><td>&quot;ZZ000000000000&quot;</td><td>&quot;P071302010&quot;</td><td>770</td></tr><tr><td>20191010</td><td>&quot;CS027514000015&quot;</td><td>&quot;P071101003&quot;</td><td>680</td></tr></tbody></table></div>"
      ],
      "text/plain": [
       "shape: (10, 4)\n",
       "┌────────────┬────────────────┬────────────┬────────┐\n",
       "│ sales_date ┆ customer_id    ┆ product_cd ┆ amount │\n",
       "│ ---        ┆ ---            ┆ ---        ┆ ---    │\n",
       "│ i64        ┆ str            ┆ str        ┆ i64    │\n",
       "╞════════════╪════════════════╪════════════╪════════╡\n",
       "│ 20181103   ┆ CS006214000001 ┆ P070305012 ┆ 158    │\n",
       "│ 20181118   ┆ CS008415000097 ┆ P070701017 ┆ 81     │\n",
       "│ 20170712   ┆ CS028414000014 ┆ P060101005 ┆ 170    │\n",
       "│ 20190205   ┆ ZZ000000000000 ┆ P050301001 ┆ 25     │\n",
       "│ 20180821   ┆ CS025415000050 ┆ P060102007 ┆ 90     │\n",
       "│ 20190605   ┆ CS003515000195 ┆ P050102002 ┆ 138    │\n",
       "│ 20181205   ┆ CS024514000042 ┆ P080101005 ┆ 30     │\n",
       "│ 20190922   ┆ CS040415000178 ┆ P070501004 ┆ 128    │\n",
       "│ 20170504   ┆ ZZ000000000000 ┆ P071302010 ┆ 770    │\n",
       "│ 20191010   ┆ CS027514000015 ┆ P071101003 ┆ 680    │\n",
       "└────────────┴────────────────┴────────────┴────────┘"
      ]
     },
     "execution_count": 4,
     "metadata": {},
     "output_type": "execute_result"
    }
   ],
   "source": [
    "df_receipt.select(\n",
    "    pl.col(\"sales_ymd\").alias(\"sales_date\"),\n",
    "    pl.col(\"customer_id\"),\n",
    "    pl.col(\"product_cd\"),\n",
    "    pl.col(\"amount\"),\n",
    ").head(10)"
   ]
  },
  {
   "cell_type": "markdown",
   "metadata": {},
   "source": [
    "---\n",
    "\n",
    "> P-004: レシート明細データ（df_receipt）から売上日（sales_ymd）、顧客 ID（customer_id）、商品コード（product_cd）、売上金額（amount）の順に列を指定し、以下の条件を満たすデータを抽出せよ。\n",
    ">\n",
    "> - 顧客 ID（customer_id）が\"CS018205000001\"\n"
   ]
  },
  {
   "cell_type": "code",
   "execution_count": 5,
   "metadata": {},
   "outputs": [
    {
     "data": {
      "text/html": [
       "<div><style>\n",
       ".dataframe > thead > tr,\n",
       ".dataframe > tbody > tr {\n",
       "  text-align: right;\n",
       "  white-space: pre-wrap;\n",
       "}\n",
       "</style>\n",
       "<small>shape: (12, 4)</small><table border=\"1\" class=\"dataframe\"><thead><tr><th>sales_ymd</th><th>customer_id</th><th>product_cd</th><th>amount</th></tr><tr><td>i64</td><td>str</td><td>str</td><td>i64</td></tr></thead><tbody><tr><td>20180911</td><td>&quot;CS018205000001&quot;</td><td>&quot;P071401012&quot;</td><td>2200</td></tr><tr><td>20180414</td><td>&quot;CS018205000001&quot;</td><td>&quot;P060104007&quot;</td><td>600</td></tr><tr><td>20170614</td><td>&quot;CS018205000001&quot;</td><td>&quot;P050206001&quot;</td><td>990</td></tr><tr><td>20170614</td><td>&quot;CS018205000001&quot;</td><td>&quot;P060702015&quot;</td><td>108</td></tr><tr><td>20190216</td><td>&quot;CS018205000001&quot;</td><td>&quot;P071005024&quot;</td><td>102</td></tr><tr><td>&hellip;</td><td>&hellip;</td><td>&hellip;</td><td>&hellip;</td></tr><tr><td>20190924</td><td>&quot;CS018205000001&quot;</td><td>&quot;P060805001&quot;</td><td>495</td></tr><tr><td>20190226</td><td>&quot;CS018205000001&quot;</td><td>&quot;P071401020&quot;</td><td>2200</td></tr><tr><td>20180911</td><td>&quot;CS018205000001&quot;</td><td>&quot;P071401005&quot;</td><td>1100</td></tr><tr><td>20190216</td><td>&quot;CS018205000001&quot;</td><td>&quot;P040101002&quot;</td><td>218</td></tr><tr><td>20190924</td><td>&quot;CS018205000001&quot;</td><td>&quot;P091503001&quot;</td><td>280</td></tr></tbody></table></div>"
      ],
      "text/plain": [
       "shape: (12, 4)\n",
       "┌───────────┬────────────────┬────────────┬────────┐\n",
       "│ sales_ymd ┆ customer_id    ┆ product_cd ┆ amount │\n",
       "│ ---       ┆ ---            ┆ ---        ┆ ---    │\n",
       "│ i64       ┆ str            ┆ str        ┆ i64    │\n",
       "╞═══════════╪════════════════╪════════════╪════════╡\n",
       "│ 20180911  ┆ CS018205000001 ┆ P071401012 ┆ 2200   │\n",
       "│ 20180414  ┆ CS018205000001 ┆ P060104007 ┆ 600    │\n",
       "│ 20170614  ┆ CS018205000001 ┆ P050206001 ┆ 990    │\n",
       "│ 20170614  ┆ CS018205000001 ┆ P060702015 ┆ 108    │\n",
       "│ 20190216  ┆ CS018205000001 ┆ P071005024 ┆ 102    │\n",
       "│ …         ┆ …              ┆ …          ┆ …      │\n",
       "│ 20190924  ┆ CS018205000001 ┆ P060805001 ┆ 495    │\n",
       "│ 20190226  ┆ CS018205000001 ┆ P071401020 ┆ 2200   │\n",
       "│ 20180911  ┆ CS018205000001 ┆ P071401005 ┆ 1100   │\n",
       "│ 20190216  ┆ CS018205000001 ┆ P040101002 ┆ 218    │\n",
       "│ 20190924  ┆ CS018205000001 ┆ P091503001 ┆ 280    │\n",
       "└───────────┴────────────────┴────────────┴────────┘"
      ]
     },
     "execution_count": 5,
     "metadata": {},
     "output_type": "execute_result"
    }
   ],
   "source": [
    "df_receipt.select(\n",
    "    pl.col(\"sales_ymd\"), pl.col(\"customer_id\"), pl.col(\"product_cd\"), pl.col(\"amount\")\n",
    ").filter(pl.col(\"customer_id\") == \"CS018205000001\")"
   ]
  },
  {
   "cell_type": "markdown",
   "metadata": {},
   "source": [
    "---\n",
    "\n",
    "> P-005: レシート明細データ（df_receipt）から売上日（sales_ymd）、顧客 ID（customer_id）、商品コード（product_cd）、売上金額（amount）の順に列を指定し、以下の全ての条件を満たすデータを抽出せよ。\n",
    ">\n",
    "> - 顧客 ID（customer_id）が\"CS018205000001\"\n",
    "> - 売上金額（amount）が 1,000 以上\n"
   ]
  },
  {
   "cell_type": "code",
   "execution_count": null,
   "metadata": {},
   "outputs": [
    {
     "data": {
      "text/html": [
       "<div><style>\n",
       ".dataframe > thead > tr,\n",
       ".dataframe > tbody > tr {\n",
       "  text-align: right;\n",
       "  white-space: pre-wrap;\n",
       "}\n",
       "</style>\n",
       "<small>shape: (3, 4)</small><table border=\"1\" class=\"dataframe\"><thead><tr><th>sales_ymd</th><th>customer_id</th><th>product_cd</th><th>amount</th></tr><tr><td>i64</td><td>str</td><td>str</td><td>i64</td></tr></thead><tbody><tr><td>20180911</td><td>&quot;CS018205000001&quot;</td><td>&quot;P071401012&quot;</td><td>2200</td></tr><tr><td>20190226</td><td>&quot;CS018205000001&quot;</td><td>&quot;P071401020&quot;</td><td>2200</td></tr><tr><td>20180911</td><td>&quot;CS018205000001&quot;</td><td>&quot;P071401005&quot;</td><td>1100</td></tr></tbody></table></div>"
      ],
      "text/plain": [
       "shape: (3, 4)\n",
       "┌───────────┬────────────────┬────────────┬────────┐\n",
       "│ sales_ymd ┆ customer_id    ┆ product_cd ┆ amount │\n",
       "│ ---       ┆ ---            ┆ ---        ┆ ---    │\n",
       "│ i64       ┆ str            ┆ str        ┆ i64    │\n",
       "╞═══════════╪════════════════╪════════════╪════════╡\n",
       "│ 20180911  ┆ CS018205000001 ┆ P071401012 ┆ 2200   │\n",
       "│ 20190226  ┆ CS018205000001 ┆ P071401020 ┆ 2200   │\n",
       "│ 20180911  ┆ CS018205000001 ┆ P071401005 ┆ 1100   │\n",
       "└───────────┴────────────────┴────────────┴────────┘"
      ]
     },
     "execution_count": 8,
     "metadata": {},
     "output_type": "execute_result"
    }
   ],
   "source": [
    "df_receipt.select(\n",
    "    pl.col(\"sales_ymd\"), pl.col(\"customer_id\"), pl.col(\"product_cd\"), pl.col(\"amount\")\n",
    ").filter((pl.col(\"customer_id\") == \"CS018205000001\") & (pl.col(\"amount\") >= 1000))"
   ]
  },
  {
   "cell_type": "markdown",
   "metadata": {},
   "source": [
    "---\n",
    "\n",
    "> P-006: レシート明細データ（df_receipt）から売上日（sales_ymd）、顧客 ID（customer_id）、商品コード（product_cd）、売上数量（quantity）、売上金額（amount）の順に列を指定し、以下の全ての条件を満たすデータを抽出せよ。\n",
    ">\n",
    "> - 顧客 ID（customer_id）が\"CS018205000001\"\n",
    "> - 売上金額（amount）が 1,000 以上または売上数量（quantity）が 5 以上\n"
   ]
  },
  {
   "cell_type": "code",
   "execution_count": null,
   "metadata": {},
   "outputs": [
    {
     "data": {
      "text/html": [
       "<div><style>\n",
       ".dataframe > thead > tr,\n",
       ".dataframe > tbody > tr {\n",
       "  text-align: right;\n",
       "  white-space: pre-wrap;\n",
       "}\n",
       "</style>\n",
       "<small>shape: (5, 5)</small><table border=\"1\" class=\"dataframe\"><thead><tr><th>sales_ymd</th><th>customer_id</th><th>product_cd</th><th>amount</th><th>quantity</th></tr><tr><td>i64</td><td>str</td><td>str</td><td>i64</td><td>i64</td></tr></thead><tbody><tr><td>20180911</td><td>&quot;CS018205000001&quot;</td><td>&quot;P071401012&quot;</td><td>2200</td><td>1</td></tr><tr><td>20180414</td><td>&quot;CS018205000001&quot;</td><td>&quot;P060104007&quot;</td><td>600</td><td>6</td></tr><tr><td>20170614</td><td>&quot;CS018205000001&quot;</td><td>&quot;P050206001&quot;</td><td>990</td><td>5</td></tr><tr><td>20190226</td><td>&quot;CS018205000001&quot;</td><td>&quot;P071401020&quot;</td><td>2200</td><td>1</td></tr><tr><td>20180911</td><td>&quot;CS018205000001&quot;</td><td>&quot;P071401005&quot;</td><td>1100</td><td>1</td></tr></tbody></table></div>"
      ],
      "text/plain": [
       "shape: (5, 5)\n",
       "┌───────────┬────────────────┬────────────┬────────┬──────────┐\n",
       "│ sales_ymd ┆ customer_id    ┆ product_cd ┆ amount ┆ quantity │\n",
       "│ ---       ┆ ---            ┆ ---        ┆ ---    ┆ ---      │\n",
       "│ i64       ┆ str            ┆ str        ┆ i64    ┆ i64      │\n",
       "╞═══════════╪════════════════╪════════════╪════════╪══════════╡\n",
       "│ 20180911  ┆ CS018205000001 ┆ P071401012 ┆ 2200   ┆ 1        │\n",
       "│ 20180414  ┆ CS018205000001 ┆ P060104007 ┆ 600    ┆ 6        │\n",
       "│ 20170614  ┆ CS018205000001 ┆ P050206001 ┆ 990    ┆ 5        │\n",
       "│ 20190226  ┆ CS018205000001 ┆ P071401020 ┆ 2200   ┆ 1        │\n",
       "│ 20180911  ┆ CS018205000001 ┆ P071401005 ┆ 1100   ┆ 1        │\n",
       "└───────────┴────────────────┴────────────┴────────┴──────────┘"
      ]
     },
     "execution_count": 10,
     "metadata": {},
     "output_type": "execute_result"
    }
   ],
   "source": [
    "df_receipt.select(\n",
    "    pl.col(\"sales_ymd\"),\n",
    "    pl.col(\"customer_id\"),\n",
    "    pl.col(\"product_cd\"),\n",
    "    pl.col(\"amount\"),\n",
    "    pl.col(\"quantity\"),\n",
    ").filter(\n",
    "    (pl.col(\"customer_id\") == \"CS018205000001\")\n",
    "    & ((pl.col(\"amount\") >= 1000) | (pl.col(\"quantity\") >= 5))\n",
    ")"
   ]
  },
  {
   "cell_type": "markdown",
   "metadata": {},
   "source": [
    "---\n",
    "\n",
    "> P-007: レシート明細データ（df_receipt）から売上日（sales_ymd）、顧客 ID（customer_id）、商品コード（product_cd）、売上金額（amount）の順に列を指定し、以下の全ての条件を満たすデータを抽出せよ。\n",
    ">\n",
    "> - 顧客 ID（customer_id）が\"CS018205000001\"\n",
    "> - 売上金額（amount）が 1,000 以上 2,000 以下\n"
   ]
  },
  {
   "cell_type": "code",
   "execution_count": null,
   "metadata": {},
   "outputs": [
    {
     "data": {
      "text/html": [
       "<div><style>\n",
       ".dataframe > thead > tr,\n",
       ".dataframe > tbody > tr {\n",
       "  text-align: right;\n",
       "  white-space: pre-wrap;\n",
       "}\n",
       "</style>\n",
       "<small>shape: (1, 4)</small><table border=\"1\" class=\"dataframe\"><thead><tr><th>sales_ymd</th><th>customer_id</th><th>product_cd</th><th>amount</th></tr><tr><td>i64</td><td>str</td><td>str</td><td>i64</td></tr></thead><tbody><tr><td>20180911</td><td>&quot;CS018205000001&quot;</td><td>&quot;P071401005&quot;</td><td>1100</td></tr></tbody></table></div>"
      ],
      "text/plain": [
       "shape: (1, 4)\n",
       "┌───────────┬────────────────┬────────────┬────────┐\n",
       "│ sales_ymd ┆ customer_id    ┆ product_cd ┆ amount │\n",
       "│ ---       ┆ ---            ┆ ---        ┆ ---    │\n",
       "│ i64       ┆ str            ┆ str        ┆ i64    │\n",
       "╞═══════════╪════════════════╪════════════╪════════╡\n",
       "│ 20180911  ┆ CS018205000001 ┆ P071401005 ┆ 1100   │\n",
       "└───────────┴────────────────┴────────────┴────────┘"
      ]
     },
     "execution_count": 11,
     "metadata": {},
     "output_type": "execute_result"
    }
   ],
   "source": [
    "df_receipt.select(\n",
    "    pl.col(\"sales_ymd\"), pl.col(\"customer_id\"), pl.col(\"product_cd\"), pl.col(\"amount\")\n",
    ").filter(\n",
    "    (pl.col(\"customer_id\") == \"CS018205000001\")\n",
    "    & (pl.col(\"amount\") >= 1000)\n",
    "    & (pl.col(\"amount\") <= 2000)\n",
    ")"
   ]
  },
  {
   "cell_type": "markdown",
   "metadata": {},
   "source": [
    "---\n",
    "\n",
    "> P-008: レシート明細データ（df_receipt）から売上日（sales_ymd）、顧客 ID（customer_id）、商品コード（product_cd）、売上金額（amount）の順に列を指定し、以下の全ての条件を満たすデータを抽出せよ。\n",
    ">\n",
    "> - 顧客 ID（customer_id）が\"CS018205000001\"\n",
    "> - 商品コード（product_cd）が\"P071401019\"以外\n"
   ]
  },
  {
   "cell_type": "code",
   "execution_count": null,
   "metadata": {},
   "outputs": [
    {
     "data": {
      "text/html": [
       "<div><style>\n",
       ".dataframe > thead > tr,\n",
       ".dataframe > tbody > tr {\n",
       "  text-align: right;\n",
       "  white-space: pre-wrap;\n",
       "}\n",
       "</style>\n",
       "<small>shape: (12, 4)</small><table border=\"1\" class=\"dataframe\"><thead><tr><th>sales_ymd</th><th>customer_id</th><th>product_cd</th><th>amount</th></tr><tr><td>i64</td><td>str</td><td>str</td><td>i64</td></tr></thead><tbody><tr><td>20180911</td><td>&quot;CS018205000001&quot;</td><td>&quot;P071401012&quot;</td><td>2200</td></tr><tr><td>20180414</td><td>&quot;CS018205000001&quot;</td><td>&quot;P060104007&quot;</td><td>600</td></tr><tr><td>20170614</td><td>&quot;CS018205000001&quot;</td><td>&quot;P050206001&quot;</td><td>990</td></tr><tr><td>20170614</td><td>&quot;CS018205000001&quot;</td><td>&quot;P060702015&quot;</td><td>108</td></tr><tr><td>20190216</td><td>&quot;CS018205000001&quot;</td><td>&quot;P071005024&quot;</td><td>102</td></tr><tr><td>&hellip;</td><td>&hellip;</td><td>&hellip;</td><td>&hellip;</td></tr><tr><td>20190924</td><td>&quot;CS018205000001&quot;</td><td>&quot;P060805001&quot;</td><td>495</td></tr><tr><td>20190226</td><td>&quot;CS018205000001&quot;</td><td>&quot;P071401020&quot;</td><td>2200</td></tr><tr><td>20180911</td><td>&quot;CS018205000001&quot;</td><td>&quot;P071401005&quot;</td><td>1100</td></tr><tr><td>20190216</td><td>&quot;CS018205000001&quot;</td><td>&quot;P040101002&quot;</td><td>218</td></tr><tr><td>20190924</td><td>&quot;CS018205000001&quot;</td><td>&quot;P091503001&quot;</td><td>280</td></tr></tbody></table></div>"
      ],
      "text/plain": [
       "shape: (12, 4)\n",
       "┌───────────┬────────────────┬────────────┬────────┐\n",
       "│ sales_ymd ┆ customer_id    ┆ product_cd ┆ amount │\n",
       "│ ---       ┆ ---            ┆ ---        ┆ ---    │\n",
       "│ i64       ┆ str            ┆ str        ┆ i64    │\n",
       "╞═══════════╪════════════════╪════════════╪════════╡\n",
       "│ 20180911  ┆ CS018205000001 ┆ P071401012 ┆ 2200   │\n",
       "│ 20180414  ┆ CS018205000001 ┆ P060104007 ┆ 600    │\n",
       "│ 20170614  ┆ CS018205000001 ┆ P050206001 ┆ 990    │\n",
       "│ 20170614  ┆ CS018205000001 ┆ P060702015 ┆ 108    │\n",
       "│ 20190216  ┆ CS018205000001 ┆ P071005024 ┆ 102    │\n",
       "│ …         ┆ …              ┆ …          ┆ …      │\n",
       "│ 20190924  ┆ CS018205000001 ┆ P060805001 ┆ 495    │\n",
       "│ 20190226  ┆ CS018205000001 ┆ P071401020 ┆ 2200   │\n",
       "│ 20180911  ┆ CS018205000001 ┆ P071401005 ┆ 1100   │\n",
       "│ 20190216  ┆ CS018205000001 ┆ P040101002 ┆ 218    │\n",
       "│ 20190924  ┆ CS018205000001 ┆ P091503001 ┆ 280    │\n",
       "└───────────┴────────────────┴────────────┴────────┘"
      ]
     },
     "execution_count": 12,
     "metadata": {},
     "output_type": "execute_result"
    }
   ],
   "source": [
    "df_receipt.select(\n",
    "    pl.col(\"sales_ymd\"), pl.col(\"customer_id\"), pl.col(\"product_cd\"), pl.col(\"amount\")\n",
    ").filter(\n",
    "    (pl.col(\"customer_id\") == \"CS018205000001\") & (pl.col(\"product_cd\") != \"P071401019\")\n",
    ")"
   ]
  },
  {
   "cell_type": "markdown",
   "metadata": {},
   "source": [
    "---\n",
    "\n",
    "> P-009: 以下の処理において、出力結果を変えずに OR を AND に書き換えよ。\n",
    ">\n",
    "> `df_store.query('not(prefecture_cd == \"13\" | floor_area > 900)')`\n"
   ]
  },
  {
   "cell_type": "code",
   "execution_count": null,
   "metadata": {},
   "outputs": [
    {
     "data": {
      "text/html": [
       "<div><style>\n",
       ".dataframe > thead > tr,\n",
       ".dataframe > tbody > tr {\n",
       "  text-align: right;\n",
       "  white-space: pre-wrap;\n",
       "}\n",
       "</style>\n",
       "<small>shape: (3, 10)</small><table border=\"1\" class=\"dataframe\"><thead><tr><th>store_cd</th><th>store_name</th><th>prefecture_cd</th><th>prefecture</th><th>address</th><th>address_kana</th><th>tel_no</th><th>longitude</th><th>latitude</th><th>floor_area</th></tr><tr><td>str</td><td>str</td><td>i64</td><td>str</td><td>str</td><td>str</td><td>str</td><td>f64</td><td>f64</td><td>f64</td></tr></thead><tbody><tr><td>&quot;S14046&quot;</td><td>&quot;北山田店&quot;</td><td>14</td><td>&quot;神奈川県&quot;</td><td>&quot;神奈川県横浜市都筑区北山田一丁目&quot;</td><td>&quot;カナガワケンヨコハマシツヅキクキタヤマタイッチョウメ&quot;</td><td>&quot;045-123-4049&quot;</td><td>139.5916</td><td>35.56189</td><td>831.0</td></tr><tr><td>&quot;S14011&quot;</td><td>&quot;日吉本町店&quot;</td><td>14</td><td>&quot;神奈川県&quot;</td><td>&quot;神奈川県横浜市港北区日吉本町四丁目&quot;</td><td>&quot;カナガワケンヨコハマシコウホククヒヨシホンチョウヨンチョウメ&quot;</td><td>&quot;045-123-4033&quot;</td><td>139.6316</td><td>35.54655</td><td>890.0</td></tr><tr><td>&quot;S12013&quot;</td><td>&quot;習志野店&quot;</td><td>12</td><td>&quot;千葉県&quot;</td><td>&quot;千葉県習志野市芝園一丁目&quot;</td><td>&quot;チバケンナラシノシシバゾノイッチョウメ&quot;</td><td>&quot;047-123-4002&quot;</td><td>140.022</td><td>35.66122</td><td>808.0</td></tr></tbody></table></div>"
      ],
      "text/plain": [
       "shape: (3, 10)\n",
       "┌──────────┬────────────┬───────────┬───────────┬───┬───────────┬───────────┬──────────┬───────────┐\n",
       "│ store_cd ┆ store_name ┆ prefectur ┆ prefectur ┆ … ┆ tel_no    ┆ longitude ┆ latitude ┆ floor_are │\n",
       "│ ---      ┆ ---        ┆ e_cd      ┆ e         ┆   ┆ ---       ┆ ---       ┆ ---      ┆ a         │\n",
       "│ str      ┆ str        ┆ ---       ┆ ---       ┆   ┆ str       ┆ f64       ┆ f64      ┆ ---       │\n",
       "│          ┆            ┆ i64       ┆ str       ┆   ┆           ┆           ┆          ┆ f64       │\n",
       "╞══════════╪════════════╪═══════════╪═══════════╪═══╪═══════════╪═══════════╪══════════╪═══════════╡\n",
       "│ S14046   ┆ 北山田店   ┆ 14        ┆ 神奈川県  ┆ … ┆ 045-123-4 ┆ 139.5916  ┆ 35.56189 ┆ 831.0     │\n",
       "│          ┆            ┆           ┆           ┆   ┆ 049       ┆           ┆          ┆           │\n",
       "│ S14011   ┆ 日吉本町店 ┆ 14        ┆ 神奈川県  ┆ … ┆ 045-123-4 ┆ 139.6316  ┆ 35.54655 ┆ 890.0     │\n",
       "│          ┆            ┆           ┆           ┆   ┆ 033       ┆           ┆          ┆           │\n",
       "│ S12013   ┆ 習志野店   ┆ 12        ┆ 千葉県    ┆ … ┆ 047-123-4 ┆ 140.022   ┆ 35.66122 ┆ 808.0     │\n",
       "│          ┆            ┆           ┆           ┆   ┆ 002       ┆           ┆          ┆           │\n",
       "└──────────┴────────────┴───────────┴───────────┴───┴───────────┴───────────┴──────────┴───────────┘"
      ]
     },
     "execution_count": 17,
     "metadata": {},
     "output_type": "execute_result"
    }
   ],
   "source": [
    "df_store.filter((pl.col(\"prefecture_cd\") != 13) & (pl.col(\"floor_area\") <= 900))"
   ]
  },
  {
   "cell_type": "markdown",
   "metadata": {},
   "source": [
    "---\n",
    "\n",
    "> P-010: 店舗データ（df_store）から、店舗コード（store_cd）が\"S14\"で始まるものだけ全項目抽出し、10 件表示せよ。\n"
   ]
  },
  {
   "cell_type": "code",
   "execution_count": 18,
   "metadata": {},
   "outputs": [
    {
     "data": {
      "text/html": [
       "<div><style>\n",
       ".dataframe > thead > tr,\n",
       ".dataframe > tbody > tr {\n",
       "  text-align: right;\n",
       "  white-space: pre-wrap;\n",
       "}\n",
       "</style>\n",
       "<small>shape: (10, 10)</small><table border=\"1\" class=\"dataframe\"><thead><tr><th>store_cd</th><th>store_name</th><th>prefecture_cd</th><th>prefecture</th><th>address</th><th>address_kana</th><th>tel_no</th><th>longitude</th><th>latitude</th><th>floor_area</th></tr><tr><td>str</td><td>str</td><td>i64</td><td>str</td><td>str</td><td>str</td><td>str</td><td>f64</td><td>f64</td><td>f64</td></tr></thead><tbody><tr><td>&quot;S14010&quot;</td><td>&quot;菊名店&quot;</td><td>14</td><td>&quot;神奈川県&quot;</td><td>&quot;神奈川県横浜市港北区菊名一丁目&quot;</td><td>&quot;カナガワケンヨコハマシコウホククキクナイッチョウメ&quot;</td><td>&quot;045-123-4032&quot;</td><td>139.6326</td><td>35.50049</td><td>1732.0</td></tr><tr><td>&quot;S14033&quot;</td><td>&quot;阿久和店&quot;</td><td>14</td><td>&quot;神奈川県&quot;</td><td>&quot;神奈川県横浜市瀬谷区阿久和西一丁目&quot;</td><td>&quot;カナガワケンヨコハマシセヤクアクワニシイッチョウメ&quot;</td><td>&quot;045-123-4043&quot;</td><td>139.4961</td><td>35.45918</td><td>1495.0</td></tr><tr><td>&quot;S14036&quot;</td><td>&quot;相模原中央店&quot;</td><td>14</td><td>&quot;神奈川県&quot;</td><td>&quot;神奈川県相模原市中央二丁目&quot;</td><td>&quot;カナガワケンサガミハラシチュウオウニチョウメ&quot;</td><td>&quot;042-123-4045&quot;</td><td>139.3716</td><td>35.57327</td><td>1679.0</td></tr><tr><td>&quot;S14040&quot;</td><td>&quot;長津田店&quot;</td><td>14</td><td>&quot;神奈川県&quot;</td><td>&quot;神奈川県横浜市緑区長津田みなみ台五丁目&quot;</td><td>&quot;カナガワケンヨコハマシミドリクナガツタミナミダイゴチョウメ&quot;</td><td>&quot;045-123-4046&quot;</td><td>139.4994</td><td>35.52398</td><td>1548.0</td></tr><tr><td>&quot;S14050&quot;</td><td>&quot;阿久和西店&quot;</td><td>14</td><td>&quot;神奈川県&quot;</td><td>&quot;神奈川県横浜市瀬谷区阿久和西一丁目&quot;</td><td>&quot;カナガワケンヨコハマシセヤクアクワニシイッチョウメ&quot;</td><td>&quot;045-123-4053&quot;</td><td>139.4961</td><td>35.45918</td><td>1830.0</td></tr><tr><td>&quot;S14028&quot;</td><td>&quot;二ツ橋店&quot;</td><td>14</td><td>&quot;神奈川県&quot;</td><td>&quot;神奈川県横浜市瀬谷区二ツ橋町&quot;</td><td>&quot;カナガワケンヨコハマシセヤクフタツバシチョウ&quot;</td><td>&quot;045-123-4042&quot;</td><td>139.4963</td><td>35.46304</td><td>1574.0</td></tr><tr><td>&quot;S14012&quot;</td><td>&quot;本牧和田店&quot;</td><td>14</td><td>&quot;神奈川県&quot;</td><td>&quot;神奈川県横浜市中区本牧和田&quot;</td><td>&quot;カナガワケンヨコハマシナカクホンモクワダ&quot;</td><td>&quot;045-123-4034&quot;</td><td>139.6582</td><td>35.42156</td><td>1341.0</td></tr><tr><td>&quot;S14046&quot;</td><td>&quot;北山田店&quot;</td><td>14</td><td>&quot;神奈川県&quot;</td><td>&quot;神奈川県横浜市都筑区北山田一丁目&quot;</td><td>&quot;カナガワケンヨコハマシツヅキクキタヤマタイッチョウメ&quot;</td><td>&quot;045-123-4049&quot;</td><td>139.5916</td><td>35.56189</td><td>831.0</td></tr><tr><td>&quot;S14022&quot;</td><td>&quot;逗子店&quot;</td><td>14</td><td>&quot;神奈川県&quot;</td><td>&quot;神奈川県逗子市逗子一丁目&quot;</td><td>&quot;カナガワケンズシシズシイッチョウメ&quot;</td><td>&quot;046-123-4036&quot;</td><td>139.5789</td><td>35.29642</td><td>1838.0</td></tr><tr><td>&quot;S14011&quot;</td><td>&quot;日吉本町店&quot;</td><td>14</td><td>&quot;神奈川県&quot;</td><td>&quot;神奈川県横浜市港北区日吉本町四丁目&quot;</td><td>&quot;カナガワケンヨコハマシコウホククヒヨシホンチョウヨンチョウメ&quot;</td><td>&quot;045-123-4033&quot;</td><td>139.6316</td><td>35.54655</td><td>890.0</td></tr></tbody></table></div>"
      ],
      "text/plain": [
       "shape: (10, 10)\n",
       "┌──────────┬────────────┬───────────┬───────────┬───┬───────────┬───────────┬──────────┬───────────┐\n",
       "│ store_cd ┆ store_name ┆ prefectur ┆ prefectur ┆ … ┆ tel_no    ┆ longitude ┆ latitude ┆ floor_are │\n",
       "│ ---      ┆ ---        ┆ e_cd      ┆ e         ┆   ┆ ---       ┆ ---       ┆ ---      ┆ a         │\n",
       "│ str      ┆ str        ┆ ---       ┆ ---       ┆   ┆ str       ┆ f64       ┆ f64      ┆ ---       │\n",
       "│          ┆            ┆ i64       ┆ str       ┆   ┆           ┆           ┆          ┆ f64       │\n",
       "╞══════════╪════════════╪═══════════╪═══════════╪═══╪═══════════╪═══════════╪══════════╪═══════════╡\n",
       "│ S14010   ┆ 菊名店     ┆ 14        ┆ 神奈川県  ┆ … ┆ 045-123-4 ┆ 139.6326  ┆ 35.50049 ┆ 1732.0    │\n",
       "│          ┆            ┆           ┆           ┆   ┆ 032       ┆           ┆          ┆           │\n",
       "│ S14033   ┆ 阿久和店   ┆ 14        ┆ 神奈川県  ┆ … ┆ 045-123-4 ┆ 139.4961  ┆ 35.45918 ┆ 1495.0    │\n",
       "│          ┆            ┆           ┆           ┆   ┆ 043       ┆           ┆          ┆           │\n",
       "│ S14036   ┆ 相模原中央 ┆ 14        ┆ 神奈川県  ┆ … ┆ 042-123-4 ┆ 139.3716  ┆ 35.57327 ┆ 1679.0    │\n",
       "│          ┆ 店         ┆           ┆           ┆   ┆ 045       ┆           ┆          ┆           │\n",
       "│ S14040   ┆ 長津田店   ┆ 14        ┆ 神奈川県  ┆ … ┆ 045-123-4 ┆ 139.4994  ┆ 35.52398 ┆ 1548.0    │\n",
       "│          ┆            ┆           ┆           ┆   ┆ 046       ┆           ┆          ┆           │\n",
       "│ S14050   ┆ 阿久和西店 ┆ 14        ┆ 神奈川県  ┆ … ┆ 045-123-4 ┆ 139.4961  ┆ 35.45918 ┆ 1830.0    │\n",
       "│          ┆            ┆           ┆           ┆   ┆ 053       ┆           ┆          ┆           │\n",
       "│ S14028   ┆ 二ツ橋店   ┆ 14        ┆ 神奈川県  ┆ … ┆ 045-123-4 ┆ 139.4963  ┆ 35.46304 ┆ 1574.0    │\n",
       "│          ┆            ┆           ┆           ┆   ┆ 042       ┆           ┆          ┆           │\n",
       "│ S14012   ┆ 本牧和田店 ┆ 14        ┆ 神奈川県  ┆ … ┆ 045-123-4 ┆ 139.6582  ┆ 35.42156 ┆ 1341.0    │\n",
       "│          ┆            ┆           ┆           ┆   ┆ 034       ┆           ┆          ┆           │\n",
       "│ S14046   ┆ 北山田店   ┆ 14        ┆ 神奈川県  ┆ … ┆ 045-123-4 ┆ 139.5916  ┆ 35.56189 ┆ 831.0     │\n",
       "│          ┆            ┆           ┆           ┆   ┆ 049       ┆           ┆          ┆           │\n",
       "│ S14022   ┆ 逗子店     ┆ 14        ┆ 神奈川県  ┆ … ┆ 046-123-4 ┆ 139.5789  ┆ 35.29642 ┆ 1838.0    │\n",
       "│          ┆            ┆           ┆           ┆   ┆ 036       ┆           ┆          ┆           │\n",
       "│ S14011   ┆ 日吉本町店 ┆ 14        ┆ 神奈川県  ┆ … ┆ 045-123-4 ┆ 139.6316  ┆ 35.54655 ┆ 890.0     │\n",
       "│          ┆            ┆           ┆           ┆   ┆ 033       ┆           ┆          ┆           │\n",
       "└──────────┴────────────┴───────────┴───────────┴───┴───────────┴───────────┴──────────┴───────────┘"
      ]
     },
     "execution_count": 18,
     "metadata": {},
     "output_type": "execute_result"
    }
   ],
   "source": [
    "df_store.filter(pl.col(\"store_cd\").str.starts_with(\"S14\")).head(10)"
   ]
  },
  {
   "cell_type": "markdown",
   "metadata": {},
   "source": [
    "---\n",
    "\n",
    "> P-011: 顧客データ（df_customer）から顧客 ID（customer_id）の末尾が 1 のものだけ全項目抽出し、10 件表示せよ。\n"
   ]
  },
  {
   "cell_type": "code",
   "execution_count": 19,
   "metadata": {},
   "outputs": [
    {
     "data": {
      "text/html": [
       "<div><style>\n",
       ".dataframe > thead > tr,\n",
       ".dataframe > tbody > tr {\n",
       "  text-align: right;\n",
       "  white-space: pre-wrap;\n",
       "}\n",
       "</style>\n",
       "<small>shape: (10, 11)</small><table border=\"1\" class=\"dataframe\"><thead><tr><th>customer_id</th><th>customer_name</th><th>gender_cd</th><th>gender</th><th>birth_day</th><th>age</th><th>postal_cd</th><th>address</th><th>application_store_cd</th><th>application_date</th><th>status_cd</th></tr><tr><td>str</td><td>str</td><td>i64</td><td>str</td><td>str</td><td>i64</td><td>str</td><td>str</td><td>str</td><td>i64</td><td>str</td></tr></thead><tbody><tr><td>&quot;CS037613000071&quot;</td><td>&quot;六角 雅彦&quot;</td><td>9</td><td>&quot;不明&quot;</td><td>&quot;1952-04-01&quot;</td><td>66</td><td>&quot;136-0076&quot;</td><td>&quot;東京都江東区南砂**********&quot;</td><td>&quot;S13037&quot;</td><td>20150414</td><td>&quot;0-00000000-0&quot;</td></tr><tr><td>&quot;CS028811000001&quot;</td><td>&quot;堀井 かおり&quot;</td><td>1</td><td>&quot;女性&quot;</td><td>&quot;1933-03-27&quot;</td><td>86</td><td>&quot;245-0016&quot;</td><td>&quot;神奈川県横浜市泉区和泉町**********&quot;</td><td>&quot;S14028&quot;</td><td>20160115</td><td>&quot;0-00000000-0&quot;</td></tr><tr><td>&quot;CS040412000191&quot;</td><td>&quot;川井 郁恵&quot;</td><td>1</td><td>&quot;女性&quot;</td><td>&quot;1977-01-05&quot;</td><td>42</td><td>&quot;226-0021&quot;</td><td>&quot;神奈川県横浜市緑区北八朔町**********&quot;</td><td>&quot;S14040&quot;</td><td>20151101</td><td>&quot;1-20091025-4&quot;</td></tr><tr><td>&quot;CS028314000011&quot;</td><td>&quot;小菅 あおい&quot;</td><td>1</td><td>&quot;女性&quot;</td><td>&quot;1983-11-26&quot;</td><td>35</td><td>&quot;246-0038&quot;</td><td>&quot;神奈川県横浜市瀬谷区宮沢**********&quot;</td><td>&quot;S14028&quot;</td><td>20151123</td><td>&quot;1-20080426-5&quot;</td></tr><tr><td>&quot;CS039212000051&quot;</td><td>&quot;藤島 恵梨香&quot;</td><td>1</td><td>&quot;女性&quot;</td><td>&quot;1997-02-03&quot;</td><td>22</td><td>&quot;166-0001&quot;</td><td>&quot;東京都杉並区阿佐谷北**********&quot;</td><td>&quot;S13039&quot;</td><td>20171121</td><td>&quot;1-20100215-4&quot;</td></tr><tr><td>&quot;CS015412000111&quot;</td><td>&quot;松居 奈月&quot;</td><td>1</td><td>&quot;女性&quot;</td><td>&quot;1972-10-04&quot;</td><td>46</td><td>&quot;136-0071&quot;</td><td>&quot;東京都江東区亀戸**********&quot;</td><td>&quot;S13015&quot;</td><td>20150629</td><td>&quot;0-00000000-0&quot;</td></tr><tr><td>&quot;CS004702000041&quot;</td><td>&quot;野島 洋&quot;</td><td>0</td><td>&quot;男性&quot;</td><td>&quot;1943-08-24&quot;</td><td>75</td><td>&quot;176-0022&quot;</td><td>&quot;東京都練馬区向山**********&quot;</td><td>&quot;S13004&quot;</td><td>20170218</td><td>&quot;0-00000000-0&quot;</td></tr><tr><td>&quot;CS041515000001&quot;</td><td>&quot;栗田 千夏&quot;</td><td>1</td><td>&quot;女性&quot;</td><td>&quot;1967-01-02&quot;</td><td>52</td><td>&quot;206-0001&quot;</td><td>&quot;東京都多摩市和田**********&quot;</td><td>&quot;S13041&quot;</td><td>20160422</td><td>&quot;E-20100803-F&quot;</td></tr><tr><td>&quot;CS029313000221&quot;</td><td>&quot;北条 ひかり&quot;</td><td>1</td><td>&quot;女性&quot;</td><td>&quot;1987-06-19&quot;</td><td>31</td><td>&quot;279-0011&quot;</td><td>&quot;千葉県浦安市美浜**********&quot;</td><td>&quot;S12029&quot;</td><td>20180810</td><td>&quot;0-00000000-0&quot;</td></tr><tr><td>&quot;CS034312000071&quot;</td><td>&quot;望月 奈央&quot;</td><td>1</td><td>&quot;女性&quot;</td><td>&quot;1980-09-20&quot;</td><td>38</td><td>&quot;213-0026&quot;</td><td>&quot;神奈川県川崎市高津区久末**********&quot;</td><td>&quot;S14034&quot;</td><td>20160106</td><td>&quot;0-00000000-0&quot;</td></tr></tbody></table></div>"
      ],
      "text/plain": [
       "shape: (10, 11)\n",
       "┌────────────┬────────────┬───────────┬────────┬───┬───────────┬───────────┬───────────┬───────────┐\n",
       "│ customer_i ┆ customer_n ┆ gender_cd ┆ gender ┆ … ┆ address   ┆ applicati ┆ applicati ┆ status_cd │\n",
       "│ d          ┆ ame        ┆ ---       ┆ ---    ┆   ┆ ---       ┆ on_store_ ┆ on_date   ┆ ---       │\n",
       "│ ---        ┆ ---        ┆ i64       ┆ str    ┆   ┆ str       ┆ cd        ┆ ---       ┆ str       │\n",
       "│ str        ┆ str        ┆           ┆        ┆   ┆           ┆ ---       ┆ i64       ┆           │\n",
       "│            ┆            ┆           ┆        ┆   ┆           ┆ str       ┆           ┆           │\n",
       "╞════════════╪════════════╪═══════════╪════════╪═══╪═══════════╪═══════════╪═══════════╪═══════════╡\n",
       "│ CS03761300 ┆ 六角 雅彦  ┆ 9         ┆ 不明   ┆ … ┆ 東京都江  ┆ S13037    ┆ 20150414  ┆ 0-0000000 │\n",
       "│ 0071       ┆            ┆           ┆        ┆   ┆ 東区南砂* ┆           ┆           ┆ 0-0       │\n",
       "│            ┆            ┆           ┆        ┆   ┆ ********* ┆           ┆           ┆           │\n",
       "│ CS02881100 ┆ 堀井       ┆ 1         ┆ 女性   ┆ … ┆ 神奈川県  ┆ S14028    ┆ 20160115  ┆ 0-0000000 │\n",
       "│ 0001       ┆ かおり     ┆           ┆        ┆   ┆ 横浜市泉  ┆           ┆           ┆ 0-0       │\n",
       "│            ┆            ┆           ┆        ┆   ┆ 区和泉町* ┆           ┆           ┆           │\n",
       "│            ┆            ┆           ┆        ┆   ┆ ********* ┆           ┆           ┆           │\n",
       "│ CS04041200 ┆ 川井 郁恵  ┆ 1         ┆ 女性   ┆ … ┆ 神奈川県  ┆ S14040    ┆ 20151101  ┆ 1-2009102 │\n",
       "│ 0191       ┆            ┆           ┆        ┆   ┆ 横浜市緑  ┆           ┆           ┆ 5-4       │\n",
       "│            ┆            ┆           ┆        ┆   ┆ 区北八朔  ┆           ┆           ┆           │\n",
       "│            ┆            ┆           ┆        ┆   ┆ 町******* ┆           ┆           ┆           │\n",
       "│            ┆            ┆           ┆        ┆   ┆ ***       ┆           ┆           ┆           │\n",
       "│ CS02831400 ┆ 小菅       ┆ 1         ┆ 女性   ┆ … ┆ 神奈川県  ┆ S14028    ┆ 20151123  ┆ 1-2008042 │\n",
       "│ 0011       ┆ あおい     ┆           ┆        ┆   ┆ 横浜市瀬  ┆           ┆           ┆ 6-5       │\n",
       "│            ┆            ┆           ┆        ┆   ┆ 谷区宮沢* ┆           ┆           ┆           │\n",
       "│            ┆            ┆           ┆        ┆   ┆ ********* ┆           ┆           ┆           │\n",
       "│ CS03921200 ┆ 藤島       ┆ 1         ┆ 女性   ┆ … ┆ 東京都杉  ┆ S13039    ┆ 20171121  ┆ 1-2010021 │\n",
       "│ 0051       ┆ 恵梨香     ┆           ┆        ┆   ┆ 並区阿佐  ┆           ┆           ┆ 5-4       │\n",
       "│            ┆            ┆           ┆        ┆   ┆ 谷北***** ┆           ┆           ┆           │\n",
       "│            ┆            ┆           ┆        ┆   ┆ *****     ┆           ┆           ┆           │\n",
       "│ CS01541200 ┆ 松居 奈月  ┆ 1         ┆ 女性   ┆ … ┆ 東京都江  ┆ S13015    ┆ 20150629  ┆ 0-0000000 │\n",
       "│ 0111       ┆            ┆           ┆        ┆   ┆ 東区亀戸* ┆           ┆           ┆ 0-0       │\n",
       "│            ┆            ┆           ┆        ┆   ┆ ********* ┆           ┆           ┆           │\n",
       "│ CS00470200 ┆ 野島 洋    ┆ 0         ┆ 男性   ┆ … ┆ 東京都練  ┆ S13004    ┆ 20170218  ┆ 0-0000000 │\n",
       "│ 0041       ┆            ┆           ┆        ┆   ┆ 馬区向山* ┆           ┆           ┆ 0-0       │\n",
       "│            ┆            ┆           ┆        ┆   ┆ ********* ┆           ┆           ┆           │\n",
       "│ CS04151500 ┆ 栗田 千夏  ┆ 1         ┆ 女性   ┆ … ┆ 東京都多  ┆ S13041    ┆ 20160422  ┆ E-2010080 │\n",
       "│ 0001       ┆            ┆           ┆        ┆   ┆ 摩市和田* ┆           ┆           ┆ 3-F       │\n",
       "│            ┆            ┆           ┆        ┆   ┆ ********* ┆           ┆           ┆           │\n",
       "│ CS02931300 ┆ 北条       ┆ 1         ┆ 女性   ┆ … ┆ 千葉県浦  ┆ S12029    ┆ 20180810  ┆ 0-0000000 │\n",
       "│ 0221       ┆ ひかり     ┆           ┆        ┆   ┆ 安市美浜* ┆           ┆           ┆ 0-0       │\n",
       "│            ┆            ┆           ┆        ┆   ┆ ********* ┆           ┆           ┆           │\n",
       "│ CS03431200 ┆ 望月 奈央  ┆ 1         ┆ 女性   ┆ … ┆ 神奈川県  ┆ S14034    ┆ 20160106  ┆ 0-0000000 │\n",
       "│ 0071       ┆            ┆           ┆        ┆   ┆ 川崎市高  ┆           ┆           ┆ 0-0       │\n",
       "│            ┆            ┆           ┆        ┆   ┆ 津区久末* ┆           ┆           ┆           │\n",
       "│            ┆            ┆           ┆        ┆   ┆ ********* ┆           ┆           ┆           │\n",
       "└────────────┴────────────┴───────────┴────────┴───┴───────────┴───────────┴───────────┴───────────┘"
      ]
     },
     "execution_count": 19,
     "metadata": {},
     "output_type": "execute_result"
    }
   ],
   "source": [
    "df_customer.filter(pl.col(\"customer_id\").str.ends_with(\"1\")).head(10)"
   ]
  },
  {
   "cell_type": "markdown",
   "metadata": {},
   "source": [
    "---\n",
    "\n",
    "> P-012: 店舗データ（df_store）から、住所 (address) に\"横浜市\"が含まれるものだけ全項目表示せよ。\n"
   ]
  },
  {
   "cell_type": "code",
   "execution_count": null,
   "metadata": {},
   "outputs": [
    {
     "data": {
      "text/html": [
       "<div><style>\n",
       ".dataframe > thead > tr,\n",
       ".dataframe > tbody > tr {\n",
       "  text-align: right;\n",
       "  white-space: pre-wrap;\n",
       "}\n",
       "</style>\n",
       "<small>shape: (11, 10)</small><table border=\"1\" class=\"dataframe\"><thead><tr><th>store_cd</th><th>store_name</th><th>prefecture_cd</th><th>prefecture</th><th>address</th><th>address_kana</th><th>tel_no</th><th>longitude</th><th>latitude</th><th>floor_area</th></tr><tr><td>str</td><td>str</td><td>i64</td><td>str</td><td>str</td><td>str</td><td>str</td><td>f64</td><td>f64</td><td>f64</td></tr></thead><tbody><tr><td>&quot;S14010&quot;</td><td>&quot;菊名店&quot;</td><td>14</td><td>&quot;神奈川県&quot;</td><td>&quot;神奈川県横浜市港北区菊名一丁目&quot;</td><td>&quot;カナガワケンヨコハマシコウホククキクナイッチョウメ&quot;</td><td>&quot;045-123-4032&quot;</td><td>139.6326</td><td>35.50049</td><td>1732.0</td></tr><tr><td>&quot;S14033&quot;</td><td>&quot;阿久和店&quot;</td><td>14</td><td>&quot;神奈川県&quot;</td><td>&quot;神奈川県横浜市瀬谷区阿久和西一丁目&quot;</td><td>&quot;カナガワケンヨコハマシセヤクアクワニシイッチョウメ&quot;</td><td>&quot;045-123-4043&quot;</td><td>139.4961</td><td>35.45918</td><td>1495.0</td></tr><tr><td>&quot;S14040&quot;</td><td>&quot;長津田店&quot;</td><td>14</td><td>&quot;神奈川県&quot;</td><td>&quot;神奈川県横浜市緑区長津田みなみ台五丁目&quot;</td><td>&quot;カナガワケンヨコハマシミドリクナガツタミナミダイゴチョウメ&quot;</td><td>&quot;045-123-4046&quot;</td><td>139.4994</td><td>35.52398</td><td>1548.0</td></tr><tr><td>&quot;S14050&quot;</td><td>&quot;阿久和西店&quot;</td><td>14</td><td>&quot;神奈川県&quot;</td><td>&quot;神奈川県横浜市瀬谷区阿久和西一丁目&quot;</td><td>&quot;カナガワケンヨコハマシセヤクアクワニシイッチョウメ&quot;</td><td>&quot;045-123-4053&quot;</td><td>139.4961</td><td>35.45918</td><td>1830.0</td></tr><tr><td>&quot;S14028&quot;</td><td>&quot;二ツ橋店&quot;</td><td>14</td><td>&quot;神奈川県&quot;</td><td>&quot;神奈川県横浜市瀬谷区二ツ橋町&quot;</td><td>&quot;カナガワケンヨコハマシセヤクフタツバシチョウ&quot;</td><td>&quot;045-123-4042&quot;</td><td>139.4963</td><td>35.46304</td><td>1574.0</td></tr><tr><td>&hellip;</td><td>&hellip;</td><td>&hellip;</td><td>&hellip;</td><td>&hellip;</td><td>&hellip;</td><td>&hellip;</td><td>&hellip;</td><td>&hellip;</td><td>&hellip;</td></tr><tr><td>&quot;S14046&quot;</td><td>&quot;北山田店&quot;</td><td>14</td><td>&quot;神奈川県&quot;</td><td>&quot;神奈川県横浜市都筑区北山田一丁目&quot;</td><td>&quot;カナガワケンヨコハマシツヅキクキタヤマタイッチョウメ&quot;</td><td>&quot;045-123-4049&quot;</td><td>139.5916</td><td>35.56189</td><td>831.0</td></tr><tr><td>&quot;S14011&quot;</td><td>&quot;日吉本町店&quot;</td><td>14</td><td>&quot;神奈川県&quot;</td><td>&quot;神奈川県横浜市港北区日吉本町四丁目&quot;</td><td>&quot;カナガワケンヨコハマシコウホククヒヨシホンチョウヨンチョウメ&quot;</td><td>&quot;045-123-4033&quot;</td><td>139.6316</td><td>35.54655</td><td>890.0</td></tr><tr><td>&quot;S14048&quot;</td><td>&quot;中川中央店&quot;</td><td>14</td><td>&quot;神奈川県&quot;</td><td>&quot;神奈川県横浜市都筑区中川中央二丁目&quot;</td><td>&quot;カナガワケンヨコハマシツヅキクナカガワチュウオウニチョウメ&quot;</td><td>&quot;045-123-4051&quot;</td><td>139.5758</td><td>35.54912</td><td>1657.0</td></tr><tr><td>&quot;S14042&quot;</td><td>&quot;新山下店&quot;</td><td>14</td><td>&quot;神奈川県&quot;</td><td>&quot;神奈川県横浜市中区新山下二丁目&quot;</td><td>&quot;カナガワケンヨコハマシナカクシンヤマシタニチョウメ&quot;</td><td>&quot;045-123-4047&quot;</td><td>139.6593</td><td>35.43894</td><td>1044.0</td></tr><tr><td>&quot;S14006&quot;</td><td>&quot;葛が谷店&quot;</td><td>14</td><td>&quot;神奈川県&quot;</td><td>&quot;神奈川県横浜市都筑区葛が谷&quot;</td><td>&quot;カナガワケンヨコハマシツヅキククズガヤ&quot;</td><td>&quot;045-123-4031&quot;</td><td>139.5633</td><td>35.53573</td><td>1886.0</td></tr></tbody></table></div>"
      ],
      "text/plain": [
       "shape: (11, 10)\n",
       "┌──────────┬────────────┬───────────┬───────────┬───┬───────────┬───────────┬──────────┬───────────┐\n",
       "│ store_cd ┆ store_name ┆ prefectur ┆ prefectur ┆ … ┆ tel_no    ┆ longitude ┆ latitude ┆ floor_are │\n",
       "│ ---      ┆ ---        ┆ e_cd      ┆ e         ┆   ┆ ---       ┆ ---       ┆ ---      ┆ a         │\n",
       "│ str      ┆ str        ┆ ---       ┆ ---       ┆   ┆ str       ┆ f64       ┆ f64      ┆ ---       │\n",
       "│          ┆            ┆ i64       ┆ str       ┆   ┆           ┆           ┆          ┆ f64       │\n",
       "╞══════════╪════════════╪═══════════╪═══════════╪═══╪═══════════╪═══════════╪══════════╪═══════════╡\n",
       "│ S14010   ┆ 菊名店     ┆ 14        ┆ 神奈川県  ┆ … ┆ 045-123-4 ┆ 139.6326  ┆ 35.50049 ┆ 1732.0    │\n",
       "│          ┆            ┆           ┆           ┆   ┆ 032       ┆           ┆          ┆           │\n",
       "│ S14033   ┆ 阿久和店   ┆ 14        ┆ 神奈川県  ┆ … ┆ 045-123-4 ┆ 139.4961  ┆ 35.45918 ┆ 1495.0    │\n",
       "│          ┆            ┆           ┆           ┆   ┆ 043       ┆           ┆          ┆           │\n",
       "│ S14040   ┆ 長津田店   ┆ 14        ┆ 神奈川県  ┆ … ┆ 045-123-4 ┆ 139.4994  ┆ 35.52398 ┆ 1548.0    │\n",
       "│          ┆            ┆           ┆           ┆   ┆ 046       ┆           ┆          ┆           │\n",
       "│ S14050   ┆ 阿久和西店 ┆ 14        ┆ 神奈川県  ┆ … ┆ 045-123-4 ┆ 139.4961  ┆ 35.45918 ┆ 1830.0    │\n",
       "│          ┆            ┆           ┆           ┆   ┆ 053       ┆           ┆          ┆           │\n",
       "│ S14028   ┆ 二ツ橋店   ┆ 14        ┆ 神奈川県  ┆ … ┆ 045-123-4 ┆ 139.4963  ┆ 35.46304 ┆ 1574.0    │\n",
       "│          ┆            ┆           ┆           ┆   ┆ 042       ┆           ┆          ┆           │\n",
       "│ …        ┆ …          ┆ …         ┆ …         ┆ … ┆ …         ┆ …         ┆ …        ┆ …         │\n",
       "│ S14046   ┆ 北山田店   ┆ 14        ┆ 神奈川県  ┆ … ┆ 045-123-4 ┆ 139.5916  ┆ 35.56189 ┆ 831.0     │\n",
       "│          ┆            ┆           ┆           ┆   ┆ 049       ┆           ┆          ┆           │\n",
       "│ S14011   ┆ 日吉本町店 ┆ 14        ┆ 神奈川県  ┆ … ┆ 045-123-4 ┆ 139.6316  ┆ 35.54655 ┆ 890.0     │\n",
       "│          ┆            ┆           ┆           ┆   ┆ 033       ┆           ┆          ┆           │\n",
       "│ S14048   ┆ 中川中央店 ┆ 14        ┆ 神奈川県  ┆ … ┆ 045-123-4 ┆ 139.5758  ┆ 35.54912 ┆ 1657.0    │\n",
       "│          ┆            ┆           ┆           ┆   ┆ 051       ┆           ┆          ┆           │\n",
       "│ S14042   ┆ 新山下店   ┆ 14        ┆ 神奈川県  ┆ … ┆ 045-123-4 ┆ 139.6593  ┆ 35.43894 ┆ 1044.0    │\n",
       "│          ┆            ┆           ┆           ┆   ┆ 047       ┆           ┆          ┆           │\n",
       "│ S14006   ┆ 葛が谷店   ┆ 14        ┆ 神奈川県  ┆ … ┆ 045-123-4 ┆ 139.5633  ┆ 35.53573 ┆ 1886.0    │\n",
       "│          ┆            ┆           ┆           ┆   ┆ 031       ┆           ┆          ┆           │\n",
       "└──────────┴────────────┴───────────┴───────────┴───┴───────────┴───────────┴──────────┴───────────┘"
      ]
     },
     "execution_count": 21,
     "metadata": {},
     "output_type": "execute_result"
    }
   ],
   "source": [
    "df_store.filter(pl.col(\"address\").str.contains(\"横浜市\"))"
   ]
  },
  {
   "cell_type": "markdown",
   "metadata": {},
   "source": [
    "---\n",
    "\n",
    "> P-013: 顧客データ（df_customer）から、ステータスコード（status_cd）の先頭がアルファベットの A〜F で始まるデータを全項目抽出し、10 件表示せよ。\n"
   ]
  },
  {
   "cell_type": "code",
   "execution_count": 22,
   "metadata": {},
   "outputs": [
    {
     "data": {
      "text/html": [
       "<div><style>\n",
       ".dataframe > thead > tr,\n",
       ".dataframe > tbody > tr {\n",
       "  text-align: right;\n",
       "  white-space: pre-wrap;\n",
       "}\n",
       "</style>\n",
       "<small>shape: (10, 11)</small><table border=\"1\" class=\"dataframe\"><thead><tr><th>customer_id</th><th>customer_name</th><th>gender_cd</th><th>gender</th><th>birth_day</th><th>age</th><th>postal_cd</th><th>address</th><th>application_store_cd</th><th>application_date</th><th>status_cd</th></tr><tr><td>str</td><td>str</td><td>i64</td><td>str</td><td>str</td><td>i64</td><td>str</td><td>str</td><td>str</td><td>i64</td><td>str</td></tr></thead><tbody><tr><td>&quot;CS031415000172&quot;</td><td>&quot;宇多田 貴美子&quot;</td><td>1</td><td>&quot;女性&quot;</td><td>&quot;1976-10-04&quot;</td><td>42</td><td>&quot;151-0053&quot;</td><td>&quot;東京都渋谷区代々木**********&quot;</td><td>&quot;S13031&quot;</td><td>20150529</td><td>&quot;D-20100325-C&quot;</td></tr><tr><td>&quot;CS015414000103&quot;</td><td>&quot;奥野 陽子&quot;</td><td>1</td><td>&quot;女性&quot;</td><td>&quot;1977-08-09&quot;</td><td>41</td><td>&quot;136-0073&quot;</td><td>&quot;東京都江東区北砂**********&quot;</td><td>&quot;S13015&quot;</td><td>20150722</td><td>&quot;B-20100609-B&quot;</td></tr><tr><td>&quot;CS011215000048&quot;</td><td>&quot;芦田 沙耶&quot;</td><td>1</td><td>&quot;女性&quot;</td><td>&quot;1992-02-01&quot;</td><td>27</td><td>&quot;223-0062&quot;</td><td>&quot;神奈川県横浜市港北区日吉本町**********&quot;</td><td>&quot;S14011&quot;</td><td>20150228</td><td>&quot;C-20100421-9&quot;</td></tr><tr><td>&quot;CS029415000023&quot;</td><td>&quot;梅田 里穂&quot;</td><td>1</td><td>&quot;女性&quot;</td><td>&quot;1976-01-17&quot;</td><td>43</td><td>&quot;279-0043&quot;</td><td>&quot;千葉県浦安市富士見**********&quot;</td><td>&quot;S12029&quot;</td><td>20150610</td><td>&quot;D-20100918-E&quot;</td></tr><tr><td>&quot;CS035415000029&quot;</td><td>&quot;寺沢 真希&quot;</td><td>9</td><td>&quot;不明&quot;</td><td>&quot;1977-09-27&quot;</td><td>41</td><td>&quot;158-0096&quot;</td><td>&quot;東京都世田谷区玉川台**********&quot;</td><td>&quot;S13035&quot;</td><td>20141220</td><td>&quot;F-20101029-F&quot;</td></tr><tr><td>&quot;CS031415000106&quot;</td><td>&quot;宇野 由美子&quot;</td><td>1</td><td>&quot;女性&quot;</td><td>&quot;1970-02-26&quot;</td><td>49</td><td>&quot;151-0053&quot;</td><td>&quot;東京都渋谷区代々木**********&quot;</td><td>&quot;S13031&quot;</td><td>20150201</td><td>&quot;F-20100511-E&quot;</td></tr><tr><td>&quot;CS029215000025&quot;</td><td>&quot;石倉 美帆&quot;</td><td>1</td><td>&quot;女性&quot;</td><td>&quot;1993-09-28&quot;</td><td>25</td><td>&quot;279-0022&quot;</td><td>&quot;千葉県浦安市今川**********&quot;</td><td>&quot;S12029&quot;</td><td>20150708</td><td>&quot;B-20100820-C&quot;</td></tr><tr><td>&quot;CS033605000005&quot;</td><td>&quot;猪股 雄太&quot;</td><td>0</td><td>&quot;男性&quot;</td><td>&quot;1955-12-05&quot;</td><td>63</td><td>&quot;246-0031&quot;</td><td>&quot;神奈川県横浜市瀬谷区瀬谷**********&quot;</td><td>&quot;S14033&quot;</td><td>20150425</td><td>&quot;F-20100917-E&quot;</td></tr><tr><td>&quot;CS033415000229&quot;</td><td>&quot;板垣 菜々美&quot;</td><td>1</td><td>&quot;女性&quot;</td><td>&quot;1977-11-07&quot;</td><td>41</td><td>&quot;246-0021&quot;</td><td>&quot;神奈川県横浜市瀬谷区二ツ橋町**********&quot;</td><td>&quot;S14033&quot;</td><td>20150712</td><td>&quot;F-20100326-E&quot;</td></tr><tr><td>&quot;CS008415000145&quot;</td><td>&quot;黒谷 麻緒&quot;</td><td>1</td><td>&quot;女性&quot;</td><td>&quot;1977-06-27&quot;</td><td>41</td><td>&quot;157-0067&quot;</td><td>&quot;東京都世田谷区喜多見**********&quot;</td><td>&quot;S13008&quot;</td><td>20150829</td><td>&quot;F-20100622-F&quot;</td></tr></tbody></table></div>"
      ],
      "text/plain": [
       "shape: (10, 11)\n",
       "┌────────────┬────────────┬───────────┬────────┬───┬───────────┬───────────┬───────────┬───────────┐\n",
       "│ customer_i ┆ customer_n ┆ gender_cd ┆ gender ┆ … ┆ address   ┆ applicati ┆ applicati ┆ status_cd │\n",
       "│ d          ┆ ame        ┆ ---       ┆ ---    ┆   ┆ ---       ┆ on_store_ ┆ on_date   ┆ ---       │\n",
       "│ ---        ┆ ---        ┆ i64       ┆ str    ┆   ┆ str       ┆ cd        ┆ ---       ┆ str       │\n",
       "│ str        ┆ str        ┆           ┆        ┆   ┆           ┆ ---       ┆ i64       ┆           │\n",
       "│            ┆            ┆           ┆        ┆   ┆           ┆ str       ┆           ┆           │\n",
       "╞════════════╪════════════╪═══════════╪════════╪═══╪═══════════╪═══════════╪═══════════╪═══════════╡\n",
       "│ CS03141500 ┆ 宇多田     ┆ 1         ┆ 女性   ┆ … ┆ 東京都渋  ┆ S13031    ┆ 20150529  ┆ D-2010032 │\n",
       "│ 0172       ┆ 貴美子     ┆           ┆        ┆   ┆ 谷区代々  ┆           ┆           ┆ 5-C       │\n",
       "│            ┆            ┆           ┆        ┆   ┆ 木******* ┆           ┆           ┆           │\n",
       "│            ┆            ┆           ┆        ┆   ┆ ***       ┆           ┆           ┆           │\n",
       "│ CS01541400 ┆ 奥野 陽子  ┆ 1         ┆ 女性   ┆ … ┆ 東京都江  ┆ S13015    ┆ 20150722  ┆ B-2010060 │\n",
       "│ 0103       ┆            ┆           ┆        ┆   ┆ 東区北砂* ┆           ┆           ┆ 9-B       │\n",
       "│            ┆            ┆           ┆        ┆   ┆ ********* ┆           ┆           ┆           │\n",
       "│ CS01121500 ┆ 芦田 沙耶  ┆ 1         ┆ 女性   ┆ … ┆ 神奈川県  ┆ S14011    ┆ 20150228  ┆ C-2010042 │\n",
       "│ 0048       ┆            ┆           ┆        ┆   ┆ 横浜市港  ┆           ┆           ┆ 1-9       │\n",
       "│            ┆            ┆           ┆        ┆   ┆ 北区日吉  ┆           ┆           ┆           │\n",
       "│            ┆            ┆           ┆        ┆   ┆ 本町***** ┆           ┆           ┆           │\n",
       "│            ┆            ┆           ┆        ┆   ┆ *****     ┆           ┆           ┆           │\n",
       "│ CS02941500 ┆ 梅田 里穂  ┆ 1         ┆ 女性   ┆ … ┆ 千葉県浦  ┆ S12029    ┆ 20150610  ┆ D-2010091 │\n",
       "│ 0023       ┆            ┆           ┆        ┆   ┆ 安市富士  ┆           ┆           ┆ 8-E       │\n",
       "│            ┆            ┆           ┆        ┆   ┆ 見******* ┆           ┆           ┆           │\n",
       "│            ┆            ┆           ┆        ┆   ┆ ***       ┆           ┆           ┆           │\n",
       "│ CS03541500 ┆ 寺沢 真希  ┆ 9         ┆ 不明   ┆ … ┆ 東京都世  ┆ S13035    ┆ 20141220  ┆ F-2010102 │\n",
       "│ 0029       ┆            ┆           ┆        ┆   ┆ 田谷区玉  ┆           ┆           ┆ 9-F       │\n",
       "│            ┆            ┆           ┆        ┆   ┆ 川台***** ┆           ┆           ┆           │\n",
       "│            ┆            ┆           ┆        ┆   ┆ *****     ┆           ┆           ┆           │\n",
       "│ CS03141500 ┆ 宇野       ┆ 1         ┆ 女性   ┆ … ┆ 東京都渋  ┆ S13031    ┆ 20150201  ┆ F-2010051 │\n",
       "│ 0106       ┆ 由美子     ┆           ┆        ┆   ┆ 谷区代々  ┆           ┆           ┆ 1-E       │\n",
       "│            ┆            ┆           ┆        ┆   ┆ 木******* ┆           ┆           ┆           │\n",
       "│            ┆            ┆           ┆        ┆   ┆ ***       ┆           ┆           ┆           │\n",
       "│ CS02921500 ┆ 石倉 美帆  ┆ 1         ┆ 女性   ┆ … ┆ 千葉県浦  ┆ S12029    ┆ 20150708  ┆ B-2010082 │\n",
       "│ 0025       ┆            ┆           ┆        ┆   ┆ 安市今川* ┆           ┆           ┆ 0-C       │\n",
       "│            ┆            ┆           ┆        ┆   ┆ ********* ┆           ┆           ┆           │\n",
       "│ CS03360500 ┆ 猪股 雄太  ┆ 0         ┆ 男性   ┆ … ┆ 神奈川県  ┆ S14033    ┆ 20150425  ┆ F-2010091 │\n",
       "│ 0005       ┆            ┆           ┆        ┆   ┆ 横浜市瀬  ┆           ┆           ┆ 7-E       │\n",
       "│            ┆            ┆           ┆        ┆   ┆ 谷区瀬谷* ┆           ┆           ┆           │\n",
       "│            ┆            ┆           ┆        ┆   ┆ ********* ┆           ┆           ┆           │\n",
       "│ CS03341500 ┆ 板垣       ┆ 1         ┆ 女性   ┆ … ┆ 神奈川県  ┆ S14033    ┆ 20150712  ┆ F-2010032 │\n",
       "│ 0229       ┆ 菜々美     ┆           ┆        ┆   ┆ 横浜市瀬  ┆           ┆           ┆ 6-E       │\n",
       "│            ┆            ┆           ┆        ┆   ┆ 谷区二ツ  ┆           ┆           ┆           │\n",
       "│            ┆            ┆           ┆        ┆   ┆ 橋町***** ┆           ┆           ┆           │\n",
       "│            ┆            ┆           ┆        ┆   ┆ *****     ┆           ┆           ┆           │\n",
       "│ CS00841500 ┆ 黒谷 麻緒  ┆ 1         ┆ 女性   ┆ … ┆ 東京都世  ┆ S13008    ┆ 20150829  ┆ F-2010062 │\n",
       "│ 0145       ┆            ┆           ┆        ┆   ┆ 田谷区喜  ┆           ┆           ┆ 2-F       │\n",
       "│            ┆            ┆           ┆        ┆   ┆ 多見***** ┆           ┆           ┆           │\n",
       "│            ┆            ┆           ┆        ┆   ┆ *****     ┆           ┆           ┆           │\n",
       "└────────────┴────────────┴───────────┴────────┴───┴───────────┴───────────┴───────────┴───────────┘"
      ]
     },
     "execution_count": 22,
     "metadata": {},
     "output_type": "execute_result"
    }
   ],
   "source": [
    "# > P-013: 顧客データ（df_customer）から、ステータスコード（status_cd）の先頭がアルファベットの A〜F で始まるデータを全項目抽出し、10 件表示せよ。\n",
    "df_customer.filter(pl.col(\"status_cd\").str.contains(\"^[A-F]\")).head(10)"
   ]
  },
  {
   "cell_type": "markdown",
   "metadata": {},
   "source": [
    "---\n",
    "\n",
    "> P-014: 顧客データ（df_customer）から、ステータスコード（status_cd）の末尾が数字の 1〜9 で終わるデータを全項目抽出し、10 件表示せよ。\n"
   ]
  },
  {
   "cell_type": "code",
   "execution_count": 23,
   "metadata": {},
   "outputs": [
    {
     "data": {
      "text/html": [
       "<div><style>\n",
       ".dataframe > thead > tr,\n",
       ".dataframe > tbody > tr {\n",
       "  text-align: right;\n",
       "  white-space: pre-wrap;\n",
       "}\n",
       "</style>\n",
       "<small>shape: (10, 11)</small><table border=\"1\" class=\"dataframe\"><thead><tr><th>customer_id</th><th>customer_name</th><th>gender_cd</th><th>gender</th><th>birth_day</th><th>age</th><th>postal_cd</th><th>address</th><th>application_store_cd</th><th>application_date</th><th>status_cd</th></tr><tr><td>str</td><td>str</td><td>i64</td><td>str</td><td>str</td><td>i64</td><td>str</td><td>str</td><td>str</td><td>i64</td><td>str</td></tr></thead><tbody><tr><td>&quot;CS001215000145&quot;</td><td>&quot;田崎 美紀&quot;</td><td>1</td><td>&quot;女性&quot;</td><td>&quot;1995-03-29&quot;</td><td>24</td><td>&quot;144-0055&quot;</td><td>&quot;東京都大田区仲六郷**********&quot;</td><td>&quot;S13001&quot;</td><td>20170605</td><td>&quot;6-20090929-2&quot;</td></tr><tr><td>&quot;CS033513000180&quot;</td><td>&quot;安斎 遥&quot;</td><td>1</td><td>&quot;女性&quot;</td><td>&quot;1962-07-11&quot;</td><td>56</td><td>&quot;241-0823&quot;</td><td>&quot;神奈川県横浜市旭区善部町**********&quot;</td><td>&quot;S14033&quot;</td><td>20150728</td><td>&quot;6-20080506-5&quot;</td></tr><tr><td>&quot;CS011215000048&quot;</td><td>&quot;芦田 沙耶&quot;</td><td>1</td><td>&quot;女性&quot;</td><td>&quot;1992-02-01&quot;</td><td>27</td><td>&quot;223-0062&quot;</td><td>&quot;神奈川県横浜市港北区日吉本町**********&quot;</td><td>&quot;S14011&quot;</td><td>20150228</td><td>&quot;C-20100421-9&quot;</td></tr><tr><td>&quot;CS040412000191&quot;</td><td>&quot;川井 郁恵&quot;</td><td>1</td><td>&quot;女性&quot;</td><td>&quot;1977-01-05&quot;</td><td>42</td><td>&quot;226-0021&quot;</td><td>&quot;神奈川県横浜市緑区北八朔町**********&quot;</td><td>&quot;S14040&quot;</td><td>20151101</td><td>&quot;1-20091025-4&quot;</td></tr><tr><td>&quot;CS009315000023&quot;</td><td>&quot;皆川 文世&quot;</td><td>1</td><td>&quot;女性&quot;</td><td>&quot;1980-04-15&quot;</td><td>38</td><td>&quot;154-0012&quot;</td><td>&quot;東京都世田谷区駒沢**********&quot;</td><td>&quot;S13009&quot;</td><td>20150319</td><td>&quot;5-20080322-1&quot;</td></tr><tr><td>&quot;CS015315000033&quot;</td><td>&quot;福士 璃奈子&quot;</td><td>1</td><td>&quot;女性&quot;</td><td>&quot;1983-03-17&quot;</td><td>36</td><td>&quot;135-0043&quot;</td><td>&quot;東京都江東区塩浜**********&quot;</td><td>&quot;S13015&quot;</td><td>20141024</td><td>&quot;4-20080219-3&quot;</td></tr><tr><td>&quot;CS023513000066&quot;</td><td>&quot;神戸 そら&quot;</td><td>1</td><td>&quot;女性&quot;</td><td>&quot;1961-12-17&quot;</td><td>57</td><td>&quot;210-0005&quot;</td><td>&quot;神奈川県川崎市川崎区東田町**********&quot;</td><td>&quot;S14023&quot;</td><td>20150915</td><td>&quot;5-20100524-9&quot;</td></tr><tr><td>&quot;CS035513000134&quot;</td><td>&quot;市川 美帆&quot;</td><td>1</td><td>&quot;女性&quot;</td><td>&quot;1960-03-27&quot;</td><td>59</td><td>&quot;156-0053&quot;</td><td>&quot;東京都世田谷区桜**********&quot;</td><td>&quot;S13035&quot;</td><td>20150227</td><td>&quot;8-20100711-9&quot;</td></tr><tr><td>&quot;CS001515000263&quot;</td><td>&quot;高松 夏空&quot;</td><td>1</td><td>&quot;女性&quot;</td><td>&quot;1962-11-09&quot;</td><td>56</td><td>&quot;144-0051&quot;</td><td>&quot;東京都大田区西蒲田**********&quot;</td><td>&quot;S13001&quot;</td><td>20160812</td><td>&quot;1-20100804-1&quot;</td></tr><tr><td>&quot;CS040314000027&quot;</td><td>&quot;鶴田 きみまろ&quot;</td><td>9</td><td>&quot;不明&quot;</td><td>&quot;1986-03-26&quot;</td><td>33</td><td>&quot;226-0027&quot;</td><td>&quot;神奈川県横浜市緑区長津田**********&quot;</td><td>&quot;S14040&quot;</td><td>20150122</td><td>&quot;2-20080426-4&quot;</td></tr></tbody></table></div>"
      ],
      "text/plain": [
       "shape: (10, 11)\n",
       "┌────────────┬────────────┬───────────┬────────┬───┬───────────┬───────────┬───────────┬───────────┐\n",
       "│ customer_i ┆ customer_n ┆ gender_cd ┆ gender ┆ … ┆ address   ┆ applicati ┆ applicati ┆ status_cd │\n",
       "│ d          ┆ ame        ┆ ---       ┆ ---    ┆   ┆ ---       ┆ on_store_ ┆ on_date   ┆ ---       │\n",
       "│ ---        ┆ ---        ┆ i64       ┆ str    ┆   ┆ str       ┆ cd        ┆ ---       ┆ str       │\n",
       "│ str        ┆ str        ┆           ┆        ┆   ┆           ┆ ---       ┆ i64       ┆           │\n",
       "│            ┆            ┆           ┆        ┆   ┆           ┆ str       ┆           ┆           │\n",
       "╞════════════╪════════════╪═══════════╪════════╪═══╪═══════════╪═══════════╪═══════════╪═══════════╡\n",
       "│ CS00121500 ┆ 田崎 美紀  ┆ 1         ┆ 女性   ┆ … ┆ 東京都大  ┆ S13001    ┆ 20170605  ┆ 6-2009092 │\n",
       "│ 0145       ┆            ┆           ┆        ┆   ┆ 田区仲六  ┆           ┆           ┆ 9-2       │\n",
       "│            ┆            ┆           ┆        ┆   ┆ 郷******* ┆           ┆           ┆           │\n",
       "│            ┆            ┆           ┆        ┆   ┆ ***       ┆           ┆           ┆           │\n",
       "│ CS03351300 ┆ 安斎 遥    ┆ 1         ┆ 女性   ┆ … ┆ 神奈川県  ┆ S14033    ┆ 20150728  ┆ 6-2008050 │\n",
       "│ 0180       ┆            ┆           ┆        ┆   ┆ 横浜市旭  ┆           ┆           ┆ 6-5       │\n",
       "│            ┆            ┆           ┆        ┆   ┆ 区善部町* ┆           ┆           ┆           │\n",
       "│            ┆            ┆           ┆        ┆   ┆ ********* ┆           ┆           ┆           │\n",
       "│ CS01121500 ┆ 芦田 沙耶  ┆ 1         ┆ 女性   ┆ … ┆ 神奈川県  ┆ S14011    ┆ 20150228  ┆ C-2010042 │\n",
       "│ 0048       ┆            ┆           ┆        ┆   ┆ 横浜市港  ┆           ┆           ┆ 1-9       │\n",
       "│            ┆            ┆           ┆        ┆   ┆ 北区日吉  ┆           ┆           ┆           │\n",
       "│            ┆            ┆           ┆        ┆   ┆ 本町***** ┆           ┆           ┆           │\n",
       "│            ┆            ┆           ┆        ┆   ┆ *****     ┆           ┆           ┆           │\n",
       "│ CS04041200 ┆ 川井 郁恵  ┆ 1         ┆ 女性   ┆ … ┆ 神奈川県  ┆ S14040    ┆ 20151101  ┆ 1-2009102 │\n",
       "│ 0191       ┆            ┆           ┆        ┆   ┆ 横浜市緑  ┆           ┆           ┆ 5-4       │\n",
       "│            ┆            ┆           ┆        ┆   ┆ 区北八朔  ┆           ┆           ┆           │\n",
       "│            ┆            ┆           ┆        ┆   ┆ 町******* ┆           ┆           ┆           │\n",
       "│            ┆            ┆           ┆        ┆   ┆ ***       ┆           ┆           ┆           │\n",
       "│ CS00931500 ┆ 皆川 文世  ┆ 1         ┆ 女性   ┆ … ┆ 東京都世  ┆ S13009    ┆ 20150319  ┆ 5-2008032 │\n",
       "│ 0023       ┆            ┆           ┆        ┆   ┆ 田谷区駒  ┆           ┆           ┆ 2-1       │\n",
       "│            ┆            ┆           ┆        ┆   ┆ 沢******* ┆           ┆           ┆           │\n",
       "│            ┆            ┆           ┆        ┆   ┆ ***       ┆           ┆           ┆           │\n",
       "│ CS01531500 ┆ 福士       ┆ 1         ┆ 女性   ┆ … ┆ 東京都江  ┆ S13015    ┆ 20141024  ┆ 4-2008021 │\n",
       "│ 0033       ┆ 璃奈子     ┆           ┆        ┆   ┆ 東区塩浜* ┆           ┆           ┆ 9-3       │\n",
       "│            ┆            ┆           ┆        ┆   ┆ ********* ┆           ┆           ┆           │\n",
       "│ CS02351300 ┆ 神戸 そら  ┆ 1         ┆ 女性   ┆ … ┆ 神奈川県  ┆ S14023    ┆ 20150915  ┆ 5-2010052 │\n",
       "│ 0066       ┆            ┆           ┆        ┆   ┆ 川崎市川  ┆           ┆           ┆ 4-9       │\n",
       "│            ┆            ┆           ┆        ┆   ┆ 崎区東田  ┆           ┆           ┆           │\n",
       "│            ┆            ┆           ┆        ┆   ┆ 町******* ┆           ┆           ┆           │\n",
       "│            ┆            ┆           ┆        ┆   ┆ ***       ┆           ┆           ┆           │\n",
       "│ CS03551300 ┆ 市川 美帆  ┆ 1         ┆ 女性   ┆ … ┆ 東京都世  ┆ S13035    ┆ 20150227  ┆ 8-2010071 │\n",
       "│ 0134       ┆            ┆           ┆        ┆   ┆ 田谷区桜* ┆           ┆           ┆ 1-9       │\n",
       "│            ┆            ┆           ┆        ┆   ┆ ********* ┆           ┆           ┆           │\n",
       "│ CS00151500 ┆ 高松 夏空  ┆ 1         ┆ 女性   ┆ … ┆ 東京都大  ┆ S13001    ┆ 20160812  ┆ 1-2010080 │\n",
       "│ 0263       ┆            ┆           ┆        ┆   ┆ 田区西蒲  ┆           ┆           ┆ 4-1       │\n",
       "│            ┆            ┆           ┆        ┆   ┆ 田******* ┆           ┆           ┆           │\n",
       "│            ┆            ┆           ┆        ┆   ┆ ***       ┆           ┆           ┆           │\n",
       "│ CS04031400 ┆ 鶴田       ┆ 9         ┆ 不明   ┆ … ┆ 神奈川県  ┆ S14040    ┆ 20150122  ┆ 2-2008042 │\n",
       "│ 0027       ┆ きみまろ   ┆           ┆        ┆   ┆ 横浜市緑  ┆           ┆           ┆ 6-4       │\n",
       "│            ┆            ┆           ┆        ┆   ┆ 区長津田* ┆           ┆           ┆           │\n",
       "│            ┆            ┆           ┆        ┆   ┆ ********* ┆           ┆           ┆           │\n",
       "└────────────┴────────────┴───────────┴────────┴───┴───────────┴───────────┴───────────┴───────────┘"
      ]
     },
     "execution_count": 23,
     "metadata": {},
     "output_type": "execute_result"
    }
   ],
   "source": [
    "df_customer.filter(pl.col(\"status_cd\").str.contains(\"[1-9]$\")).head(10)"
   ]
  },
  {
   "cell_type": "markdown",
   "metadata": {},
   "source": [
    "---\n",
    "\n",
    "> P-015: 顧客データ（df_customer）から、ステータスコード（status_cd）の先頭がアルファベットの A〜F で始まり、末尾が数字の 1〜9 で終わるデータを全項目抽出し、10 件表示せよ。\n"
   ]
  },
  {
   "cell_type": "code",
   "execution_count": 25,
   "metadata": {},
   "outputs": [
    {
     "data": {
      "text/html": [
       "<div><style>\n",
       ".dataframe > thead > tr,\n",
       ".dataframe > tbody > tr {\n",
       "  text-align: right;\n",
       "  white-space: pre-wrap;\n",
       "}\n",
       "</style>\n",
       "<small>shape: (10, 11)</small><table border=\"1\" class=\"dataframe\"><thead><tr><th>customer_id</th><th>customer_name</th><th>gender_cd</th><th>gender</th><th>birth_day</th><th>age</th><th>postal_cd</th><th>address</th><th>application_store_cd</th><th>application_date</th><th>status_cd</th></tr><tr><td>str</td><td>str</td><td>i64</td><td>str</td><td>str</td><td>i64</td><td>str</td><td>str</td><td>str</td><td>i64</td><td>str</td></tr></thead><tbody><tr><td>&quot;CS011215000048&quot;</td><td>&quot;芦田 沙耶&quot;</td><td>1</td><td>&quot;女性&quot;</td><td>&quot;1992-02-01&quot;</td><td>27</td><td>&quot;223-0062&quot;</td><td>&quot;神奈川県横浜市港北区日吉本町**********&quot;</td><td>&quot;S14011&quot;</td><td>20150228</td><td>&quot;C-20100421-9&quot;</td></tr><tr><td>&quot;CS022513000105&quot;</td><td>&quot;島村 貴美子&quot;</td><td>1</td><td>&quot;女性&quot;</td><td>&quot;1962-03-12&quot;</td><td>57</td><td>&quot;249-0002&quot;</td><td>&quot;神奈川県逗子市山の根**********&quot;</td><td>&quot;S14022&quot;</td><td>20150320</td><td>&quot;A-20091115-7&quot;</td></tr><tr><td>&quot;CS001515000096&quot;</td><td>&quot;水野 陽子&quot;</td><td>9</td><td>&quot;不明&quot;</td><td>&quot;1960-11-29&quot;</td><td>58</td><td>&quot;144-0053&quot;</td><td>&quot;東京都大田区蒲田本町**********&quot;</td><td>&quot;S13001&quot;</td><td>20150614</td><td>&quot;A-20100724-7&quot;</td></tr><tr><td>&quot;CS013615000053&quot;</td><td>&quot;西脇 季衣&quot;</td><td>1</td><td>&quot;女性&quot;</td><td>&quot;1953-10-18&quot;</td><td>65</td><td>&quot;261-0026&quot;</td><td>&quot;千葉県千葉市美浜区幕張西**********&quot;</td><td>&quot;S12013&quot;</td><td>20150128</td><td>&quot;B-20100329-6&quot;</td></tr><tr><td>&quot;CS020412000161&quot;</td><td>&quot;小宮 薫&quot;</td><td>1</td><td>&quot;女性&quot;</td><td>&quot;1974-05-21&quot;</td><td>44</td><td>&quot;174-0042&quot;</td><td>&quot;東京都板橋区東坂下**********&quot;</td><td>&quot;S13020&quot;</td><td>20150822</td><td>&quot;B-20081021-3&quot;</td></tr><tr><td>&quot;CS001215000097&quot;</td><td>&quot;竹中 あさみ&quot;</td><td>1</td><td>&quot;女性&quot;</td><td>&quot;1990-07-25&quot;</td><td>28</td><td>&quot;146-0095&quot;</td><td>&quot;東京都大田区多摩川**********&quot;</td><td>&quot;S13001&quot;</td><td>20170315</td><td>&quot;A-20100211-2&quot;</td></tr><tr><td>&quot;CS035212000007&quot;</td><td>&quot;内村 恵梨香&quot;</td><td>1</td><td>&quot;女性&quot;</td><td>&quot;1990-12-04&quot;</td><td>28</td><td>&quot;152-0023&quot;</td><td>&quot;東京都目黒区八雲**********&quot;</td><td>&quot;S13035&quot;</td><td>20151013</td><td>&quot;B-20101018-6&quot;</td></tr><tr><td>&quot;CS002515000386&quot;</td><td>&quot;野田 コウ&quot;</td><td>1</td><td>&quot;女性&quot;</td><td>&quot;1963-05-30&quot;</td><td>55</td><td>&quot;185-0013&quot;</td><td>&quot;東京都国分寺市西恋ケ窪**********&quot;</td><td>&quot;S13002&quot;</td><td>20160410</td><td>&quot;C-20100127-8&quot;</td></tr><tr><td>&quot;CS001615000372&quot;</td><td>&quot;稲垣 寿々花&quot;</td><td>1</td><td>&quot;女性&quot;</td><td>&quot;1956-10-29&quot;</td><td>62</td><td>&quot;144-0035&quot;</td><td>&quot;東京都大田区南蒲田**********&quot;</td><td>&quot;S13001&quot;</td><td>20170403</td><td>&quot;A-20100104-1&quot;</td></tr><tr><td>&quot;CS032512000121&quot;</td><td>&quot;松井 知世&quot;</td><td>1</td><td>&quot;女性&quot;</td><td>&quot;1962-09-04&quot;</td><td>56</td><td>&quot;210-0011&quot;</td><td>&quot;神奈川県川崎市川崎区富士見**********&quot;</td><td>&quot;S13032&quot;</td><td>20150727</td><td>&quot;A-20100103-5&quot;</td></tr></tbody></table></div>"
      ],
      "text/plain": [
       "shape: (10, 11)\n",
       "┌────────────┬────────────┬───────────┬────────┬───┬───────────┬───────────┬───────────┬───────────┐\n",
       "│ customer_i ┆ customer_n ┆ gender_cd ┆ gender ┆ … ┆ address   ┆ applicati ┆ applicati ┆ status_cd │\n",
       "│ d          ┆ ame        ┆ ---       ┆ ---    ┆   ┆ ---       ┆ on_store_ ┆ on_date   ┆ ---       │\n",
       "│ ---        ┆ ---        ┆ i64       ┆ str    ┆   ┆ str       ┆ cd        ┆ ---       ┆ str       │\n",
       "│ str        ┆ str        ┆           ┆        ┆   ┆           ┆ ---       ┆ i64       ┆           │\n",
       "│            ┆            ┆           ┆        ┆   ┆           ┆ str       ┆           ┆           │\n",
       "╞════════════╪════════════╪═══════════╪════════╪═══╪═══════════╪═══════════╪═══════════╪═══════════╡\n",
       "│ CS01121500 ┆ 芦田 沙耶  ┆ 1         ┆ 女性   ┆ … ┆ 神奈川県  ┆ S14011    ┆ 20150228  ┆ C-2010042 │\n",
       "│ 0048       ┆            ┆           ┆        ┆   ┆ 横浜市港  ┆           ┆           ┆ 1-9       │\n",
       "│            ┆            ┆           ┆        ┆   ┆ 北区日吉  ┆           ┆           ┆           │\n",
       "│            ┆            ┆           ┆        ┆   ┆ 本町***** ┆           ┆           ┆           │\n",
       "│            ┆            ┆           ┆        ┆   ┆ *****     ┆           ┆           ┆           │\n",
       "│ CS02251300 ┆ 島村       ┆ 1         ┆ 女性   ┆ … ┆ 神奈川県  ┆ S14022    ┆ 20150320  ┆ A-2009111 │\n",
       "│ 0105       ┆ 貴美子     ┆           ┆        ┆   ┆ 逗子市山  ┆           ┆           ┆ 5-7       │\n",
       "│            ┆            ┆           ┆        ┆   ┆ の根***** ┆           ┆           ┆           │\n",
       "│            ┆            ┆           ┆        ┆   ┆ *****     ┆           ┆           ┆           │\n",
       "│ CS00151500 ┆ 水野 陽子  ┆ 9         ┆ 不明   ┆ … ┆ 東京都大  ┆ S13001    ┆ 20150614  ┆ A-2010072 │\n",
       "│ 0096       ┆            ┆           ┆        ┆   ┆ 田区蒲田  ┆           ┆           ┆ 4-7       │\n",
       "│            ┆            ┆           ┆        ┆   ┆ 本町***** ┆           ┆           ┆           │\n",
       "│            ┆            ┆           ┆        ┆   ┆ *****     ┆           ┆           ┆           │\n",
       "│ CS01361500 ┆ 西脇 季衣  ┆ 1         ┆ 女性   ┆ … ┆ 千葉県千  ┆ S12013    ┆ 20150128  ┆ B-2010032 │\n",
       "│ 0053       ┆            ┆           ┆        ┆   ┆ 葉市美浜  ┆           ┆           ┆ 9-6       │\n",
       "│            ┆            ┆           ┆        ┆   ┆ 区幕張西* ┆           ┆           ┆           │\n",
       "│            ┆            ┆           ┆        ┆   ┆ ********* ┆           ┆           ┆           │\n",
       "│ CS02041200 ┆ 小宮 薫    ┆ 1         ┆ 女性   ┆ … ┆ 東京都板  ┆ S13020    ┆ 20150822  ┆ B-2008102 │\n",
       "│ 0161       ┆            ┆           ┆        ┆   ┆ 橋区東坂  ┆           ┆           ┆ 1-3       │\n",
       "│            ┆            ┆           ┆        ┆   ┆ 下******* ┆           ┆           ┆           │\n",
       "│            ┆            ┆           ┆        ┆   ┆ ***       ┆           ┆           ┆           │\n",
       "│ CS00121500 ┆ 竹中       ┆ 1         ┆ 女性   ┆ … ┆ 東京都大  ┆ S13001    ┆ 20170315  ┆ A-2010021 │\n",
       "│ 0097       ┆ あさみ     ┆           ┆        ┆   ┆ 田区多摩  ┆           ┆           ┆ 1-2       │\n",
       "│            ┆            ┆           ┆        ┆   ┆ 川******* ┆           ┆           ┆           │\n",
       "│            ┆            ┆           ┆        ┆   ┆ ***       ┆           ┆           ┆           │\n",
       "│ CS03521200 ┆ 内村       ┆ 1         ┆ 女性   ┆ … ┆ 東京都目  ┆ S13035    ┆ 20151013  ┆ B-2010101 │\n",
       "│ 0007       ┆ 恵梨香     ┆           ┆        ┆   ┆ 黒区八雲* ┆           ┆           ┆ 8-6       │\n",
       "│            ┆            ┆           ┆        ┆   ┆ ********* ┆           ┆           ┆           │\n",
       "│ CS00251500 ┆ 野田 コウ  ┆ 1         ┆ 女性   ┆ … ┆ 東京都国  ┆ S13002    ┆ 20160410  ┆ C-2010012 │\n",
       "│ 0386       ┆            ┆           ┆        ┆   ┆ 分寺市西  ┆           ┆           ┆ 7-8       │\n",
       "│            ┆            ┆           ┆        ┆   ┆ 恋ケ窪*** ┆           ┆           ┆           │\n",
       "│            ┆            ┆           ┆        ┆   ┆ *******   ┆           ┆           ┆           │\n",
       "│ CS00161500 ┆ 稲垣       ┆ 1         ┆ 女性   ┆ … ┆ 東京都大  ┆ S13001    ┆ 20170403  ┆ A-2010010 │\n",
       "│ 0372       ┆ 寿々花     ┆           ┆        ┆   ┆ 田区南蒲  ┆           ┆           ┆ 4-1       │\n",
       "│            ┆            ┆           ┆        ┆   ┆ 田******* ┆           ┆           ┆           │\n",
       "│            ┆            ┆           ┆        ┆   ┆ ***       ┆           ┆           ┆           │\n",
       "│ CS03251200 ┆ 松井 知世  ┆ 1         ┆ 女性   ┆ … ┆ 神奈川県  ┆ S13032    ┆ 20150727  ┆ A-2010010 │\n",
       "│ 0121       ┆            ┆           ┆        ┆   ┆ 川崎市川  ┆           ┆           ┆ 3-5       │\n",
       "│            ┆            ┆           ┆        ┆   ┆ 崎区富士  ┆           ┆           ┆           │\n",
       "│            ┆            ┆           ┆        ┆   ┆ 見******* ┆           ┆           ┆           │\n",
       "│            ┆            ┆           ┆        ┆   ┆ ***       ┆           ┆           ┆           │\n",
       "└────────────┴────────────┴───────────┴────────┴───┴───────────┴───────────┴───────────┴───────────┘"
      ]
     },
     "execution_count": 25,
     "metadata": {},
     "output_type": "execute_result"
    }
   ],
   "source": [
    "df_customer.filter(pl.col(\"status_cd\").str.contains(\"^[A-F].*[1-9]$\")).head(10)"
   ]
  },
  {
   "cell_type": "markdown",
   "metadata": {},
   "source": [
    "---\n",
    "\n",
    "> P-016: 店舗データ（df_store）から、電話番号（tel_no）が 3 桁-3 桁-4 桁のデータを全項目表示せよ。\n"
   ]
  },
  {
   "cell_type": "code",
   "execution_count": 26,
   "metadata": {},
   "outputs": [
    {
     "data": {
      "text/html": [
       "<div><style>\n",
       ".dataframe > thead > tr,\n",
       ".dataframe > tbody > tr {\n",
       "  text-align: right;\n",
       "  white-space: pre-wrap;\n",
       "}\n",
       "</style>\n",
       "<small>shape: (34, 10)</small><table border=\"1\" class=\"dataframe\"><thead><tr><th>store_cd</th><th>store_name</th><th>prefecture_cd</th><th>prefecture</th><th>address</th><th>address_kana</th><th>tel_no</th><th>longitude</th><th>latitude</th><th>floor_area</th></tr><tr><td>str</td><td>str</td><td>i64</td><td>str</td><td>str</td><td>str</td><td>str</td><td>f64</td><td>f64</td><td>f64</td></tr></thead><tbody><tr><td>&quot;S12014&quot;</td><td>&quot;千草台店&quot;</td><td>12</td><td>&quot;千葉県&quot;</td><td>&quot;千葉県千葉市稲毛区千草台一丁目&quot;</td><td>&quot;チバケンチバシイナゲクチグサダイイッチョウメ&quot;</td><td>&quot;043-123-4003&quot;</td><td>140.118</td><td>35.63559</td><td>1698.0</td></tr><tr><td>&quot;S13002&quot;</td><td>&quot;国分寺店&quot;</td><td>13</td><td>&quot;東京都&quot;</td><td>&quot;東京都国分寺市本多二丁目&quot;</td><td>&quot;トウキョウトコクブンジシホンダニチョウメ&quot;</td><td>&quot;042-123-4008&quot;</td><td>139.4802</td><td>35.70566</td><td>1735.0</td></tr><tr><td>&quot;S14010&quot;</td><td>&quot;菊名店&quot;</td><td>14</td><td>&quot;神奈川県&quot;</td><td>&quot;神奈川県横浜市港北区菊名一丁目&quot;</td><td>&quot;カナガワケンヨコハマシコウホククキクナイッチョウメ&quot;</td><td>&quot;045-123-4032&quot;</td><td>139.6326</td><td>35.50049</td><td>1732.0</td></tr><tr><td>&quot;S14033&quot;</td><td>&quot;阿久和店&quot;</td><td>14</td><td>&quot;神奈川県&quot;</td><td>&quot;神奈川県横浜市瀬谷区阿久和西一丁目&quot;</td><td>&quot;カナガワケンヨコハマシセヤクアクワニシイッチョウメ&quot;</td><td>&quot;045-123-4043&quot;</td><td>139.4961</td><td>35.45918</td><td>1495.0</td></tr><tr><td>&quot;S14036&quot;</td><td>&quot;相模原中央店&quot;</td><td>14</td><td>&quot;神奈川県&quot;</td><td>&quot;神奈川県相模原市中央二丁目&quot;</td><td>&quot;カナガワケンサガミハラシチュウオウニチョウメ&quot;</td><td>&quot;042-123-4045&quot;</td><td>139.3716</td><td>35.57327</td><td>1679.0</td></tr><tr><td>&hellip;</td><td>&hellip;</td><td>&hellip;</td><td>&hellip;</td><td>&hellip;</td><td>&hellip;</td><td>&hellip;</td><td>&hellip;</td><td>&hellip;</td><td>&hellip;</td></tr><tr><td>&quot;S14045&quot;</td><td>&quot;厚木店&quot;</td><td>14</td><td>&quot;神奈川県&quot;</td><td>&quot;神奈川県厚木市中町二丁目&quot;</td><td>&quot;カナガワケンアツギシナカチョウニチョウメ&quot;</td><td>&quot;046-123-4048&quot;</td><td>139.3651</td><td>35.44182</td><td>980.0</td></tr><tr><td>&quot;S12029&quot;</td><td>&quot;東野店&quot;</td><td>12</td><td>&quot;千葉県&quot;</td><td>&quot;千葉県浦安市東野一丁目&quot;</td><td>&quot;チバケンウラヤスシヒガシノイッチョウメ&quot;</td><td>&quot;047-123-4004&quot;</td><td>139.8968</td><td>35.65086</td><td>1101.0</td></tr><tr><td>&quot;S12053&quot;</td><td>&quot;高洲店&quot;</td><td>12</td><td>&quot;千葉県&quot;</td><td>&quot;千葉県浦安市高洲五丁目&quot;</td><td>&quot;チバケンウラヤスシタカスゴチョウメ&quot;</td><td>&quot;047-123-4006&quot;</td><td>139.9176</td><td>35.63755</td><td>1555.0</td></tr><tr><td>&quot;S14024&quot;</td><td>&quot;三田店&quot;</td><td>14</td><td>&quot;神奈川県&quot;</td><td>&quot;神奈川県川崎市多摩区三田四丁目&quot;</td><td>&quot;カナガワケンカワサキシタマクミタヨンチョウメ&quot;</td><td>&quot;044-123-4038&quot;</td><td>139.5424</td><td>35.6077</td><td>972.0</td></tr><tr><td>&quot;S14006&quot;</td><td>&quot;葛が谷店&quot;</td><td>14</td><td>&quot;神奈川県&quot;</td><td>&quot;神奈川県横浜市都筑区葛が谷&quot;</td><td>&quot;カナガワケンヨコハマシツヅキククズガヤ&quot;</td><td>&quot;045-123-4031&quot;</td><td>139.5633</td><td>35.53573</td><td>1886.0</td></tr></tbody></table></div>"
      ],
      "text/plain": [
       "shape: (34, 10)\n",
       "┌──────────┬────────────┬───────────┬───────────┬───┬───────────┬───────────┬──────────┬───────────┐\n",
       "│ store_cd ┆ store_name ┆ prefectur ┆ prefectur ┆ … ┆ tel_no    ┆ longitude ┆ latitude ┆ floor_are │\n",
       "│ ---      ┆ ---        ┆ e_cd      ┆ e         ┆   ┆ ---       ┆ ---       ┆ ---      ┆ a         │\n",
       "│ str      ┆ str        ┆ ---       ┆ ---       ┆   ┆ str       ┆ f64       ┆ f64      ┆ ---       │\n",
       "│          ┆            ┆ i64       ┆ str       ┆   ┆           ┆           ┆          ┆ f64       │\n",
       "╞══════════╪════════════╪═══════════╪═══════════╪═══╪═══════════╪═══════════╪══════════╪═══════════╡\n",
       "│ S12014   ┆ 千草台店   ┆ 12        ┆ 千葉県    ┆ … ┆ 043-123-4 ┆ 140.118   ┆ 35.63559 ┆ 1698.0    │\n",
       "│          ┆            ┆           ┆           ┆   ┆ 003       ┆           ┆          ┆           │\n",
       "│ S13002   ┆ 国分寺店   ┆ 13        ┆ 東京都    ┆ … ┆ 042-123-4 ┆ 139.4802  ┆ 35.70566 ┆ 1735.0    │\n",
       "│          ┆            ┆           ┆           ┆   ┆ 008       ┆           ┆          ┆           │\n",
       "│ S14010   ┆ 菊名店     ┆ 14        ┆ 神奈川県  ┆ … ┆ 045-123-4 ┆ 139.6326  ┆ 35.50049 ┆ 1732.0    │\n",
       "│          ┆            ┆           ┆           ┆   ┆ 032       ┆           ┆          ┆           │\n",
       "│ S14033   ┆ 阿久和店   ┆ 14        ┆ 神奈川県  ┆ … ┆ 045-123-4 ┆ 139.4961  ┆ 35.45918 ┆ 1495.0    │\n",
       "│          ┆            ┆           ┆           ┆   ┆ 043       ┆           ┆          ┆           │\n",
       "│ S14036   ┆ 相模原中央 ┆ 14        ┆ 神奈川県  ┆ … ┆ 042-123-4 ┆ 139.3716  ┆ 35.57327 ┆ 1679.0    │\n",
       "│          ┆ 店         ┆           ┆           ┆   ┆ 045       ┆           ┆          ┆           │\n",
       "│ …        ┆ …          ┆ …         ┆ …         ┆ … ┆ …         ┆ …         ┆ …        ┆ …         │\n",
       "│ S14045   ┆ 厚木店     ┆ 14        ┆ 神奈川県  ┆ … ┆ 046-123-4 ┆ 139.3651  ┆ 35.44182 ┆ 980.0     │\n",
       "│          ┆            ┆           ┆           ┆   ┆ 048       ┆           ┆          ┆           │\n",
       "│ S12029   ┆ 東野店     ┆ 12        ┆ 千葉県    ┆ … ┆ 047-123-4 ┆ 139.8968  ┆ 35.65086 ┆ 1101.0    │\n",
       "│          ┆            ┆           ┆           ┆   ┆ 004       ┆           ┆          ┆           │\n",
       "│ S12053   ┆ 高洲店     ┆ 12        ┆ 千葉県    ┆ … ┆ 047-123-4 ┆ 139.9176  ┆ 35.63755 ┆ 1555.0    │\n",
       "│          ┆            ┆           ┆           ┆   ┆ 006       ┆           ┆          ┆           │\n",
       "│ S14024   ┆ 三田店     ┆ 14        ┆ 神奈川県  ┆ … ┆ 044-123-4 ┆ 139.5424  ┆ 35.6077  ┆ 972.0     │\n",
       "│          ┆            ┆           ┆           ┆   ┆ 038       ┆           ┆          ┆           │\n",
       "│ S14006   ┆ 葛が谷店   ┆ 14        ┆ 神奈川県  ┆ … ┆ 045-123-4 ┆ 139.5633  ┆ 35.53573 ┆ 1886.0    │\n",
       "│          ┆            ┆           ┆           ┆   ┆ 031       ┆           ┆          ┆           │\n",
       "└──────────┴────────────┴───────────┴───────────┴───┴───────────┴───────────┴──────────┴───────────┘"
      ]
     },
     "execution_count": 26,
     "metadata": {},
     "output_type": "execute_result"
    }
   ],
   "source": [
    "df_store.filter(pl.col(\"tel_no\").str.contains(r\"^\\d{3}-\\d{3}-\\d{4}$\"))"
   ]
  },
  {
   "cell_type": "markdown",
   "metadata": {},
   "source": [
    "---\n",
    "\n",
    "> P-017: 顧客データ（df_customer）を生年月日（birth_day）で高齢順にソートし、先頭から全項目を 10 件表示せよ。\n"
   ]
  },
  {
   "cell_type": "code",
   "execution_count": 29,
   "metadata": {},
   "outputs": [
    {
     "data": {
      "text/html": [
       "<div><style>\n",
       ".dataframe > thead > tr,\n",
       ".dataframe > tbody > tr {\n",
       "  text-align: right;\n",
       "  white-space: pre-wrap;\n",
       "}\n",
       "</style>\n",
       "<small>shape: (10, 11)</small><table border=\"1\" class=\"dataframe\"><thead><tr><th>customer_id</th><th>customer_name</th><th>gender_cd</th><th>gender</th><th>birth_day</th><th>age</th><th>postal_cd</th><th>address</th><th>application_store_cd</th><th>application_date</th><th>status_cd</th></tr><tr><td>str</td><td>str</td><td>i64</td><td>str</td><td>str</td><td>i64</td><td>str</td><td>str</td><td>str</td><td>i64</td><td>str</td></tr></thead><tbody><tr><td>&quot;CS003813000014&quot;</td><td>&quot;村山 菜々美&quot;</td><td>1</td><td>&quot;女性&quot;</td><td>&quot;1928-11-26&quot;</td><td>90</td><td>&quot;182-0007&quot;</td><td>&quot;東京都調布市菊野台**********&quot;</td><td>&quot;S13003&quot;</td><td>20160214</td><td>&quot;0-00000000-0&quot;</td></tr><tr><td>&quot;CS026813000004&quot;</td><td>&quot;吉村 朝陽&quot;</td><td>1</td><td>&quot;女性&quot;</td><td>&quot;1928-12-14&quot;</td><td>90</td><td>&quot;251-0043&quot;</td><td>&quot;神奈川県藤沢市辻堂元町**********&quot;</td><td>&quot;S14026&quot;</td><td>20150723</td><td>&quot;0-00000000-0&quot;</td></tr><tr><td>&quot;CS018811000003&quot;</td><td>&quot;熊沢 美里&quot;</td><td>1</td><td>&quot;女性&quot;</td><td>&quot;1929-01-07&quot;</td><td>90</td><td>&quot;204-0004&quot;</td><td>&quot;東京都清瀬市野塩**********&quot;</td><td>&quot;S13018&quot;</td><td>20150403</td><td>&quot;0-00000000-0&quot;</td></tr><tr><td>&quot;CS027803000004&quot;</td><td>&quot;内村 拓郎&quot;</td><td>0</td><td>&quot;男性&quot;</td><td>&quot;1929-01-12&quot;</td><td>90</td><td>&quot;251-0031&quot;</td><td>&quot;神奈川県藤沢市鵠沼藤が谷**********&quot;</td><td>&quot;S14027&quot;</td><td>20151227</td><td>&quot;0-00000000-0&quot;</td></tr><tr><td>&quot;CS013801000003&quot;</td><td>&quot;天野 拓郎&quot;</td><td>0</td><td>&quot;男性&quot;</td><td>&quot;1929-01-15&quot;</td><td>90</td><td>&quot;274-0824&quot;</td><td>&quot;千葉県船橋市前原東**********&quot;</td><td>&quot;S12013&quot;</td><td>20160120</td><td>&quot;0-00000000-0&quot;</td></tr><tr><td>&quot;CS001814000022&quot;</td><td>&quot;鶴田 里穂&quot;</td><td>1</td><td>&quot;女性&quot;</td><td>&quot;1929-01-28&quot;</td><td>90</td><td>&quot;144-0045&quot;</td><td>&quot;東京都大田区南六郷**********&quot;</td><td>&quot;S13001&quot;</td><td>20161012</td><td>&quot;A-20090415-7&quot;</td></tr><tr><td>&quot;CS016815000002&quot;</td><td>&quot;山元 美紀&quot;</td><td>1</td><td>&quot;女性&quot;</td><td>&quot;1929-02-22&quot;</td><td>90</td><td>&quot;184-0005&quot;</td><td>&quot;東京都小金井市桜町**********&quot;</td><td>&quot;S13016&quot;</td><td>20150629</td><td>&quot;C-20090923-C&quot;</td></tr><tr><td>&quot;CS009815000003&quot;</td><td>&quot;中田 里穂&quot;</td><td>1</td><td>&quot;女性&quot;</td><td>&quot;1929-04-08&quot;</td><td>89</td><td>&quot;154-0014&quot;</td><td>&quot;東京都世田谷区新町**********&quot;</td><td>&quot;S13009&quot;</td><td>20150421</td><td>&quot;D-20091021-E&quot;</td></tr><tr><td>&quot;CS012813000013&quot;</td><td>&quot;宇野 南朋&quot;</td><td>1</td><td>&quot;女性&quot;</td><td>&quot;1929-04-09&quot;</td><td>89</td><td>&quot;231-0806&quot;</td><td>&quot;神奈川県横浜市中区本牧町**********&quot;</td><td>&quot;S14012&quot;</td><td>20150712</td><td>&quot;0-00000000-0&quot;</td></tr><tr><td>&quot;CS005813000015&quot;</td><td>&quot;金谷 恵梨香&quot;</td><td>1</td><td>&quot;女性&quot;</td><td>&quot;1929-04-09&quot;</td><td>89</td><td>&quot;165-0032&quot;</td><td>&quot;東京都中野区鷺宮**********&quot;</td><td>&quot;S13005&quot;</td><td>20150506</td><td>&quot;0-00000000-0&quot;</td></tr></tbody></table></div>"
      ],
      "text/plain": [
       "shape: (10, 11)\n",
       "┌────────────┬────────────┬───────────┬────────┬───┬───────────┬───────────┬───────────┬───────────┐\n",
       "│ customer_i ┆ customer_n ┆ gender_cd ┆ gender ┆ … ┆ address   ┆ applicati ┆ applicati ┆ status_cd │\n",
       "│ d          ┆ ame        ┆ ---       ┆ ---    ┆   ┆ ---       ┆ on_store_ ┆ on_date   ┆ ---       │\n",
       "│ ---        ┆ ---        ┆ i64       ┆ str    ┆   ┆ str       ┆ cd        ┆ ---       ┆ str       │\n",
       "│ str        ┆ str        ┆           ┆        ┆   ┆           ┆ ---       ┆ i64       ┆           │\n",
       "│            ┆            ┆           ┆        ┆   ┆           ┆ str       ┆           ┆           │\n",
       "╞════════════╪════════════╪═══════════╪════════╪═══╪═══════════╪═══════════╪═══════════╪═══════════╡\n",
       "│ CS00381300 ┆ 村山       ┆ 1         ┆ 女性   ┆ … ┆ 東京都調  ┆ S13003    ┆ 20160214  ┆ 0-0000000 │\n",
       "│ 0014       ┆ 菜々美     ┆           ┆        ┆   ┆ 布市菊野  ┆           ┆           ┆ 0-0       │\n",
       "│            ┆            ┆           ┆        ┆   ┆ 台******* ┆           ┆           ┆           │\n",
       "│            ┆            ┆           ┆        ┆   ┆ ***       ┆           ┆           ┆           │\n",
       "│ CS02681300 ┆ 吉村 朝陽  ┆ 1         ┆ 女性   ┆ … ┆ 神奈川県  ┆ S14026    ┆ 20150723  ┆ 0-0000000 │\n",
       "│ 0004       ┆            ┆           ┆        ┆   ┆ 藤沢市辻  ┆           ┆           ┆ 0-0       │\n",
       "│            ┆            ┆           ┆        ┆   ┆ 堂元町*** ┆           ┆           ┆           │\n",
       "│            ┆            ┆           ┆        ┆   ┆ *******   ┆           ┆           ┆           │\n",
       "│ CS01881100 ┆ 熊沢 美里  ┆ 1         ┆ 女性   ┆ … ┆ 東京都清  ┆ S13018    ┆ 20150403  ┆ 0-0000000 │\n",
       "│ 0003       ┆            ┆           ┆        ┆   ┆ 瀬市野塩* ┆           ┆           ┆ 0-0       │\n",
       "│            ┆            ┆           ┆        ┆   ┆ ********* ┆           ┆           ┆           │\n",
       "│ CS02780300 ┆ 内村 拓郎  ┆ 0         ┆ 男性   ┆ … ┆ 神奈川県  ┆ S14027    ┆ 20151227  ┆ 0-0000000 │\n",
       "│ 0004       ┆            ┆           ┆        ┆   ┆ 藤沢市鵠  ┆           ┆           ┆ 0-0       │\n",
       "│            ┆            ┆           ┆        ┆   ┆ 沼藤が谷* ┆           ┆           ┆           │\n",
       "│            ┆            ┆           ┆        ┆   ┆ ********* ┆           ┆           ┆           │\n",
       "│ CS01380100 ┆ 天野 拓郎  ┆ 0         ┆ 男性   ┆ … ┆ 千葉県船  ┆ S12013    ┆ 20160120  ┆ 0-0000000 │\n",
       "│ 0003       ┆            ┆           ┆        ┆   ┆ 橋市前原  ┆           ┆           ┆ 0-0       │\n",
       "│            ┆            ┆           ┆        ┆   ┆ 東******* ┆           ┆           ┆           │\n",
       "│            ┆            ┆           ┆        ┆   ┆ ***       ┆           ┆           ┆           │\n",
       "│ CS00181400 ┆ 鶴田 里穂  ┆ 1         ┆ 女性   ┆ … ┆ 東京都大  ┆ S13001    ┆ 20161012  ┆ A-2009041 │\n",
       "│ 0022       ┆            ┆           ┆        ┆   ┆ 田区南六  ┆           ┆           ┆ 5-7       │\n",
       "│            ┆            ┆           ┆        ┆   ┆ 郷******* ┆           ┆           ┆           │\n",
       "│            ┆            ┆           ┆        ┆   ┆ ***       ┆           ┆           ┆           │\n",
       "│ CS01681500 ┆ 山元 美紀  ┆ 1         ┆ 女性   ┆ … ┆ 東京都小  ┆ S13016    ┆ 20150629  ┆ C-2009092 │\n",
       "│ 0002       ┆            ┆           ┆        ┆   ┆ 金井市桜  ┆           ┆           ┆ 3-C       │\n",
       "│            ┆            ┆           ┆        ┆   ┆ 町******* ┆           ┆           ┆           │\n",
       "│            ┆            ┆           ┆        ┆   ┆ ***       ┆           ┆           ┆           │\n",
       "│ CS00981500 ┆ 中田 里穂  ┆ 1         ┆ 女性   ┆ … ┆ 東京都世  ┆ S13009    ┆ 20150421  ┆ D-2009102 │\n",
       "│ 0003       ┆            ┆           ┆        ┆   ┆ 田谷区新  ┆           ┆           ┆ 1-E       │\n",
       "│            ┆            ┆           ┆        ┆   ┆ 町******* ┆           ┆           ┆           │\n",
       "│            ┆            ┆           ┆        ┆   ┆ ***       ┆           ┆           ┆           │\n",
       "│ CS01281300 ┆ 宇野 南朋  ┆ 1         ┆ 女性   ┆ … ┆ 神奈川県  ┆ S14012    ┆ 20150712  ┆ 0-0000000 │\n",
       "│ 0013       ┆            ┆           ┆        ┆   ┆ 横浜市中  ┆           ┆           ┆ 0-0       │\n",
       "│            ┆            ┆           ┆        ┆   ┆ 区本牧町* ┆           ┆           ┆           │\n",
       "│            ┆            ┆           ┆        ┆   ┆ ********* ┆           ┆           ┆           │\n",
       "│ CS00581300 ┆ 金谷       ┆ 1         ┆ 女性   ┆ … ┆ 東京都中  ┆ S13005    ┆ 20150506  ┆ 0-0000000 │\n",
       "│ 0015       ┆ 恵梨香     ┆           ┆        ┆   ┆ 野区鷺宮* ┆           ┆           ┆ 0-0       │\n",
       "│            ┆            ┆           ┆        ┆   ┆ ********* ┆           ┆           ┆           │\n",
       "└────────────┴────────────┴───────────┴────────┴───┴───────────┴───────────┴───────────┴───────────┘"
      ]
     },
     "execution_count": 29,
     "metadata": {},
     "output_type": "execute_result"
    }
   ],
   "source": [
    "df_customer.sort(\"birth_day\").head(10)"
   ]
  },
  {
   "cell_type": "markdown",
   "metadata": {},
   "source": [
    "---\n",
    "\n",
    "> P-018: 顧客データ（df_customer）を生年月日（birth_day）で若い順にソートし、先頭から全項目を 10 件表示せよ。\n"
   ]
  },
  {
   "cell_type": "code",
   "execution_count": 31,
   "metadata": {},
   "outputs": [
    {
     "data": {
      "text/html": [
       "<div><style>\n",
       ".dataframe > thead > tr,\n",
       ".dataframe > tbody > tr {\n",
       "  text-align: right;\n",
       "  white-space: pre-wrap;\n",
       "}\n",
       "</style>\n",
       "<small>shape: (10, 11)</small><table border=\"1\" class=\"dataframe\"><thead><tr><th>customer_id</th><th>customer_name</th><th>gender_cd</th><th>gender</th><th>birth_day</th><th>age</th><th>postal_cd</th><th>address</th><th>application_store_cd</th><th>application_date</th><th>status_cd</th></tr><tr><td>str</td><td>str</td><td>i64</td><td>str</td><td>str</td><td>i64</td><td>str</td><td>str</td><td>str</td><td>i64</td><td>str</td></tr></thead><tbody><tr><td>&quot;CS035114000004&quot;</td><td>&quot;大村 美里&quot;</td><td>1</td><td>&quot;女性&quot;</td><td>&quot;2007-11-25&quot;</td><td>11</td><td>&quot;156-0053&quot;</td><td>&quot;東京都世田谷区桜**********&quot;</td><td>&quot;S13035&quot;</td><td>20150619</td><td>&quot;6-20091205-6&quot;</td></tr><tr><td>&quot;CS022103000002&quot;</td><td>&quot;福山 はじめ&quot;</td><td>9</td><td>&quot;不明&quot;</td><td>&quot;2007-10-02&quot;</td><td>11</td><td>&quot;249-0006&quot;</td><td>&quot;神奈川県逗子市逗子**********&quot;</td><td>&quot;S14022&quot;</td><td>20160909</td><td>&quot;0-00000000-0&quot;</td></tr><tr><td>&quot;CS002113000009&quot;</td><td>&quot;柴田 真悠子&quot;</td><td>1</td><td>&quot;女性&quot;</td><td>&quot;2007-09-17&quot;</td><td>11</td><td>&quot;184-0014&quot;</td><td>&quot;東京都小金井市貫井南町**********&quot;</td><td>&quot;S13002&quot;</td><td>20160304</td><td>&quot;0-00000000-0&quot;</td></tr><tr><td>&quot;CS004115000014&quot;</td><td>&quot;松井 京子&quot;</td><td>1</td><td>&quot;女性&quot;</td><td>&quot;2007-08-09&quot;</td><td>11</td><td>&quot;165-0031&quot;</td><td>&quot;東京都中野区上鷺宮**********&quot;</td><td>&quot;S13004&quot;</td><td>20161120</td><td>&quot;1-20081231-1&quot;</td></tr><tr><td>&quot;CS002114000010&quot;</td><td>&quot;山内 遥&quot;</td><td>1</td><td>&quot;女性&quot;</td><td>&quot;2007-06-03&quot;</td><td>11</td><td>&quot;184-0015&quot;</td><td>&quot;東京都小金井市貫井北町**********&quot;</td><td>&quot;S13002&quot;</td><td>20160920</td><td>&quot;6-20100510-1&quot;</td></tr><tr><td>&quot;CS025115000002&quot;</td><td>&quot;小柳 夏希&quot;</td><td>1</td><td>&quot;女性&quot;</td><td>&quot;2007-04-18&quot;</td><td>11</td><td>&quot;245-0018&quot;</td><td>&quot;神奈川県横浜市泉区上飯田町**********&quot;</td><td>&quot;S14025&quot;</td><td>20160116</td><td>&quot;D-20100913-D&quot;</td></tr><tr><td>&quot;CS002113000025&quot;</td><td>&quot;広末 まなみ&quot;</td><td>1</td><td>&quot;女性&quot;</td><td>&quot;2007-03-30&quot;</td><td>12</td><td>&quot;184-0015&quot;</td><td>&quot;東京都小金井市貫井北町**********&quot;</td><td>&quot;S13002&quot;</td><td>20171030</td><td>&quot;0-00000000-0&quot;</td></tr><tr><td>&quot;CS033112000003&quot;</td><td>&quot;長野 美紀&quot;</td><td>1</td><td>&quot;女性&quot;</td><td>&quot;2007-03-22&quot;</td><td>12</td><td>&quot;245-0051&quot;</td><td>&quot;神奈川県横浜市戸塚区名瀬町**********&quot;</td><td>&quot;S14033&quot;</td><td>20150606</td><td>&quot;0-00000000-0&quot;</td></tr><tr><td>&quot;CS007115000006&quot;</td><td>&quot;福岡 瞬&quot;</td><td>1</td><td>&quot;女性&quot;</td><td>&quot;2007-03-10&quot;</td><td>12</td><td>&quot;285-0845&quot;</td><td>&quot;千葉県佐倉市西志津**********&quot;</td><td>&quot;S12007&quot;</td><td>20151118</td><td>&quot;F-20101016-F&quot;</td></tr><tr><td>&quot;CS014113000008&quot;</td><td>&quot;矢口 莉緒&quot;</td><td>1</td><td>&quot;女性&quot;</td><td>&quot;2007-03-05&quot;</td><td>12</td><td>&quot;260-0041&quot;</td><td>&quot;千葉県千葉市中央区東千葉**********&quot;</td><td>&quot;S12014&quot;</td><td>20150622</td><td>&quot;3-20091108-6&quot;</td></tr></tbody></table></div>"
      ],
      "text/plain": [
       "shape: (10, 11)\n",
       "┌────────────┬────────────┬───────────┬────────┬───┬───────────┬───────────┬───────────┬───────────┐\n",
       "│ customer_i ┆ customer_n ┆ gender_cd ┆ gender ┆ … ┆ address   ┆ applicati ┆ applicati ┆ status_cd │\n",
       "│ d          ┆ ame        ┆ ---       ┆ ---    ┆   ┆ ---       ┆ on_store_ ┆ on_date   ┆ ---       │\n",
       "│ ---        ┆ ---        ┆ i64       ┆ str    ┆   ┆ str       ┆ cd        ┆ ---       ┆ str       │\n",
       "│ str        ┆ str        ┆           ┆        ┆   ┆           ┆ ---       ┆ i64       ┆           │\n",
       "│            ┆            ┆           ┆        ┆   ┆           ┆ str       ┆           ┆           │\n",
       "╞════════════╪════════════╪═══════════╪════════╪═══╪═══════════╪═══════════╪═══════════╪═══════════╡\n",
       "│ CS03511400 ┆ 大村 美里  ┆ 1         ┆ 女性   ┆ … ┆ 東京都世  ┆ S13035    ┆ 20150619  ┆ 6-2009120 │\n",
       "│ 0004       ┆            ┆           ┆        ┆   ┆ 田谷区桜* ┆           ┆           ┆ 5-6       │\n",
       "│            ┆            ┆           ┆        ┆   ┆ ********* ┆           ┆           ┆           │\n",
       "│ CS02210300 ┆ 福山       ┆ 9         ┆ 不明   ┆ … ┆ 神奈川県  ┆ S14022    ┆ 20160909  ┆ 0-0000000 │\n",
       "│ 0002       ┆ はじめ     ┆           ┆        ┆   ┆ 逗子市逗  ┆           ┆           ┆ 0-0       │\n",
       "│            ┆            ┆           ┆        ┆   ┆ 子******* ┆           ┆           ┆           │\n",
       "│            ┆            ┆           ┆        ┆   ┆ ***       ┆           ┆           ┆           │\n",
       "│ CS00211300 ┆ 柴田       ┆ 1         ┆ 女性   ┆ … ┆ 東京都小  ┆ S13002    ┆ 20160304  ┆ 0-0000000 │\n",
       "│ 0009       ┆ 真悠子     ┆           ┆        ┆   ┆ 金井市貫  ┆           ┆           ┆ 0-0       │\n",
       "│            ┆            ┆           ┆        ┆   ┆ 井南町*** ┆           ┆           ┆           │\n",
       "│            ┆            ┆           ┆        ┆   ┆ *******   ┆           ┆           ┆           │\n",
       "│ CS00411500 ┆ 松井 京子  ┆ 1         ┆ 女性   ┆ … ┆ 東京都中  ┆ S13004    ┆ 20161120  ┆ 1-2008123 │\n",
       "│ 0014       ┆            ┆           ┆        ┆   ┆ 野区上鷺  ┆           ┆           ┆ 1-1       │\n",
       "│            ┆            ┆           ┆        ┆   ┆ 宮******* ┆           ┆           ┆           │\n",
       "│            ┆            ┆           ┆        ┆   ┆ ***       ┆           ┆           ┆           │\n",
       "│ CS00211400 ┆ 山内 遥    ┆ 1         ┆ 女性   ┆ … ┆ 東京都小  ┆ S13002    ┆ 20160920  ┆ 6-2010051 │\n",
       "│ 0010       ┆            ┆           ┆        ┆   ┆ 金井市貫  ┆           ┆           ┆ 0-1       │\n",
       "│            ┆            ┆           ┆        ┆   ┆ 井北町*** ┆           ┆           ┆           │\n",
       "│            ┆            ┆           ┆        ┆   ┆ *******   ┆           ┆           ┆           │\n",
       "│ CS02511500 ┆ 小柳 夏希  ┆ 1         ┆ 女性   ┆ … ┆ 神奈川県  ┆ S14025    ┆ 20160116  ┆ D-2010091 │\n",
       "│ 0002       ┆            ┆           ┆        ┆   ┆ 横浜市泉  ┆           ┆           ┆ 3-D       │\n",
       "│            ┆            ┆           ┆        ┆   ┆ 区上飯田  ┆           ┆           ┆           │\n",
       "│            ┆            ┆           ┆        ┆   ┆ 町******* ┆           ┆           ┆           │\n",
       "│            ┆            ┆           ┆        ┆   ┆ ***       ┆           ┆           ┆           │\n",
       "│ CS00211300 ┆ 広末       ┆ 1         ┆ 女性   ┆ … ┆ 東京都小  ┆ S13002    ┆ 20171030  ┆ 0-0000000 │\n",
       "│ 0025       ┆ まなみ     ┆           ┆        ┆   ┆ 金井市貫  ┆           ┆           ┆ 0-0       │\n",
       "│            ┆            ┆           ┆        ┆   ┆ 井北町*** ┆           ┆           ┆           │\n",
       "│            ┆            ┆           ┆        ┆   ┆ *******   ┆           ┆           ┆           │\n",
       "│ CS03311200 ┆ 長野 美紀  ┆ 1         ┆ 女性   ┆ … ┆ 神奈川県  ┆ S14033    ┆ 20150606  ┆ 0-0000000 │\n",
       "│ 0003       ┆            ┆           ┆        ┆   ┆ 横浜市戸  ┆           ┆           ┆ 0-0       │\n",
       "│            ┆            ┆           ┆        ┆   ┆ 塚区名瀬  ┆           ┆           ┆           │\n",
       "│            ┆            ┆           ┆        ┆   ┆ 町******* ┆           ┆           ┆           │\n",
       "│            ┆            ┆           ┆        ┆   ┆ ***       ┆           ┆           ┆           │\n",
       "│ CS00711500 ┆ 福岡 瞬    ┆ 1         ┆ 女性   ┆ … ┆ 千葉県佐  ┆ S12007    ┆ 20151118  ┆ F-2010101 │\n",
       "│ 0006       ┆            ┆           ┆        ┆   ┆ 倉市西志  ┆           ┆           ┆ 6-F       │\n",
       "│            ┆            ┆           ┆        ┆   ┆ 津******* ┆           ┆           ┆           │\n",
       "│            ┆            ┆           ┆        ┆   ┆ ***       ┆           ┆           ┆           │\n",
       "│ CS01411300 ┆ 矢口 莉緒  ┆ 1         ┆ 女性   ┆ … ┆ 千葉県千  ┆ S12014    ┆ 20150622  ┆ 3-2009110 │\n",
       "│ 0008       ┆            ┆           ┆        ┆   ┆ 葉市中央  ┆           ┆           ┆ 8-6       │\n",
       "│            ┆            ┆           ┆        ┆   ┆ 区東千葉* ┆           ┆           ┆           │\n",
       "│            ┆            ┆           ┆        ┆   ┆ ********* ┆           ┆           ┆           │\n",
       "└────────────┴────────────┴───────────┴────────┴───┴───────────┴───────────┴───────────┴───────────┘"
      ]
     },
     "execution_count": 31,
     "metadata": {},
     "output_type": "execute_result"
    }
   ],
   "source": [
    "df_customer.sort(\"birth_day\", descending=True).head(10)"
   ]
  },
  {
   "cell_type": "markdown",
   "metadata": {},
   "source": [
    "---\n",
    "\n",
    "> P-019: レシート明細データ（df_receipt）に対し、1 件あたりの売上金額（amount）が高い順にランクを付与し、先頭から 10 件表示せよ。項目は顧客 ID（customer_id）、売上金額（amount）、付与したランクを表示させること。なお、売上金額（amount）が等しい場合は同一順位を付与するものとする。\n"
   ]
  },
  {
   "cell_type": "code",
   "execution_count": 40,
   "metadata": {},
   "outputs": [
    {
     "data": {
      "text/html": [
       "<div><style>\n",
       ".dataframe > thead > tr,\n",
       ".dataframe > tbody > tr {\n",
       "  text-align: right;\n",
       "  white-space: pre-wrap;\n",
       "}\n",
       "</style>\n",
       "<small>shape: (10, 3)</small><table border=\"1\" class=\"dataframe\"><thead><tr><th>customer_id</th><th>amount</th><th>amount_rank</th></tr><tr><td>str</td><td>i64</td><td>u32</td></tr></thead><tbody><tr><td>&quot;CS011415000006&quot;</td><td>10925</td><td>1</td></tr><tr><td>&quot;ZZ000000000000&quot;</td><td>6800</td><td>2</td></tr><tr><td>&quot;CS028605000002&quot;</td><td>5780</td><td>3</td></tr><tr><td>&quot;CS015515000034&quot;</td><td>5480</td><td>4</td></tr><tr><td>&quot;ZZ000000000000&quot;</td><td>5480</td><td>4</td></tr><tr><td>&quot;ZZ000000000000&quot;</td><td>5480</td><td>4</td></tr><tr><td>&quot;ZZ000000000000&quot;</td><td>5440</td><td>7</td></tr><tr><td>&quot;CS021515000089&quot;</td><td>5440</td><td>7</td></tr><tr><td>&quot;CS015515000083&quot;</td><td>5280</td><td>9</td></tr><tr><td>&quot;CS017414000114&quot;</td><td>5280</td><td>9</td></tr></tbody></table></div>"
      ],
      "text/plain": [
       "shape: (10, 3)\n",
       "┌────────────────┬────────┬─────────────┐\n",
       "│ customer_id    ┆ amount ┆ amount_rank │\n",
       "│ ---            ┆ ---    ┆ ---         │\n",
       "│ str            ┆ i64    ┆ u32         │\n",
       "╞════════════════╪════════╪═════════════╡\n",
       "│ CS011415000006 ┆ 10925  ┆ 1           │\n",
       "│ ZZ000000000000 ┆ 6800   ┆ 2           │\n",
       "│ CS028605000002 ┆ 5780   ┆ 3           │\n",
       "│ CS015515000034 ┆ 5480   ┆ 4           │\n",
       "│ ZZ000000000000 ┆ 5480   ┆ 4           │\n",
       "│ ZZ000000000000 ┆ 5480   ┆ 4           │\n",
       "│ ZZ000000000000 ┆ 5440   ┆ 7           │\n",
       "│ CS021515000089 ┆ 5440   ┆ 7           │\n",
       "│ CS015515000083 ┆ 5280   ┆ 9           │\n",
       "│ CS017414000114 ┆ 5280   ┆ 9           │\n",
       "└────────────────┴────────┴─────────────┘"
      ]
     },
     "execution_count": 40,
     "metadata": {},
     "output_type": "execute_result"
    }
   ],
   "source": [
    "df_receipt.select(\n",
    "    pl.col(\"customer_id\"),\n",
    "    pl.col(\"amount\"),\n",
    "    pl.col(\"amount\").rank(method=\"min\", descending=True).alias(\"amount_rank\"),\n",
    ").sort(pl.col(\"amount_rank\")).head(10)"
   ]
  },
  {
   "cell_type": "markdown",
   "metadata": {},
   "source": [
    "---\n",
    "\n",
    "> P-020: レシート明細データ（df_receipt）に対し、1 件あたりの売上金額（amount）が高い順にランクを付与し、先頭から 10 件表示せよ。項目は顧客 ID（customer_id）、売上金額（amount）、付与したランクを表示させること。なお、売上金額（amount）が等しい場合でも別順位を付与すること。\n"
   ]
  },
  {
   "cell_type": "code",
   "execution_count": 4,
   "metadata": {},
   "outputs": [
    {
     "data": {
      "text/html": [
       "<div><style>\n",
       ".dataframe > thead > tr,\n",
       ".dataframe > tbody > tr {\n",
       "  text-align: right;\n",
       "  white-space: pre-wrap;\n",
       "}\n",
       "</style>\n",
       "<small>shape: (10, 3)</small><table border=\"1\" class=\"dataframe\"><thead><tr><th>customer_id</th><th>amount</th><th>amount_rank</th></tr><tr><td>str</td><td>i64</td><td>u32</td></tr></thead><tbody><tr><td>&quot;CS011415000006&quot;</td><td>10925</td><td>1</td></tr><tr><td>&quot;ZZ000000000000&quot;</td><td>6800</td><td>2</td></tr><tr><td>&quot;CS028605000002&quot;</td><td>5780</td><td>3</td></tr><tr><td>&quot;CS015515000034&quot;</td><td>5480</td><td>4</td></tr><tr><td>&quot;ZZ000000000000&quot;</td><td>5480</td><td>5</td></tr><tr><td>&quot;ZZ000000000000&quot;</td><td>5480</td><td>6</td></tr><tr><td>&quot;ZZ000000000000&quot;</td><td>5440</td><td>7</td></tr><tr><td>&quot;CS021515000089&quot;</td><td>5440</td><td>8</td></tr><tr><td>&quot;CS015515000083&quot;</td><td>5280</td><td>9</td></tr><tr><td>&quot;CS017414000114&quot;</td><td>5280</td><td>10</td></tr></tbody></table></div>"
      ],
      "text/plain": [
       "shape: (10, 3)\n",
       "┌────────────────┬────────┬─────────────┐\n",
       "│ customer_id    ┆ amount ┆ amount_rank │\n",
       "│ ---            ┆ ---    ┆ ---         │\n",
       "│ str            ┆ i64    ┆ u32         │\n",
       "╞════════════════╪════════╪═════════════╡\n",
       "│ CS011415000006 ┆ 10925  ┆ 1           │\n",
       "│ ZZ000000000000 ┆ 6800   ┆ 2           │\n",
       "│ CS028605000002 ┆ 5780   ┆ 3           │\n",
       "│ CS015515000034 ┆ 5480   ┆ 4           │\n",
       "│ ZZ000000000000 ┆ 5480   ┆ 5           │\n",
       "│ ZZ000000000000 ┆ 5480   ┆ 6           │\n",
       "│ ZZ000000000000 ┆ 5440   ┆ 7           │\n",
       "│ CS021515000089 ┆ 5440   ┆ 8           │\n",
       "│ CS015515000083 ┆ 5280   ┆ 9           │\n",
       "│ CS017414000114 ┆ 5280   ┆ 10          │\n",
       "└────────────────┴────────┴─────────────┘"
      ]
     },
     "execution_count": 4,
     "metadata": {},
     "output_type": "execute_result"
    }
   ],
   "source": [
    "df_receipt.select(\n",
    "    pl.col(\"customer_id\"),\n",
    "    pl.col(\"amount\"),\n",
    "    pl.col(\"amount\").rank(method=\"ordinal\", descending=True).alias(\"amount_rank\"),\n",
    ").sort(pl.col(\"amount_rank\")).head(10)"
   ]
  },
  {
   "cell_type": "markdown",
   "metadata": {},
   "source": [
    "---\n",
    "\n",
    "> P-021: レシート明細データ（df_receipt）に対し、件数をカウントせよ。\n"
   ]
  },
  {
   "cell_type": "code",
   "execution_count": 6,
   "metadata": {},
   "outputs": [
    {
     "data": {
      "text/plain": [
       "104681"
      ]
     },
     "execution_count": 6,
     "metadata": {},
     "output_type": "execute_result"
    }
   ],
   "source": [
    "df_receipt.shape[0]"
   ]
  },
  {
   "cell_type": "markdown",
   "metadata": {},
   "source": [
    "---\n",
    "\n",
    "> P-022: レシート明細データ（df_receipt）の顧客 ID（customer_id）に対し、ユニーク件数をカウントせよ。\n"
   ]
  },
  {
   "cell_type": "code",
   "execution_count": 10,
   "metadata": {},
   "outputs": [
    {
     "data": {
      "text/plain": [
       "8307"
      ]
     },
     "execution_count": 10,
     "metadata": {},
     "output_type": "execute_result"
    }
   ],
   "source": [
    "df_receipt.select(pl.col(\"customer_id\")).n_unique()"
   ]
  },
  {
   "cell_type": "markdown",
   "metadata": {},
   "source": [
    "---\n",
    "\n",
    "> P-023: レシート明細データ（df_receipt）に対し、店舗コード（store_cd）ごとに売上金額（amount）と売上数量（quantity）を合計せよ。\n"
   ]
  },
  {
   "cell_type": "code",
   "execution_count": 21,
   "metadata": {},
   "outputs": [
    {
     "data": {
      "text/html": [
       "<div><style>\n",
       ".dataframe > thead > tr,\n",
       ".dataframe > tbody > tr {\n",
       "  text-align: right;\n",
       "  white-space: pre-wrap;\n",
       "}\n",
       "</style>\n",
       "<small>shape: (52, 3)</small><table border=\"1\" class=\"dataframe\"><thead><tr><th>store_cd</th><th>amount</th><th>quantity</th></tr><tr><td>str</td><td>i64</td><td>i64</td></tr></thead><tbody><tr><td>&quot;S14023&quot;</td><td>727630</td><td>2258</td></tr><tr><td>&quot;S13051&quot;</td><td>107452</td><td>354</td></tr><tr><td>&quot;S13001&quot;</td><td>811936</td><td>2347</td></tr><tr><td>&quot;S14049&quot;</td><td>230808</td><td>788</td></tr><tr><td>&quot;S13038&quot;</td><td>708884</td><td>2337</td></tr><tr><td>&hellip;</td><td>&hellip;</td><td>&hellip;</td></tr><tr><td>&quot;S13043&quot;</td><td>587895</td><td>1881</td></tr><tr><td>&quot;S14034&quot;</td><td>653681</td><td>2024</td></tr><tr><td>&quot;S13005&quot;</td><td>629876</td><td>2004</td></tr><tr><td>&quot;S14025&quot;</td><td>755581</td><td>2394</td></tr><tr><td>&quot;S12007&quot;</td><td>638761</td><td>2099</td></tr></tbody></table></div>"
      ],
      "text/plain": [
       "shape: (52, 3)\n",
       "┌──────────┬────────┬──────────┐\n",
       "│ store_cd ┆ amount ┆ quantity │\n",
       "│ ---      ┆ ---    ┆ ---      │\n",
       "│ str      ┆ i64    ┆ i64      │\n",
       "╞══════════╪════════╪══════════╡\n",
       "│ S14023   ┆ 727630 ┆ 2258     │\n",
       "│ S13051   ┆ 107452 ┆ 354      │\n",
       "│ S13001   ┆ 811936 ┆ 2347     │\n",
       "│ S14049   ┆ 230808 ┆ 788      │\n",
       "│ S13038   ┆ 708884 ┆ 2337     │\n",
       "│ …        ┆ …      ┆ …        │\n",
       "│ S13043   ┆ 587895 ┆ 1881     │\n",
       "│ S14034   ┆ 653681 ┆ 2024     │\n",
       "│ S13005   ┆ 629876 ┆ 2004     │\n",
       "│ S14025   ┆ 755581 ┆ 2394     │\n",
       "│ S12007   ┆ 638761 ┆ 2099     │\n",
       "└──────────┴────────┴──────────┘"
      ]
     },
     "execution_count": 21,
     "metadata": {},
     "output_type": "execute_result"
    }
   ],
   "source": [
    "df_receipt.select(\n",
    "    pl.col(\"store_cd\"),\n",
    "    pl.col(\"amount\"),\n",
    "    pl.col(\"quantity\"),\n",
    ").group_by(pl.col(\"store_cd\")).sum()"
   ]
  },
  {
   "cell_type": "markdown",
   "metadata": {},
   "source": [
    "---\n",
    "\n",
    "> P-024: レシート明細データ（df_receipt）に対し、顧客 ID（customer_id）ごとに最も新しい売上年月日（sales_ymd）を求め、10 件表示せよ。\n"
   ]
  },
  {
   "cell_type": "code",
   "execution_count": null,
   "metadata": {},
   "outputs": [
    {
     "data": {
      "text/html": [
       "<div><style>\n",
       ".dataframe > thead > tr,\n",
       ".dataframe > tbody > tr {\n",
       "  text-align: right;\n",
       "  white-space: pre-wrap;\n",
       "}\n",
       "</style>\n",
       "<small>shape: (8_307, 2)</small><table border=\"1\" class=\"dataframe\"><thead><tr><th>customer_id</th><th>sales_ymd</th></tr><tr><td>str</td><td>i64</td></tr></thead><tbody><tr><td>&quot;CS004612000146&quot;</td><td>20171230</td></tr><tr><td>&quot;CS001114000005&quot;</td><td>20190731</td></tr><tr><td>&quot;CS004314000027&quot;</td><td>20190420</td></tr><tr><td>&quot;CS019314000045&quot;</td><td>20180515</td></tr><tr><td>&quot;CS002415000510&quot;</td><td>20190622</td></tr><tr><td>&hellip;</td><td>&hellip;</td></tr><tr><td>&quot;CS015515000165&quot;</td><td>20190804</td></tr><tr><td>&quot;CS003512000501&quot;</td><td>20181227</td></tr><tr><td>&quot;CS033304000004&quot;</td><td>20191019</td></tr><tr><td>&quot;CS019214000026&quot;</td><td>20190501</td></tr><tr><td>&quot;CS005513000083&quot;</td><td>20190111</td></tr></tbody></table></div>"
      ],
      "text/plain": [
       "shape: (8_307, 2)\n",
       "┌────────────────┬───────────┐\n",
       "│ customer_id    ┆ sales_ymd │\n",
       "│ ---            ┆ ---       │\n",
       "│ str            ┆ i64       │\n",
       "╞════════════════╪═══════════╡\n",
       "│ CS004612000146 ┆ 20171230  │\n",
       "│ CS001114000005 ┆ 20190731  │\n",
       "│ CS004314000027 ┆ 20190420  │\n",
       "│ CS019314000045 ┆ 20180515  │\n",
       "│ CS002415000510 ┆ 20190622  │\n",
       "│ …              ┆ …         │\n",
       "│ CS015515000165 ┆ 20190804  │\n",
       "│ CS003512000501 ┆ 20181227  │\n",
       "│ CS033304000004 ┆ 20191019  │\n",
       "│ CS019214000026 ┆ 20190501  │\n",
       "│ CS005513000083 ┆ 20190111  │\n",
       "└────────────────┴───────────┘"
      ]
     },
     "execution_count": 24,
     "metadata": {},
     "output_type": "execute_result"
    }
   ],
   "source": [
    "df_receipt.select(\n",
    "    pl.col(\"customer_id\"),\n",
    "    pl.col(\"sales_ymd\"),\n",
    ").group_by(pl.col(\"customer_id\")).max()"
   ]
  },
  {
   "cell_type": "markdown",
   "metadata": {},
   "source": [
    "---\n",
    "\n",
    "> P-025: レシート明細データ（df_receipt）に対し、顧客 ID（customer_id）ごとに最も古い売上年月日（sales_ymd）を求め、10 件表示せよ。\n"
   ]
  },
  {
   "cell_type": "code",
   "execution_count": 27,
   "metadata": {},
   "outputs": [
    {
     "data": {
      "text/html": [
       "<div><style>\n",
       ".dataframe > thead > tr,\n",
       ".dataframe > tbody > tr {\n",
       "  text-align: right;\n",
       "  white-space: pre-wrap;\n",
       "}\n",
       "</style>\n",
       "<small>shape: (8_307, 2)</small><table border=\"1\" class=\"dataframe\"><thead><tr><th>customer_id</th><th>sales_ymd</th></tr><tr><td>str</td><td>i64</td></tr></thead><tbody><tr><td>&quot;CS018604000001&quot;</td><td>20170510</td></tr><tr><td>&quot;CS005412000036&quot;</td><td>20171021</td></tr><tr><td>&quot;CS011515000234&quot;</td><td>20170102</td></tr><tr><td>&quot;CS034513000122&quot;</td><td>20170722</td></tr><tr><td>&quot;CS023615000057&quot;</td><td>20171223</td></tr><tr><td>&hellip;</td><td>&hellip;</td></tr><tr><td>&quot;CS033512000155&quot;</td><td>20171208</td></tr><tr><td>&quot;CS012415000178&quot;</td><td>20170313</td></tr><tr><td>&quot;CS032413000073&quot;</td><td>20170317</td></tr><tr><td>&quot;CS013513000061&quot;</td><td>20190517</td></tr><tr><td>&quot;CS030512000166&quot;</td><td>20170804</td></tr></tbody></table></div>"
      ],
      "text/plain": [
       "shape: (8_307, 2)\n",
       "┌────────────────┬───────────┐\n",
       "│ customer_id    ┆ sales_ymd │\n",
       "│ ---            ┆ ---       │\n",
       "│ str            ┆ i64       │\n",
       "╞════════════════╪═══════════╡\n",
       "│ CS018604000001 ┆ 20170510  │\n",
       "│ CS005412000036 ┆ 20171021  │\n",
       "│ CS011515000234 ┆ 20170102  │\n",
       "│ CS034513000122 ┆ 20170722  │\n",
       "│ CS023615000057 ┆ 20171223  │\n",
       "│ …              ┆ …         │\n",
       "│ CS033512000155 ┆ 20171208  │\n",
       "│ CS012415000178 ┆ 20170313  │\n",
       "│ CS032413000073 ┆ 20170317  │\n",
       "│ CS013513000061 ┆ 20190517  │\n",
       "│ CS030512000166 ┆ 20170804  │\n",
       "└────────────────┴───────────┘"
      ]
     },
     "execution_count": 27,
     "metadata": {},
     "output_type": "execute_result"
    }
   ],
   "source": [
    "df_receipt.select(\n",
    "    pl.col(\"customer_id\"),\n",
    "    pl.col(\"sales_ymd\"),\n",
    ").group_by(pl.col(\"customer_id\")).min()"
   ]
  },
  {
   "cell_type": "markdown",
   "metadata": {},
   "source": [
    "---\n",
    "\n",
    "> P-026: レシート明細データ（df_receipt）に対し、顧客 ID（customer_id）ごとに最も新しい売上年月日（sales_ymd）と古い売上年月日を求め、両者が異なるデータを 10 件表示せよ。\n"
   ]
  },
  {
   "cell_type": "code",
   "execution_count": 33,
   "metadata": {},
   "outputs": [
    {
     "data": {
      "text/html": [
       "<div><style>\n",
       ".dataframe > thead > tr,\n",
       ".dataframe > tbody > tr {\n",
       "  text-align: right;\n",
       "  white-space: pre-wrap;\n",
       "}\n",
       "</style>\n",
       "<small>shape: (10, 3)</small><table border=\"1\" class=\"dataframe\"><thead><tr><th>customer_id</th><th>max_sales_ymd</th><th>min_sales_ymd</th></tr><tr><td>str</td><td>i64</td><td>i64</td></tr></thead><tbody><tr><td>&quot;CS034513000239&quot;</td><td>20190906</td><td>20180608</td></tr><tr><td>&quot;CS026605000002&quot;</td><td>20190917</td><td>20170212</td></tr><tr><td>&quot;CS040411000020&quot;</td><td>20190113</td><td>20170808</td></tr><tr><td>&quot;CS029215000031&quot;</td><td>20190511</td><td>20170319</td></tr><tr><td>&quot;CS024515000069&quot;</td><td>20190729</td><td>20171205</td></tr><tr><td>&quot;CS016214000008&quot;</td><td>20190612</td><td>20170108</td></tr><tr><td>&quot;CS015315000140&quot;</td><td>20180218</td><td>20171018</td></tr><tr><td>&quot;CS004415000700&quot;</td><td>20190317</td><td>20181002</td></tr><tr><td>&quot;CS035513000089&quot;</td><td>20191003</td><td>20170429</td></tr><tr><td>&quot;CS014415000200&quot;</td><td>20190903</td><td>20170216</td></tr></tbody></table></div>"
      ],
      "text/plain": [
       "shape: (10, 3)\n",
       "┌────────────────┬───────────────┬───────────────┐\n",
       "│ customer_id    ┆ max_sales_ymd ┆ min_sales_ymd │\n",
       "│ ---            ┆ ---           ┆ ---           │\n",
       "│ str            ┆ i64           ┆ i64           │\n",
       "╞════════════════╪═══════════════╪═══════════════╡\n",
       "│ CS034513000239 ┆ 20190906      ┆ 20180608      │\n",
       "│ CS026605000002 ┆ 20190917      ┆ 20170212      │\n",
       "│ CS040411000020 ┆ 20190113      ┆ 20170808      │\n",
       "│ CS029215000031 ┆ 20190511      ┆ 20170319      │\n",
       "│ CS024515000069 ┆ 20190729      ┆ 20171205      │\n",
       "│ CS016214000008 ┆ 20190612      ┆ 20170108      │\n",
       "│ CS015315000140 ┆ 20180218      ┆ 20171018      │\n",
       "│ CS004415000700 ┆ 20190317      ┆ 20181002      │\n",
       "│ CS035513000089 ┆ 20191003      ┆ 20170429      │\n",
       "│ CS014415000200 ┆ 20190903      ┆ 20170216      │\n",
       "└────────────────┴───────────────┴───────────────┘"
      ]
     },
     "execution_count": 33,
     "metadata": {},
     "output_type": "execute_result"
    }
   ],
   "source": [
    "df_receipt.select(\n",
    "    pl.col(\"customer_id\"),\n",
    "    pl.col(\"sales_ymd\"),\n",
    ").group_by(pl.col(\"customer_id\")).agg(\n",
    "    pl.col(\"sales_ymd\").max().alias(\"max_sales_ymd\"),\n",
    "    pl.col(\"sales_ymd\").min().alias(\"min_sales_ymd\"),\n",
    ").filter(pl.col(\"max_sales_ymd\") != pl.col(\"min_sales_ymd\")).head(10)"
   ]
  },
  {
   "cell_type": "markdown",
   "metadata": {},
   "source": [
    "---\n",
    "\n",
    "> P-027: レシート明細データ（df_receipt）に対し、店舗コード（store_cd）ごとに売上金額（amount）の平均を計算し、降順で TOP5 を表示せよ。\n"
   ]
  },
  {
   "cell_type": "code",
   "execution_count": 39,
   "metadata": {},
   "outputs": [
    {
     "data": {
      "text/html": [
       "<div><style>\n",
       ".dataframe > thead > tr,\n",
       ".dataframe > tbody > tr {\n",
       "  text-align: right;\n",
       "  white-space: pre-wrap;\n",
       "}\n",
       "</style>\n",
       "<small>shape: (52, 2)</small><table border=\"1\" class=\"dataframe\"><thead><tr><th>store_cd</th><th>amount</th></tr><tr><td>str</td><td>f64</td></tr></thead><tbody><tr><td>&quot;S13052&quot;</td><td>402.86747</td></tr><tr><td>&quot;S13015&quot;</td><td>351.11196</td></tr><tr><td>&quot;S13003&quot;</td><td>350.915519</td></tr><tr><td>&quot;S14010&quot;</td><td>348.791262</td></tr><tr><td>&quot;S13001&quot;</td><td>348.470386</td></tr><tr><td>&hellip;</td><td>&hellip;</td></tr><tr><td>&quot;S13037&quot;</td><td>299.907832</td></tr><tr><td>&quot;S14049&quot;</td><td>297.816774</td></tr><tr><td>&quot;S14050&quot;</td><td>290.591304</td></tr><tr><td>&quot;S12030&quot;</td><td>288.533727</td></tr><tr><td>&quot;S14042&quot;</td><td>278.338886</td></tr></tbody></table></div>"
      ],
      "text/plain": [
       "shape: (52, 2)\n",
       "┌──────────┬────────────┐\n",
       "│ store_cd ┆ amount     │\n",
       "│ ---      ┆ ---        │\n",
       "│ str      ┆ f64        │\n",
       "╞══════════╪════════════╡\n",
       "│ S13052   ┆ 402.86747  │\n",
       "│ S13015   ┆ 351.11196  │\n",
       "│ S13003   ┆ 350.915519 │\n",
       "│ S14010   ┆ 348.791262 │\n",
       "│ S13001   ┆ 348.470386 │\n",
       "│ …        ┆ …          │\n",
       "│ S13037   ┆ 299.907832 │\n",
       "│ S14049   ┆ 297.816774 │\n",
       "│ S14050   ┆ 290.591304 │\n",
       "│ S12030   ┆ 288.533727 │\n",
       "│ S14042   ┆ 278.338886 │\n",
       "└──────────┴────────────┘"
      ]
     },
     "execution_count": 39,
     "metadata": {},
     "output_type": "execute_result"
    }
   ],
   "source": [
    "df_receipt.select(\n",
    "    pl.col(\"store_cd\"),\n",
    "    pl.col(\"amount\"),\n",
    ").group_by(pl.col(\"store_cd\")).mean().sort(\"amount\", descending=True)"
   ]
  },
  {
   "cell_type": "markdown",
   "metadata": {},
   "source": [
    "---\n",
    "\n",
    "> P-028: レシート明細データ（df_receipt）に対し、店舗コード（store_cd）ごとに売上金額（amount）の中央値を計算し、降順で TOP5 を表示せよ。\n"
   ]
  },
  {
   "cell_type": "code",
   "execution_count": 43,
   "metadata": {},
   "outputs": [
    {
     "data": {
      "text/html": [
       "<div><style>\n",
       ".dataframe > thead > tr,\n",
       ".dataframe > tbody > tr {\n",
       "  text-align: right;\n",
       "  white-space: pre-wrap;\n",
       "}\n",
       "</style>\n",
       "<small>shape: (5, 2)</small><table border=\"1\" class=\"dataframe\"><thead><tr><th>store_cd</th><th>amount</th></tr><tr><td>str</td><td>f64</td></tr></thead><tbody><tr><td>&quot;S13052&quot;</td><td>190.0</td></tr><tr><td>&quot;S14010&quot;</td><td>188.0</td></tr><tr><td>&quot;S14050&quot;</td><td>185.0</td></tr><tr><td>&quot;S13003&quot;</td><td>180.0</td></tr><tr><td>&quot;S14040&quot;</td><td>180.0</td></tr></tbody></table></div>"
      ],
      "text/plain": [
       "shape: (5, 2)\n",
       "┌──────────┬────────┐\n",
       "│ store_cd ┆ amount │\n",
       "│ ---      ┆ ---    │\n",
       "│ str      ┆ f64    │\n",
       "╞══════════╪════════╡\n",
       "│ S13052   ┆ 190.0  │\n",
       "│ S14010   ┆ 188.0  │\n",
       "│ S14050   ┆ 185.0  │\n",
       "│ S13003   ┆ 180.0  │\n",
       "│ S14040   ┆ 180.0  │\n",
       "└──────────┴────────┘"
      ]
     },
     "execution_count": 43,
     "metadata": {},
     "output_type": "execute_result"
    }
   ],
   "source": [
    "df_receipt.select(\n",
    "    pl.col(\"store_cd\"),\n",
    "    pl.col(\"amount\"),\n",
    ").group_by(pl.col(\"store_cd\")).median().sort(\"amount\", descending=True).head(5)"
   ]
  },
  {
   "cell_type": "markdown",
   "metadata": {},
   "source": [
    "---\n",
    "\n",
    "> P-029: レシート明細データ（df_receipt）に対し、店舗コード（store_cd）ごとに商品コード（product_cd）の最頻値を求め、10 件表示させよ。\n"
   ]
  },
  {
   "cell_type": "code",
   "execution_count": 53,
   "metadata": {},
   "outputs": [
    {
     "data": {
      "text/html": [
       "<div><style>\n",
       ".dataframe > thead > tr,\n",
       ".dataframe > tbody > tr {\n",
       "  text-align: right;\n",
       "  white-space: pre-wrap;\n",
       "}\n",
       "</style>\n",
       "<small>shape: (10, 2)</small><table border=\"1\" class=\"dataframe\"><thead><tr><th>store_cd</th><th>mode_product_cd</th></tr><tr><td>str</td><td>str</td></tr></thead><tbody><tr><td>&quot;S13002&quot;</td><td>&quot;P060303001&quot;</td></tr><tr><td>&quot;S13004&quot;</td><td>&quot;P060303001&quot;</td></tr><tr><td>&quot;S14045&quot;</td><td>&quot;P060303001&quot;</td></tr><tr><td>&quot;S14022&quot;</td><td>&quot;P060303001&quot;</td></tr><tr><td>&quot;S14046&quot;</td><td>&quot;P060303001&quot;</td></tr><tr><td>&quot;S13020&quot;</td><td>&quot;P071401001&quot;</td></tr><tr><td>&quot;S13031&quot;</td><td>&quot;P060303001&quot;</td></tr><tr><td>&quot;S14028&quot;</td><td>&quot;P060303001&quot;</td></tr><tr><td>&quot;S13003&quot;</td><td>&quot;P071401001&quot;</td></tr><tr><td>&quot;S14010&quot;</td><td>&quot;P060303001&quot;</td></tr></tbody></table></div>"
      ],
      "text/plain": [
       "shape: (10, 2)\n",
       "┌──────────┬─────────────────┐\n",
       "│ store_cd ┆ mode_product_cd │\n",
       "│ ---      ┆ ---             │\n",
       "│ str      ┆ str             │\n",
       "╞══════════╪═════════════════╡\n",
       "│ S13002   ┆ P060303001      │\n",
       "│ S13004   ┆ P060303001      │\n",
       "│ S14045   ┆ P060303001      │\n",
       "│ S14022   ┆ P060303001      │\n",
       "│ S14046   ┆ P060303001      │\n",
       "│ S13020   ┆ P071401001      │\n",
       "│ S13031   ┆ P060303001      │\n",
       "│ S14028   ┆ P060303001      │\n",
       "│ S13003   ┆ P071401001      │\n",
       "│ S14010   ┆ P060303001      │\n",
       "└──────────┴─────────────────┘"
      ]
     },
     "execution_count": 53,
     "metadata": {},
     "output_type": "execute_result"
    }
   ],
   "source": [
    "df_receipt.select(\n",
    "    pl.col(\"store_cd\"),\n",
    "    pl.col(\"product_cd\"),\n",
    ").group_by(pl.col(\"store_cd\")).agg(\n",
    "    pl.col(\"product_cd\").mode().first().alias(\"mode_product_cd\")\n",
    ").head(10)"
   ]
  },
  {
   "cell_type": "markdown",
   "metadata": {},
   "source": [
    "---\n",
    "\n",
    "> P-030: レシート明細データ（df_receipt）に対し、店舗コード（store_cd）ごとに売上金額（amount）の分散を計算し、降順で 5 件表示せよ。\n"
   ]
  },
  {
   "cell_type": "code",
   "execution_count": null,
   "metadata": {},
   "outputs": [
    {
     "data": {
      "text/html": [
       "<div><style>\n",
       ".dataframe > thead > tr,\n",
       ".dataframe > tbody > tr {\n",
       "  text-align: right;\n",
       "  white-space: pre-wrap;\n",
       "}\n",
       "</style>\n",
       "<small>shape: (5, 2)</small><table border=\"1\" class=\"dataframe\"><thead><tr><th>store_cd</th><th>amount_var</th></tr><tr><td>str</td><td>f64</td></tr></thead><tbody><tr><td>&quot;S13052&quot;</td><td>440088.701311</td></tr><tr><td>&quot;S14011&quot;</td><td>306314.558164</td></tr><tr><td>&quot;S14034&quot;</td><td>296920.081011</td></tr><tr><td>&quot;S13001&quot;</td><td>295431.993329</td></tr><tr><td>&quot;S13015&quot;</td><td>295294.361116</td></tr></tbody></table></div>"
      ],
      "text/plain": [
       "shape: (5, 2)\n",
       "┌──────────┬───────────────┐\n",
       "│ store_cd ┆ amount_var    │\n",
       "│ ---      ┆ ---           │\n",
       "│ str      ┆ f64           │\n",
       "╞══════════╪═══════════════╡\n",
       "│ S13052   ┆ 440088.701311 │\n",
       "│ S14011   ┆ 306314.558164 │\n",
       "│ S14034   ┆ 296920.081011 │\n",
       "│ S13001   ┆ 295431.993329 │\n",
       "│ S13015   ┆ 295294.361116 │\n",
       "└──────────┴───────────────┘"
      ]
     },
     "execution_count": 62,
     "metadata": {},
     "output_type": "execute_result"
    }
   ],
   "source": [
    "df_receipt.select(\n",
    "    pl.col(\"store_cd\"),\n",
    "    pl.col(\"amount\"),\n",
    ").group_by(pl.col(\"store_cd\")).agg(\n",
    "    pl.col(\"amount\").var(ddof=0).alias(\"amount_var\")\n",
    ").sort(\"amount_var\", descending=True).head(5)"
   ]
  },
  {
   "cell_type": "markdown",
   "metadata": {},
   "source": [
    "---\n",
    "\n",
    "> P-031: レシート明細データ（df_receipt）に対し、店舗コード（store_cd）ごとに売上金額（amount）の標準偏差を計算し、降順で 5 件表示せよ。\n"
   ]
  },
  {
   "cell_type": "markdown",
   "metadata": {},
   "source": [
    "TIPS:\n",
    "\n",
    "Pandas と Numpy で ddof のデフォルト値が異なることに注意しましょう\n",
    "\n",
    "```\n",
    "Pandas：\n",
    "DataFrame.std(self, axis=None, skipna=None, level=None, ddof=1, numeric_only=None, **kwargs)\n",
    "Numpy:\n",
    "numpy.std(a, axis=None, dtype=None, out=None, ddof=0, keepdims=)\n",
    "```\n"
   ]
  },
  {
   "cell_type": "code",
   "execution_count": 64,
   "metadata": {},
   "outputs": [
    {
     "data": {
      "text/html": [
       "<div><style>\n",
       ".dataframe > thead > tr,\n",
       ".dataframe > tbody > tr {\n",
       "  text-align: right;\n",
       "  white-space: pre-wrap;\n",
       "}\n",
       "</style>\n",
       "<small>shape: (5, 2)</small><table border=\"1\" class=\"dataframe\"><thead><tr><th>store_cd</th><th>amount_std</th></tr><tr><td>str</td><td>f64</td></tr></thead><tbody><tr><td>&quot;S13052&quot;</td><td>663.391816</td></tr><tr><td>&quot;S14011&quot;</td><td>553.456916</td></tr><tr><td>&quot;S14034&quot;</td><td>544.903736</td></tr><tr><td>&quot;S13001&quot;</td><td>543.536561</td></tr><tr><td>&quot;S13015&quot;</td><td>543.409938</td></tr></tbody></table></div>"
      ],
      "text/plain": [
       "shape: (5, 2)\n",
       "┌──────────┬────────────┐\n",
       "│ store_cd ┆ amount_std │\n",
       "│ ---      ┆ ---        │\n",
       "│ str      ┆ f64        │\n",
       "╞══════════╪════════════╡\n",
       "│ S13052   ┆ 663.391816 │\n",
       "│ S14011   ┆ 553.456916 │\n",
       "│ S14034   ┆ 544.903736 │\n",
       "│ S13001   ┆ 543.536561 │\n",
       "│ S13015   ┆ 543.409938 │\n",
       "└──────────┴────────────┘"
      ]
     },
     "execution_count": 64,
     "metadata": {},
     "output_type": "execute_result"
    }
   ],
   "source": [
    "df_receipt.select(\n",
    "    pl.col(\"store_cd\"),\n",
    "    pl.col(\"amount\"),\n",
    ").group_by(pl.col(\"store_cd\")).agg(\n",
    "    pl.col(\"amount\").std(ddof=0).alias(\"amount_std\")\n",
    ").sort(\"amount_std\", descending=True).head(5)"
   ]
  },
  {
   "cell_type": "markdown",
   "metadata": {},
   "source": [
    "---\n",
    "\n",
    "> P-032: レシート明細データ（df_receipt）の売上金額（amount）について、25％刻みでパーセンタイル値を求めよ。\n"
   ]
  },
  {
   "cell_type": "code",
   "execution_count": 79,
   "metadata": {},
   "outputs": [
    {
     "data": {
      "text/html": [
       "<div><style>\n",
       ".dataframe > thead > tr,\n",
       ".dataframe > tbody > tr {\n",
       "  text-align: right;\n",
       "  white-space: pre-wrap;\n",
       "}\n",
       "</style>\n",
       "<small>shape: (1, 4)</small><table border=\"1\" class=\"dataframe\"><thead><tr><th>q0.25</th><th>q0.5</th><th>q0.75</th><th>q1</th></tr><tr><td>f64</td><td>f64</td><td>f64</td><td>f64</td></tr></thead><tbody><tr><td>102.0</td><td>170.0</td><td>288.0</td><td>10925.0</td></tr></tbody></table></div>"
      ],
      "text/plain": [
       "shape: (1, 4)\n",
       "┌───────┬───────┬───────┬─────────┐\n",
       "│ q0.25 ┆ q0.5  ┆ q0.75 ┆ q1      │\n",
       "│ ---   ┆ ---   ┆ ---   ┆ ---     │\n",
       "│ f64   ┆ f64   ┆ f64   ┆ f64     │\n",
       "╞═══════╪═══════╪═══════╪═════════╡\n",
       "│ 102.0 ┆ 170.0 ┆ 288.0 ┆ 10925.0 │\n",
       "└───────┴───────┴───────┴─────────┘"
      ]
     },
     "execution_count": 79,
     "metadata": {},
     "output_type": "execute_result"
    }
   ],
   "source": [
    "df_receipt.select(\n",
    "    pl.col(\"amount\").quantile(p).alias(f\"q{p}\") for p in [0.25, 0.5, 0.75, 1]\n",
    ").head(1)"
   ]
  },
  {
   "cell_type": "markdown",
   "metadata": {},
   "source": [
    "---\n",
    "\n",
    "> P-033: レシート明細データ（df_receipt）に対し、店舗コード（store_cd）ごとに売上金額（amount）の平均を計算し、330 以上のものを抽出せよ。\n"
   ]
  },
  {
   "cell_type": "code",
   "execution_count": 83,
   "metadata": {},
   "outputs": [
    {
     "data": {
      "text/html": [
       "<div><style>\n",
       ".dataframe > thead > tr,\n",
       ".dataframe > tbody > tr {\n",
       "  text-align: right;\n",
       "  white-space: pre-wrap;\n",
       "}\n",
       "</style>\n",
       "<small>shape: (13, 2)</small><table border=\"1\" class=\"dataframe\"><thead><tr><th>store_cd</th><th>amount_mean</th></tr><tr><td>str</td><td>f64</td></tr></thead><tbody><tr><td>&quot;S14047&quot;</td><td>330.077073</td></tr><tr><td>&quot;S13001&quot;</td><td>348.470386</td></tr><tr><td>&quot;S14026&quot;</td><td>332.340588</td></tr><tr><td>&quot;S13019&quot;</td><td>330.208616</td></tr><tr><td>&quot;S14045&quot;</td><td>330.082073</td></tr><tr><td>&hellip;</td><td>&hellip;</td></tr><tr><td>&quot;S14011&quot;</td><td>335.718333</td></tr><tr><td>&quot;S13020&quot;</td><td>337.879932</td></tr><tr><td>&quot;S13015&quot;</td><td>351.11196</td></tr><tr><td>&quot;S13052&quot;</td><td>402.86747</td></tr><tr><td>&quot;S13003&quot;</td><td>350.915519</td></tr></tbody></table></div>"
      ],
      "text/plain": [
       "shape: (13, 2)\n",
       "┌──────────┬─────────────┐\n",
       "│ store_cd ┆ amount_mean │\n",
       "│ ---      ┆ ---         │\n",
       "│ str      ┆ f64         │\n",
       "╞══════════╪═════════════╡\n",
       "│ S14047   ┆ 330.077073  │\n",
       "│ S13001   ┆ 348.470386  │\n",
       "│ S14026   ┆ 332.340588  │\n",
       "│ S13019   ┆ 330.208616  │\n",
       "│ S14045   ┆ 330.082073  │\n",
       "│ …        ┆ …           │\n",
       "│ S14011   ┆ 335.718333  │\n",
       "│ S13020   ┆ 337.879932  │\n",
       "│ S13015   ┆ 351.11196   │\n",
       "│ S13052   ┆ 402.86747   │\n",
       "│ S13003   ┆ 350.915519  │\n",
       "└──────────┴─────────────┘"
      ]
     },
     "execution_count": 83,
     "metadata": {},
     "output_type": "execute_result"
    }
   ],
   "source": [
    "df_receipt.select(\n",
    "    pl.col(\"store_cd\"),\n",
    "    pl.col(\"amount\"),\n",
    ").group_by(pl.col(\"store_cd\")).agg(\n",
    "    pl.col(\"amount\").mean().alias(\"amount_mean\"),\n",
    ").filter(pl.col(\"amount_mean\") >= 330)"
   ]
  },
  {
   "cell_type": "markdown",
   "metadata": {},
   "source": [
    "---\n",
    "\n",
    "> P-034: レシート明細データ（df_receipt）に対し、顧客 ID（customer_id）ごとに売上金額（amount）を合計して全顧客の平均を求めよ。ただし、顧客 ID が\"Z\"から始まるものは非会員を表すため、除外して計算すること。\n"
   ]
  },
  {
   "cell_type": "code",
   "execution_count": 10,
   "metadata": {},
   "outputs": [
    {
     "data": {
      "text/html": [
       "<div><style>\n",
       ".dataframe > thead > tr,\n",
       ".dataframe > tbody > tr {\n",
       "  text-align: right;\n",
       "  white-space: pre-wrap;\n",
       "}\n",
       "</style>\n",
       "<small>shape: (1, 2)</small><table border=\"1\" class=\"dataframe\"><thead><tr><th>customer_id</th><th>amount_mean</th></tr><tr><td>str</td><td>f64</td></tr></thead><tbody><tr><td>null</td><td>2547.742235</td></tr></tbody></table></div>"
      ],
      "text/plain": [
       "shape: (1, 2)\n",
       "┌─────────────┬─────────────┐\n",
       "│ customer_id ┆ amount_mean │\n",
       "│ ---         ┆ ---         │\n",
       "│ str         ┆ f64         │\n",
       "╞═════════════╪═════════════╡\n",
       "│ null        ┆ 2547.742235 │\n",
       "└─────────────┴─────────────┘"
      ]
     },
     "execution_count": 10,
     "metadata": {},
     "output_type": "execute_result"
    }
   ],
   "source": [
    "df_receipt.select(\n",
    "    pl.col(\"customer_id\"),\n",
    "    pl.col(\"amount\"),\n",
    ").filter(pl.col(\"customer_id\").str.starts_with(\"Z\").not_()).group_by(\n",
    "    pl.col(\"customer_id\")\n",
    ").agg(\n",
    "    pl.col(\"amount\").sum().alias(\"amount_mean\"),\n",
    ").mean()"
   ]
  },
  {
   "cell_type": "markdown",
   "metadata": {},
   "source": [
    "---\n",
    "\n",
    "> P-035: レシート明細データ（df_receipt）に対し、顧客 ID（customer_id）ごとに売上金額（amount）を合計して全顧客の平均を求め、平均以上に買い物をしている顧客を抽出し、10 件表示せよ。ただし、顧客 ID が\"Z\"から始まるものは非会員を表すため、除外して計算すること。\n"
   ]
  },
  {
   "cell_type": "code",
   "execution_count": null,
   "metadata": {},
   "outputs": [
    {
     "data": {
      "text/html": [
       "<div><style>\n",
       ".dataframe > thead > tr,\n",
       ".dataframe > tbody > tr {\n",
       "  text-align: right;\n",
       "  white-space: pre-wrap;\n",
       "}\n",
       "</style>\n",
       "<small>shape: (10, 2)</small><table border=\"1\" class=\"dataframe\"><thead><tr><th>customer_id</th><th>amount_sum</th></tr><tr><td>str</td><td>i64</td></tr></thead><tbody><tr><td>&quot;CS029414000112&quot;</td><td>2741</td></tr><tr><td>&quot;CS019415000084&quot;</td><td>3881</td></tr><tr><td>&quot;CS019414000072&quot;</td><td>2724</td></tr><tr><td>&quot;CS016513000031&quot;</td><td>4024</td></tr><tr><td>&quot;CS014215000052&quot;</td><td>2919</td></tr><tr><td>&quot;CS008515000153&quot;</td><td>3175</td></tr><tr><td>&quot;CS040415000035&quot;</td><td>13119</td></tr><tr><td>&quot;CS029515000188&quot;</td><td>7123</td></tr><tr><td>&quot;CS031515000036&quot;</td><td>5383</td></tr><tr><td>&quot;CS019412000182&quot;</td><td>3680</td></tr></tbody></table></div>"
      ],
      "text/plain": [
       "shape: (10, 2)\n",
       "┌────────────────┬────────────┐\n",
       "│ customer_id    ┆ amount_sum │\n",
       "│ ---            ┆ ---        │\n",
       "│ str            ┆ i64        │\n",
       "╞════════════════╪════════════╡\n",
       "│ CS029414000112 ┆ 2741       │\n",
       "│ CS019415000084 ┆ 3881       │\n",
       "│ CS019414000072 ┆ 2724       │\n",
       "│ CS016513000031 ┆ 4024       │\n",
       "│ CS014215000052 ┆ 2919       │\n",
       "│ CS008515000153 ┆ 3175       │\n",
       "│ CS040415000035 ┆ 13119      │\n",
       "│ CS029515000188 ┆ 7123       │\n",
       "│ CS031515000036 ┆ 5383       │\n",
       "│ CS019412000182 ┆ 3680       │\n",
       "└────────────────┴────────────┘"
      ]
     },
     "execution_count": 17,
     "metadata": {},
     "output_type": "execute_result"
    }
   ],
   "source": [
    "df_receipt.select(\n",
    "    pl.col(\"customer_id\"),\n",
    "    pl.col(\"amount\"),\n",
    ").filter(pl.col(\"customer_id\").str.starts_with(\"Z\").not_()).group_by(\n",
    "    pl.col(\"customer_id\")\n",
    ").agg(\n",
    "    pl.col(\"amount\").sum().alias(\"amount_sum\"),\n",
    ").filter(pl.col(\"amount_sum\") >= pl.col(\"amount_sum\").mean()).head(10)"
   ]
  },
  {
   "cell_type": "markdown",
   "metadata": {},
   "source": [
    "---\n",
    "\n",
    "> P-036: レシート明細データ（df_receipt）と店舗データ（df_store）を内部結合し、レシート明細データの全項目と店舗データの店舗名（store_name）を 10 件表示せよ。\n"
   ]
  },
  {
   "cell_type": "code",
   "execution_count": 2,
   "metadata": {},
   "outputs": [
    {
     "data": {
      "text/html": [
       "<div><style>\n",
       ".dataframe > thead > tr,\n",
       ".dataframe > tbody > tr {\n",
       "  text-align: right;\n",
       "  white-space: pre-wrap;\n",
       "}\n",
       "</style>\n",
       "<small>shape: (10, 10)</small><table border=\"1\" class=\"dataframe\"><thead><tr><th>sales_ymd</th><th>sales_epoch</th><th>store_cd</th><th>receipt_no</th><th>receipt_sub_no</th><th>customer_id</th><th>product_cd</th><th>quantity</th><th>amount</th><th>store_name</th></tr><tr><td>i64</td><td>i64</td><td>str</td><td>i64</td><td>i64</td><td>str</td><td>str</td><td>i64</td><td>i64</td><td>str</td></tr></thead><tbody><tr><td>20181103</td><td>1541203200</td><td>&quot;S14006&quot;</td><td>112</td><td>1</td><td>&quot;CS006214000001&quot;</td><td>&quot;P070305012&quot;</td><td>1</td><td>158</td><td>&quot;葛が谷店&quot;</td></tr><tr><td>20181118</td><td>1542499200</td><td>&quot;S13008&quot;</td><td>1132</td><td>2</td><td>&quot;CS008415000097&quot;</td><td>&quot;P070701017&quot;</td><td>1</td><td>81</td><td>&quot;成城店&quot;</td></tr><tr><td>20170712</td><td>1499817600</td><td>&quot;S14028&quot;</td><td>1102</td><td>1</td><td>&quot;CS028414000014&quot;</td><td>&quot;P060101005&quot;</td><td>1</td><td>170</td><td>&quot;二ツ橋店&quot;</td></tr><tr><td>20190205</td><td>1549324800</td><td>&quot;S14042&quot;</td><td>1132</td><td>1</td><td>&quot;ZZ000000000000&quot;</td><td>&quot;P050301001&quot;</td><td>1</td><td>25</td><td>&quot;新山下店&quot;</td></tr><tr><td>20180821</td><td>1534809600</td><td>&quot;S14025&quot;</td><td>1102</td><td>2</td><td>&quot;CS025415000050&quot;</td><td>&quot;P060102007&quot;</td><td>1</td><td>90</td><td>&quot;大和店&quot;</td></tr><tr><td>20190605</td><td>1559692800</td><td>&quot;S13003&quot;</td><td>1112</td><td>1</td><td>&quot;CS003515000195&quot;</td><td>&quot;P050102002&quot;</td><td>1</td><td>138</td><td>&quot;狛江店&quot;</td></tr><tr><td>20181205</td><td>1543968000</td><td>&quot;S14024&quot;</td><td>1102</td><td>2</td><td>&quot;CS024514000042&quot;</td><td>&quot;P080101005&quot;</td><td>1</td><td>30</td><td>&quot;三田店&quot;</td></tr><tr><td>20190922</td><td>1569110400</td><td>&quot;S14040&quot;</td><td>1102</td><td>1</td><td>&quot;CS040415000178&quot;</td><td>&quot;P070501004&quot;</td><td>1</td><td>128</td><td>&quot;長津田店&quot;</td></tr><tr><td>20170504</td><td>1493856000</td><td>&quot;S13020&quot;</td><td>1112</td><td>2</td><td>&quot;ZZ000000000000&quot;</td><td>&quot;P071302010&quot;</td><td>1</td><td>770</td><td>&quot;十条仲原店&quot;</td></tr><tr><td>20191010</td><td>1570665600</td><td>&quot;S14027&quot;</td><td>1102</td><td>1</td><td>&quot;CS027514000015&quot;</td><td>&quot;P071101003&quot;</td><td>1</td><td>680</td><td>&quot;南藤沢店&quot;</td></tr></tbody></table></div>"
      ],
      "text/plain": [
       "shape: (10, 10)\n",
       "┌───────────┬────────────┬──────────┬────────────┬───┬────────────┬──────────┬────────┬────────────┐\n",
       "│ sales_ymd ┆ sales_epoc ┆ store_cd ┆ receipt_no ┆ … ┆ product_cd ┆ quantity ┆ amount ┆ store_name │\n",
       "│ ---       ┆ h          ┆ ---      ┆ ---        ┆   ┆ ---        ┆ ---      ┆ ---    ┆ ---        │\n",
       "│ i64       ┆ ---        ┆ str      ┆ i64        ┆   ┆ str        ┆ i64      ┆ i64    ┆ str        │\n",
       "│           ┆ i64        ┆          ┆            ┆   ┆            ┆          ┆        ┆            │\n",
       "╞═══════════╪════════════╪══════════╪════════════╪═══╪════════════╪══════════╪════════╪════════════╡\n",
       "│ 20181103  ┆ 1541203200 ┆ S14006   ┆ 112        ┆ … ┆ P070305012 ┆ 1        ┆ 158    ┆ 葛が谷店   │\n",
       "│ 20181118  ┆ 1542499200 ┆ S13008   ┆ 1132       ┆ … ┆ P070701017 ┆ 1        ┆ 81     ┆ 成城店     │\n",
       "│ 20170712  ┆ 1499817600 ┆ S14028   ┆ 1102       ┆ … ┆ P060101005 ┆ 1        ┆ 170    ┆ 二ツ橋店   │\n",
       "│ 20190205  ┆ 1549324800 ┆ S14042   ┆ 1132       ┆ … ┆ P050301001 ┆ 1        ┆ 25     ┆ 新山下店   │\n",
       "│ 20180821  ┆ 1534809600 ┆ S14025   ┆ 1102       ┆ … ┆ P060102007 ┆ 1        ┆ 90     ┆ 大和店     │\n",
       "│ 20190605  ┆ 1559692800 ┆ S13003   ┆ 1112       ┆ … ┆ P050102002 ┆ 1        ┆ 138    ┆ 狛江店     │\n",
       "│ 20181205  ┆ 1543968000 ┆ S14024   ┆ 1102       ┆ … ┆ P080101005 ┆ 1        ┆ 30     ┆ 三田店     │\n",
       "│ 20190922  ┆ 1569110400 ┆ S14040   ┆ 1102       ┆ … ┆ P070501004 ┆ 1        ┆ 128    ┆ 長津田店   │\n",
       "│ 20170504  ┆ 1493856000 ┆ S13020   ┆ 1112       ┆ … ┆ P071302010 ┆ 1        ┆ 770    ┆ 十条仲原店 │\n",
       "│ 20191010  ┆ 1570665600 ┆ S14027   ┆ 1102       ┆ … ┆ P071101003 ┆ 1        ┆ 680    ┆ 南藤沢店   │\n",
       "└───────────┴────────────┴──────────┴────────────┴───┴────────────┴──────────┴────────┴────────────┘"
      ]
     },
     "execution_count": 2,
     "metadata": {},
     "output_type": "execute_result"
    }
   ],
   "source": [
    "df_receipt.join(\n",
    "    df_store.select(pl.col(\"store_cd\"), pl.col(\"store_name\")),\n",
    "    on=\"store_cd\",\n",
    "    how=\"inner\",\n",
    ").head(10)"
   ]
  },
  {
   "cell_type": "markdown",
   "metadata": {},
   "source": [
    "---\n",
    "\n",
    "> P-037: 商品データ（df_product）とカテゴリデータ（df_category）を内部結合し、商品データの全項目とカテゴリデータのカテゴリ小区分名（category_small_name）を 10 件表示せよ。\n"
   ]
  },
  {
   "cell_type": "code",
   "execution_count": 8,
   "metadata": {},
   "outputs": [
    {
     "data": {
      "text/html": [
       "<div><style>\n",
       ".dataframe > thead > tr,\n",
       ".dataframe > tbody > tr {\n",
       "  text-align: right;\n",
       "  white-space: pre-wrap;\n",
       "}\n",
       "</style>\n",
       "<small>shape: (10, 7)</small><table border=\"1\" class=\"dataframe\"><thead><tr><th>﻿product_cd</th><th>category_major_cd</th><th>category_medium_cd</th><th>category_small_cd</th><th>unit_price</th><th>unit_cost</th><th>category_major_name</th></tr><tr><td>str</td><td>i64</td><td>i64</td><td>i64</td><td>i64</td><td>i64</td><td>str</td></tr></thead><tbody><tr><td>&quot;P040101001&quot;</td><td>4</td><td>401</td><td>40101</td><td>198</td><td>149</td><td>&quot;惣菜&quot;</td></tr><tr><td>&quot;P040101002&quot;</td><td>4</td><td>401</td><td>40101</td><td>218</td><td>164</td><td>&quot;惣菜&quot;</td></tr><tr><td>&quot;P040101003&quot;</td><td>4</td><td>401</td><td>40101</td><td>230</td><td>173</td><td>&quot;惣菜&quot;</td></tr><tr><td>&quot;P040101004&quot;</td><td>4</td><td>401</td><td>40101</td><td>248</td><td>186</td><td>&quot;惣菜&quot;</td></tr><tr><td>&quot;P040101005&quot;</td><td>4</td><td>401</td><td>40101</td><td>268</td><td>201</td><td>&quot;惣菜&quot;</td></tr><tr><td>&quot;P040101006&quot;</td><td>4</td><td>401</td><td>40101</td><td>298</td><td>224</td><td>&quot;惣菜&quot;</td></tr><tr><td>&quot;P040101007&quot;</td><td>4</td><td>401</td><td>40101</td><td>338</td><td>254</td><td>&quot;惣菜&quot;</td></tr><tr><td>&quot;P040101008&quot;</td><td>4</td><td>401</td><td>40101</td><td>420</td><td>315</td><td>&quot;惣菜&quot;</td></tr><tr><td>&quot;P040101009&quot;</td><td>4</td><td>401</td><td>40101</td><td>498</td><td>374</td><td>&quot;惣菜&quot;</td></tr><tr><td>&quot;P040101010&quot;</td><td>4</td><td>401</td><td>40101</td><td>580</td><td>435</td><td>&quot;惣菜&quot;</td></tr></tbody></table></div>"
      ],
      "text/plain": [
       "shape: (10, 7)\n",
       "┌────────────┬───────────────┬──────────────┬──────────────┬────────────┬───────────┬──────────────┐\n",
       "│ ﻿product_cd ┆ category_majo ┆ category_med ┆ category_sma ┆ unit_price ┆ unit_cost ┆ category_maj │\n",
       "│ ---        ┆ r_cd          ┆ ium_cd       ┆ ll_cd        ┆ ---        ┆ ---       ┆ or_name      │\n",
       "│ str        ┆ ---           ┆ ---          ┆ ---          ┆ i64        ┆ i64       ┆ ---          │\n",
       "│            ┆ i64           ┆ i64          ┆ i64          ┆            ┆           ┆ str          │\n",
       "╞════════════╪═══════════════╪══════════════╪══════════════╪════════════╪═══════════╪══════════════╡\n",
       "│ P040101001 ┆ 4             ┆ 401          ┆ 40101        ┆ 198        ┆ 149       ┆ 惣菜         │\n",
       "│ P040101002 ┆ 4             ┆ 401          ┆ 40101        ┆ 218        ┆ 164       ┆ 惣菜         │\n",
       "│ P040101003 ┆ 4             ┆ 401          ┆ 40101        ┆ 230        ┆ 173       ┆ 惣菜         │\n",
       "│ P040101004 ┆ 4             ┆ 401          ┆ 40101        ┆ 248        ┆ 186       ┆ 惣菜         │\n",
       "│ P040101005 ┆ 4             ┆ 401          ┆ 40101        ┆ 268        ┆ 201       ┆ 惣菜         │\n",
       "│ P040101006 ┆ 4             ┆ 401          ┆ 40101        ┆ 298        ┆ 224       ┆ 惣菜         │\n",
       "│ P040101007 ┆ 4             ┆ 401          ┆ 40101        ┆ 338        ┆ 254       ┆ 惣菜         │\n",
       "│ P040101008 ┆ 4             ┆ 401          ┆ 40101        ┆ 420        ┆ 315       ┆ 惣菜         │\n",
       "│ P040101009 ┆ 4             ┆ 401          ┆ 40101        ┆ 498        ┆ 374       ┆ 惣菜         │\n",
       "│ P040101010 ┆ 4             ┆ 401          ┆ 40101        ┆ 580        ┆ 435       ┆ 惣菜         │\n",
       "└────────────┴───────────────┴──────────────┴──────────────┴────────────┴───────────┴──────────────┘"
      ]
     },
     "execution_count": 8,
     "metadata": {},
     "output_type": "execute_result"
    }
   ],
   "source": [
    "df_product.join(\n",
    "    df_category.select(pl.col(\"category_small_cd\"), pl.col(\"category_major_name\")),\n",
    "    on=\"category_small_cd\",\n",
    "    how=\"inner\",\n",
    ").head(10)"
   ]
  },
  {
   "cell_type": "markdown",
   "metadata": {},
   "source": [
    "---\n",
    "\n",
    "> P-038: 顧客データ（df_customer）とレシート明細データ（df_receipt）から、顧客ごとの売上金額合計を求め、10 件表示せよ。ただし、売上実績がない顧客については売上金額を 0 として表示させること。また、顧客は性別コード（gender_cd）が女性（1）であるものを対象とし、非会員（顧客 ID が\"Z\"から始まるもの）は除外すること。\n"
   ]
  },
  {
   "cell_type": "code",
   "execution_count": null,
   "metadata": {},
   "outputs": [],
   "source": []
  },
  {
   "cell_type": "markdown",
   "metadata": {},
   "source": [
    "---\n",
    "\n",
    "> P-039: レシート明細データ（df_receipt）から、売上日数の多い顧客の上位 20 件を抽出したデータと、売上金額合計の多い顧客の上位 20 件を抽出したデータをそれぞれ作成し、さらにその 2 つを完全外部結合せよ。ただし、非会員（顧客 ID が\"Z\"から始まるもの）は除外すること。\n"
   ]
  },
  {
   "cell_type": "code",
   "execution_count": null,
   "metadata": {},
   "outputs": [],
   "source": []
  },
  {
   "cell_type": "markdown",
   "metadata": {},
   "source": [
    "---\n",
    "\n",
    "> P-040: 全ての店舗と全ての商品を組み合わせたデータを作成したい。店舗データ（df_store）と商品データ（df_product）を直積し、件数を計算せよ。\n"
   ]
  },
  {
   "cell_type": "code",
   "execution_count": 35,
   "metadata": {},
   "outputs": [
    {
     "data": {
      "text/plain": [
       "531590"
      ]
     },
     "execution_count": 35,
     "metadata": {},
     "output_type": "execute_result"
    }
   ],
   "source": [
    "df_store.select(\"store_cd\").with_columns(pl.lit(1).alias(\"one\")).join(\n",
    "    df_product.select(\"category_major_cd\").with_columns(pl.lit(1).alias(\"one\")),\n",
    "    on=\"one\",\n",
    "    how=\"full\",\n",
    ").shape[0]"
   ]
  },
  {
   "cell_type": "markdown",
   "metadata": {},
   "source": [
    "---\n",
    "\n",
    "> P-041: レシート明細データ（df_receipt）の売上金額（amount）を日付（sales_ymd）ごとに集計し、前回売上があった日からの売上金額増減を計算せよ。そして結果を 10 件表示せよ。\n"
   ]
  },
  {
   "cell_type": "code",
   "execution_count": 46,
   "metadata": {},
   "outputs": [
    {
     "data": {
      "text/html": [
       "<div><style>\n",
       ".dataframe > thead > tr,\n",
       ".dataframe > tbody > tr {\n",
       "  text-align: right;\n",
       "  white-space: pre-wrap;\n",
       "}\n",
       "</style>\n",
       "<small>shape: (10, 5)</small><table border=\"1\" class=\"dataframe\"><thead><tr><th>sales_ymd</th><th>amount</th><th>prev_sales_ymd</th><th>prev_amount</th><th>diff_amount</th></tr><tr><td>i64</td><td>i64</td><td>i64</td><td>i64</td><td>i64</td></tr></thead><tbody><tr><td>20170101</td><td>33723</td><td>null</td><td>null</td><td>null</td></tr><tr><td>20170102</td><td>24165</td><td>20170101</td><td>33723</td><td>-9558</td></tr><tr><td>20170103</td><td>27503</td><td>20170102</td><td>24165</td><td>3338</td></tr><tr><td>20170104</td><td>36165</td><td>20170103</td><td>27503</td><td>8662</td></tr><tr><td>20170105</td><td>37830</td><td>20170104</td><td>36165</td><td>1665</td></tr><tr><td>20170106</td><td>32387</td><td>20170105</td><td>37830</td><td>-5443</td></tr><tr><td>20170107</td><td>23415</td><td>20170106</td><td>32387</td><td>-8972</td></tr><tr><td>20170108</td><td>24737</td><td>20170107</td><td>23415</td><td>1322</td></tr><tr><td>20170109</td><td>26718</td><td>20170108</td><td>24737</td><td>1981</td></tr><tr><td>20170110</td><td>20143</td><td>20170109</td><td>26718</td><td>-6575</td></tr></tbody></table></div>"
      ],
      "text/plain": [
       "shape: (10, 5)\n",
       "┌───────────┬────────┬────────────────┬─────────────┬─────────────┐\n",
       "│ sales_ymd ┆ amount ┆ prev_sales_ymd ┆ prev_amount ┆ diff_amount │\n",
       "│ ---       ┆ ---    ┆ ---            ┆ ---         ┆ ---         │\n",
       "│ i64       ┆ i64    ┆ i64            ┆ i64         ┆ i64         │\n",
       "╞═══════════╪════════╪════════════════╪═════════════╪═════════════╡\n",
       "│ 20170101  ┆ 33723  ┆ null           ┆ null        ┆ null        │\n",
       "│ 20170102  ┆ 24165  ┆ 20170101       ┆ 33723       ┆ -9558       │\n",
       "│ 20170103  ┆ 27503  ┆ 20170102       ┆ 24165       ┆ 3338        │\n",
       "│ 20170104  ┆ 36165  ┆ 20170103       ┆ 27503       ┆ 8662        │\n",
       "│ 20170105  ┆ 37830  ┆ 20170104       ┆ 36165       ┆ 1665        │\n",
       "│ 20170106  ┆ 32387  ┆ 20170105       ┆ 37830       ┆ -5443       │\n",
       "│ 20170107  ┆ 23415  ┆ 20170106       ┆ 32387       ┆ -8972       │\n",
       "│ 20170108  ┆ 24737  ┆ 20170107       ┆ 23415       ┆ 1322        │\n",
       "│ 20170109  ┆ 26718  ┆ 20170108       ┆ 24737       ┆ 1981        │\n",
       "│ 20170110  ┆ 20143  ┆ 20170109       ┆ 26718       ┆ -6575       │\n",
       "└───────────┴────────┴────────────────┴─────────────┴─────────────┘"
      ]
     },
     "execution_count": 46,
     "metadata": {},
     "output_type": "execute_result"
    }
   ],
   "source": [
    "df_receipt.select(pl.col(\"sales_ymd\"), pl.col(\"amount\")).group_by(\n",
    "    pl.col(\"sales_ymd\")\n",
    ").sum().sort(\"sales_ymd\").with_columns(\n",
    "    pl.col(\"sales_ymd\").shift(1).alias(\"prev_sales_ymd\"),\n",
    "    pl.col(\"amount\").shift(1).alias(\"prev_amount\"),\n",
    ").with_columns((pl.col(\"amount\") - pl.col(\"prev_amount\")).alias(\"diff_amount\")).head(10)"
   ]
  },
  {
   "cell_type": "markdown",
   "metadata": {},
   "source": [
    "---\n",
    "\n",
    "> P-042: レシート明細データ（df_receipt）の売上金額（amount）を日付（sales_ymd）ごとに集計し、各日付のデータに対し、前回、前々回、3 回前に売上があった日のデータを結合せよ。そして結果を 10 件表示せよ。\n"
   ]
  },
  {
   "cell_type": "code",
   "execution_count": 21,
   "metadata": {},
   "outputs": [
    {
     "data": {
      "text/html": [
       "<div><style>\n",
       ".dataframe > thead > tr,\n",
       ".dataframe > tbody > tr {\n",
       "  text-align: right;\n",
       "  white-space: pre-wrap;\n",
       "}\n",
       "</style>\n",
       "<small>shape: (1_034, 8)</small><table border=\"1\" class=\"dataframe\"><thead><tr><th>sales_ymd</th><th>amount</th><th>prev_sales_ymd</th><th>prev_amount</th><th>prev_sales_ymd2</th><th>prev_amount2</th><th>prev_sales_ymd3</th><th>prev_amount3</th></tr><tr><td>i64</td><td>i64</td><td>i64</td><td>i64</td><td>i64</td><td>i64</td><td>i64</td><td>i64</td></tr></thead><tbody><tr><td>20170101</td><td>33723</td><td>null</td><td>null</td><td>null</td><td>null</td><td>null</td><td>null</td></tr><tr><td>20170102</td><td>24165</td><td>20170101</td><td>33723</td><td>null</td><td>null</td><td>null</td><td>null</td></tr><tr><td>20170103</td><td>27503</td><td>20170102</td><td>24165</td><td>20170101</td><td>33723</td><td>null</td><td>null</td></tr><tr><td>20170104</td><td>36165</td><td>20170103</td><td>27503</td><td>20170102</td><td>24165</td><td>20170101</td><td>33723</td></tr><tr><td>20170105</td><td>37830</td><td>20170104</td><td>36165</td><td>20170103</td><td>27503</td><td>20170102</td><td>24165</td></tr><tr><td>&hellip;</td><td>&hellip;</td><td>&hellip;</td><td>&hellip;</td><td>&hellip;</td><td>&hellip;</td><td>&hellip;</td><td>&hellip;</td></tr><tr><td>20191027</td><td>37484</td><td>20191026</td><td>51771</td><td>20191025</td><td>28833</td><td>20191024</td><td>31868</td></tr><tr><td>20191028</td><td>40161</td><td>20191027</td><td>37484</td><td>20191026</td><td>51771</td><td>20191025</td><td>28833</td></tr><tr><td>20191029</td><td>36091</td><td>20191028</td><td>40161</td><td>20191027</td><td>37484</td><td>20191026</td><td>51771</td></tr><tr><td>20191030</td><td>26602</td><td>20191029</td><td>36091</td><td>20191028</td><td>40161</td><td>20191027</td><td>37484</td></tr><tr><td>20191031</td><td>25216</td><td>20191030</td><td>26602</td><td>20191029</td><td>36091</td><td>20191028</td><td>40161</td></tr></tbody></table></div>"
      ],
      "text/plain": [
       "shape: (1_034, 8)\n",
       "┌───────────┬────────┬────────────┬────────────┬────────────┬────────────┬────────────┬────────────┐\n",
       "│ sales_ymd ┆ amount ┆ prev_sales ┆ prev_amoun ┆ prev_sales ┆ prev_amoun ┆ prev_sales ┆ prev_amoun │\n",
       "│ ---       ┆ ---    ┆ _ymd       ┆ t          ┆ _ymd2      ┆ t2         ┆ _ymd3      ┆ t3         │\n",
       "│ i64       ┆ i64    ┆ ---        ┆ ---        ┆ ---        ┆ ---        ┆ ---        ┆ ---        │\n",
       "│           ┆        ┆ i64        ┆ i64        ┆ i64        ┆ i64        ┆ i64        ┆ i64        │\n",
       "╞═══════════╪════════╪════════════╪════════════╪════════════╪════════════╪════════════╪════════════╡\n",
       "│ 20170101  ┆ 33723  ┆ null       ┆ null       ┆ null       ┆ null       ┆ null       ┆ null       │\n",
       "│ 20170102  ┆ 24165  ┆ 20170101   ┆ 33723      ┆ null       ┆ null       ┆ null       ┆ null       │\n",
       "│ 20170103  ┆ 27503  ┆ 20170102   ┆ 24165      ┆ 20170101   ┆ 33723      ┆ null       ┆ null       │\n",
       "│ 20170104  ┆ 36165  ┆ 20170103   ┆ 27503      ┆ 20170102   ┆ 24165      ┆ 20170101   ┆ 33723      │\n",
       "│ 20170105  ┆ 37830  ┆ 20170104   ┆ 36165      ┆ 20170103   ┆ 27503      ┆ 20170102   ┆ 24165      │\n",
       "│ …         ┆ …      ┆ …          ┆ …          ┆ …          ┆ …          ┆ …          ┆ …          │\n",
       "│ 20191027  ┆ 37484  ┆ 20191026   ┆ 51771      ┆ 20191025   ┆ 28833      ┆ 20191024   ┆ 31868      │\n",
       "│ 20191028  ┆ 40161  ┆ 20191027   ┆ 37484      ┆ 20191026   ┆ 51771      ┆ 20191025   ┆ 28833      │\n",
       "│ 20191029  ┆ 36091  ┆ 20191028   ┆ 40161      ┆ 20191027   ┆ 37484      ┆ 20191026   ┆ 51771      │\n",
       "│ 20191030  ┆ 26602  ┆ 20191029   ┆ 36091      ┆ 20191028   ┆ 40161      ┆ 20191027   ┆ 37484      │\n",
       "│ 20191031  ┆ 25216  ┆ 20191030   ┆ 26602      ┆ 20191029   ┆ 36091      ┆ 20191028   ┆ 40161      │\n",
       "└───────────┴────────┴────────────┴────────────┴────────────┴────────────┴────────────┴────────────┘"
      ]
     },
     "execution_count": 21,
     "metadata": {},
     "output_type": "execute_result"
    }
   ],
   "source": [
    "df_receipt.select(pl.col(\"sales_ymd\"), pl.col(\"amount\")).group_by(\n",
    "    pl.col(\"sales_ymd\")\n",
    ").sum().sort(\"sales_ymd\").with_columns(\n",
    "    pl.col(\"sales_ymd\").shift(1).alias(\"prev_sales_ymd\"),\n",
    "    pl.col(\"amount\").shift(1).alias(\"prev_amount\"),\n",
    "    pl.col(\"sales_ymd\").shift(2).alias(\"prev_sales_ymd2\"),\n",
    "    pl.col(\"amount\").shift(2).alias(\"prev_amount2\"),\n",
    "    pl.col(\"sales_ymd\").shift(3).alias(\"prev_sales_ymd3\"),\n",
    "    pl.col(\"amount\").shift(3).alias(\"prev_amount3\"),\n",
    ")"
   ]
  },
  {
   "cell_type": "markdown",
   "metadata": {},
   "source": [
    "---\n",
    "\n",
    "> P-043： レシート明細データ（df_receipt）と顧客データ（df_customer）を結合し、性別コード（gender_cd）と年代（age から計算）ごとに売上金額（amount）を合計した売上サマリデータを作成せよ。性別コードは 0 が男性、1 が女性、9 が不明を表すものとする。\n",
    ">\n",
    "> ただし、項目構成は年代、女性の売上金額、男性の売上金額、性別不明の売上金額の 4 項目とすること（縦に年代、横に性別のクロス集計）。また、年代は 10 歳ごとの階級とすること。\n"
   ]
  },
  {
   "cell_type": "code",
   "execution_count": null,
   "metadata": {},
   "outputs": [
    {
     "data": {
      "text/html": [
       "<div><style>\n",
       ".dataframe > thead > tr,\n",
       ".dataframe > tbody > tr {\n",
       "  text-align: right;\n",
       "  white-space: pre-wrap;\n",
       "}\n",
       "</style>\n",
       "<small>shape: (9, 4)</small><table border=\"1\" class=\"dataframe\"><thead><tr><th>age</th><th>Male</th><th>Unknown</th><th>Female</th></tr><tr><td>i64</td><td>i64</td><td>i64</td><td>i64</td></tr></thead><tbody><tr><td>10</td><td>1591</td><td>4317</td><td>149836</td></tr><tr><td>20</td><td>72940</td><td>44328</td><td>1363724</td></tr><tr><td>30</td><td>177322</td><td>50441</td><td>693047</td></tr><tr><td>40</td><td>19355</td><td>483512</td><td>9320791</td></tr><tr><td>50</td><td>54320</td><td>342923</td><td>6685192</td></tr><tr><td>60</td><td>272469</td><td>71418</td><td>987741</td></tr><tr><td>70</td><td>13435</td><td>2427</td><td>29764</td></tr><tr><td>80</td><td>46360</td><td>5111</td><td>262923</td></tr><tr><td>90</td><td>null</td><td>null</td><td>6260</td></tr></tbody></table></div>"
      ],
      "text/plain": [
       "shape: (9, 4)\n",
       "┌─────┬────────┬─────────┬─────────┐\n",
       "│ age ┆ Male   ┆ Unknown ┆ Female  │\n",
       "│ --- ┆ ---    ┆ ---     ┆ ---     │\n",
       "│ i64 ┆ i64    ┆ i64     ┆ i64     │\n",
       "╞═════╪════════╪═════════╪═════════╡\n",
       "│ 10  ┆ 1591   ┆ 4317    ┆ 149836  │\n",
       "│ 20  ┆ 72940  ┆ 44328   ┆ 1363724 │\n",
       "│ 30  ┆ 177322 ┆ 50441   ┆ 693047  │\n",
       "│ 40  ┆ 19355  ┆ 483512  ┆ 9320791 │\n",
       "│ 50  ┆ 54320  ┆ 342923  ┆ 6685192 │\n",
       "│ 60  ┆ 272469 ┆ 71418   ┆ 987741  │\n",
       "│ 70  ┆ 13435  ┆ 2427    ┆ 29764   │\n",
       "│ 80  ┆ 46360  ┆ 5111    ┆ 262923  │\n",
       "│ 90  ┆ null   ┆ null    ┆ 6260    │\n",
       "└─────┴────────┴─────────┴─────────┘"
      ]
     },
     "execution_count": 62,
     "metadata": {},
     "output_type": "execute_result"
    }
   ],
   "source": [
    "df_sales_summary = (\n",
    "    df_receipt.join(df_customer, on=\"customer_id\", how=\"inner\")\n",
    "    .select(\n",
    "        pl.col(\"gender_cd\"),\n",
    "        (pl.col(\"age\") // 10 * 10).alias(\"age\"),\n",
    "        pl.col(\"amount\"),\n",
    "    )\n",
    "    .group_by(pl.col(\"gender_cd\"), pl.col(\"age\"))\n",
    "    .agg(\n",
    "        pl.col(\"amount\").sum().alias(\"amount_mean\"),\n",
    "    )\n",
    "    .sort(by=\"age\")\n",
    "    .pivot(on=\"gender_cd\", index=\"age\", values=\"amount_mean\")\n",
    "    .rename({\"0\": \"Male\", \"1\": \"Female\", \"9\": \"Unknown\"})\n",
    ")\n",
    "df_sales_summary"
   ]
  },
  {
   "cell_type": "markdown",
   "metadata": {},
   "source": [
    "---\n",
    "\n",
    "> P-044： 043 で作成した売上サマリデータ（df_sales_summary）は性別の売上を横持ちさせたものであった。このデータから性別を縦持ちさせ、年代、性別コード、売上金額の 3 項目に変換せよ。ただし、性別コードは男性を\"00\"、女性を\"01\"、不明を\"99\"とする。\n"
   ]
  },
  {
   "cell_type": "code",
   "execution_count": null,
   "metadata": {},
   "outputs": [
    {
     "data": {
      "text/html": [
       "<div><style>\n",
       ".dataframe > thead > tr,\n",
       ".dataframe > tbody > tr {\n",
       "  text-align: right;\n",
       "  white-space: pre-wrap;\n",
       "}\n",
       "</style>\n",
       "<small>shape: (27, 3)</small><table border=\"1\" class=\"dataframe\"><thead><tr><th>age</th><th>variable</th><th>amount</th></tr><tr><td>i64</td><td>str</td><td>i64</td></tr></thead><tbody><tr><td>10</td><td>&quot;00&quot;</td><td>1591</td></tr><tr><td>10</td><td>&quot;99&quot;</td><td>4317</td></tr><tr><td>10</td><td>&quot;01&quot;</td><td>149836</td></tr><tr><td>20</td><td>&quot;00&quot;</td><td>72940</td></tr><tr><td>20</td><td>&quot;99&quot;</td><td>44328</td></tr><tr><td>&hellip;</td><td>&hellip;</td><td>&hellip;</td></tr><tr><td>80</td><td>&quot;99&quot;</td><td>5111</td></tr><tr><td>80</td><td>&quot;01&quot;</td><td>262923</td></tr><tr><td>90</td><td>&quot;00&quot;</td><td>null</td></tr><tr><td>90</td><td>&quot;99&quot;</td><td>null</td></tr><tr><td>90</td><td>&quot;01&quot;</td><td>6260</td></tr></tbody></table></div>"
      ],
      "text/plain": [
       "shape: (27, 3)\n",
       "┌─────┬──────────┬────────┐\n",
       "│ age ┆ variable ┆ amount │\n",
       "│ --- ┆ ---      ┆ ---    │\n",
       "│ i64 ┆ str      ┆ i64    │\n",
       "╞═════╪══════════╪════════╡\n",
       "│ 10  ┆ 00       ┆ 1591   │\n",
       "│ 10  ┆ 99       ┆ 4317   │\n",
       "│ 10  ┆ 01       ┆ 149836 │\n",
       "│ 20  ┆ 00       ┆ 72940  │\n",
       "│ 20  ┆ 99       ┆ 44328  │\n",
       "│ …   ┆ …        ┆ …      │\n",
       "│ 80  ┆ 99       ┆ 5111   │\n",
       "│ 80  ┆ 01       ┆ 262923 │\n",
       "│ 90  ┆ 00       ┆ null   │\n",
       "│ 90  ┆ 99       ┆ null   │\n",
       "│ 90  ┆ 01       ┆ 6260   │\n",
       "└─────┴──────────┴────────┘"
      ]
     },
     "execution_count": 73,
     "metadata": {},
     "output_type": "execute_result"
    }
   ],
   "source": [
    "df_sales_summary.rename({\"Male\": \"00\", \"Female\": \"01\", \"Unknown\": \"99\"}).unpivot(\n",
    "    index=[\"age\"], value_name=\"amount\"\n",
    ").sort(by=\"age\")"
   ]
  },
  {
   "cell_type": "markdown",
   "metadata": {},
   "source": [
    "---\n",
    "\n",
    "> P-045: 顧客データ（df_customer）の生年月日（birth_day）は日付型でデータを保有している。これを YYYYMMDD 形式の文字列に変換し、顧客 ID（customer_id）とともに 10 件表示せよ。\n"
   ]
  },
  {
   "cell_type": "code",
   "execution_count": null,
   "metadata": {},
   "outputs": [
    {
     "data": {
      "text/html": [
       "<div><style>\n",
       ".dataframe > thead > tr,\n",
       ".dataframe > tbody > tr {\n",
       "  text-align: right;\n",
       "  white-space: pre-wrap;\n",
       "}\n",
       "</style>\n",
       "<small>shape: (10, 2)</small><table border=\"1\" class=\"dataframe\"><thead><tr><th>birth_day</th><th>customer_id</th></tr><tr><td>str</td><td>str</td></tr></thead><tbody><tr><td>&quot;19810429&quot;</td><td>&quot;CS021313000114&quot;</td></tr><tr><td>&quot;19520401&quot;</td><td>&quot;CS037613000071&quot;</td></tr><tr><td>&quot;19761004&quot;</td><td>&quot;CS031415000172&quot;</td></tr><tr><td>&quot;19330327&quot;</td><td>&quot;CS028811000001&quot;</td></tr><tr><td>&quot;19950329&quot;</td><td>&quot;CS001215000145&quot;</td></tr><tr><td>&quot;19740915&quot;</td><td>&quot;CS020401000016&quot;</td></tr><tr><td>&quot;19770809&quot;</td><td>&quot;CS015414000103&quot;</td></tr><tr><td>&quot;19730817&quot;</td><td>&quot;CS029403000008&quot;</td></tr><tr><td>&quot;19310502&quot;</td><td>&quot;CS015804000004&quot;</td></tr><tr><td>&quot;19620711&quot;</td><td>&quot;CS033513000180&quot;</td></tr></tbody></table></div>"
      ],
      "text/plain": [
       "shape: (10, 2)\n",
       "┌───────────┬────────────────┐\n",
       "│ birth_day ┆ customer_id    │\n",
       "│ ---       ┆ ---            │\n",
       "│ str       ┆ str            │\n",
       "╞═══════════╪════════════════╡\n",
       "│ 19810429  ┆ CS021313000114 │\n",
       "│ 19520401  ┆ CS037613000071 │\n",
       "│ 19761004  ┆ CS031415000172 │\n",
       "│ 19330327  ┆ CS028811000001 │\n",
       "│ 19950329  ┆ CS001215000145 │\n",
       "│ 19740915  ┆ CS020401000016 │\n",
       "│ 19770809  ┆ CS015414000103 │\n",
       "│ 19730817  ┆ CS029403000008 │\n",
       "│ 19310502  ┆ CS015804000004 │\n",
       "│ 19620711  ┆ CS033513000180 │\n",
       "└───────────┴────────────────┘"
      ]
     },
     "execution_count": 82,
     "metadata": {},
     "output_type": "execute_result"
    }
   ],
   "source": [
    "df_customer = df_customer.with_columns(\n",
    "    pl.col(\"birth_day\").cast(pl.Date).alias(\"birth_day\")\n",
    ")\n",
    "df_customer.select(\n",
    "    pl.col(\"customer_id\"),\n",
    "    pl.col(\"birth_day\").dt.strftime(\"%Y%m%d\").alias(\"birth_day\"),\n",
    ").head(10)"
   ]
  },
  {
   "cell_type": "markdown",
   "metadata": {},
   "source": [
    "---\n",
    "\n",
    "> P-046: 顧客データ（df_customer）の申し込み日（application_date）は YYYYMMDD 形式の文字列型でデータを保有している。これを日付型に変換し、顧客 ID（customer_id）とともに 10 件表示せよ。\n"
   ]
  },
  {
   "cell_type": "code",
   "execution_count": 85,
   "metadata": {},
   "outputs": [
    {
     "data": {
      "text/html": [
       "<div><style>\n",
       ".dataframe > thead > tr,\n",
       ".dataframe > tbody > tr {\n",
       "  text-align: right;\n",
       "  white-space: pre-wrap;\n",
       "}\n",
       "</style>\n",
       "<small>shape: (21_971, 2)</small><table border=\"1\" class=\"dataframe\"><thead><tr><th>customer_id</th><th>birth_day</th></tr><tr><td>str</td><td>date</td></tr></thead><tbody><tr><td>&quot;CS021313000114&quot;</td><td>1981-04-29</td></tr><tr><td>&quot;CS037613000071&quot;</td><td>1952-04-01</td></tr><tr><td>&quot;CS031415000172&quot;</td><td>1976-10-04</td></tr><tr><td>&quot;CS028811000001&quot;</td><td>1933-03-27</td></tr><tr><td>&quot;CS001215000145&quot;</td><td>1995-03-29</td></tr><tr><td>&hellip;</td><td>&hellip;</td></tr><tr><td>&quot;CS002512000474&quot;</td><td>1959-10-12</td></tr><tr><td>&quot;CS029414000065&quot;</td><td>1970-10-19</td></tr><tr><td>&quot;CS012403000043&quot;</td><td>1972-12-16</td></tr><tr><td>&quot;CS033512000184&quot;</td><td>1964-06-05</td></tr><tr><td>&quot;CS009213000022&quot;</td><td>1996-08-16</td></tr></tbody></table></div>"
      ],
      "text/plain": [
       "shape: (21_971, 2)\n",
       "┌────────────────┬────────────┐\n",
       "│ customer_id    ┆ birth_day  │\n",
       "│ ---            ┆ ---        │\n",
       "│ str            ┆ date       │\n",
       "╞════════════════╪════════════╡\n",
       "│ CS021313000114 ┆ 1981-04-29 │\n",
       "│ CS037613000071 ┆ 1952-04-01 │\n",
       "│ CS031415000172 ┆ 1976-10-04 │\n",
       "│ CS028811000001 ┆ 1933-03-27 │\n",
       "│ CS001215000145 ┆ 1995-03-29 │\n",
       "│ …              ┆ …          │\n",
       "│ CS002512000474 ┆ 1959-10-12 │\n",
       "│ CS029414000065 ┆ 1970-10-19 │\n",
       "│ CS012403000043 ┆ 1972-12-16 │\n",
       "│ CS033512000184 ┆ 1964-06-05 │\n",
       "│ CS009213000022 ┆ 1996-08-16 │\n",
       "└────────────────┴────────────┘"
      ]
     },
     "execution_count": 85,
     "metadata": {},
     "output_type": "execute_result"
    }
   ],
   "source": [
    "df_customer.select(\n",
    "    pl.col(\"customer_id\"),\n",
    "    pl.col(\"birth_day\").cast(pl.Date).alias(\"birth_day\"),\n",
    ")"
   ]
  },
  {
   "cell_type": "markdown",
   "metadata": {},
   "source": [
    "---\n",
    "\n",
    "> P-047: レシート明細データ（df_receipt）の売上日（sales_ymd）は YYYYMMDD 形式の数値型でデータを保有している。これを日付型に変換し、レシート番号（receipt_no）、レシートサブ番号（receipt_sub_no）とともに 10 件表示せよ。\n"
   ]
  },
  {
   "cell_type": "code",
   "execution_count": 90,
   "metadata": {},
   "outputs": [
    {
     "data": {
      "text/html": [
       "<div><style>\n",
       ".dataframe > thead > tr,\n",
       ".dataframe > tbody > tr {\n",
       "  text-align: right;\n",
       "  white-space: pre-wrap;\n",
       "}\n",
       "</style>\n",
       "<small>shape: (104_681, 3)</small><table border=\"1\" class=\"dataframe\"><thead><tr><th>sales_date</th><th>receipt_no</th><th>receipt_sub_no</th></tr><tr><td>date</td><td>i64</td><td>i64</td></tr></thead><tbody><tr><td>2018-11-03</td><td>112</td><td>1</td></tr><tr><td>2018-11-18</td><td>1132</td><td>2</td></tr><tr><td>2017-07-12</td><td>1102</td><td>1</td></tr><tr><td>2019-02-05</td><td>1132</td><td>1</td></tr><tr><td>2018-08-21</td><td>1102</td><td>2</td></tr><tr><td>&hellip;</td><td>&hellip;</td><td>&hellip;</td></tr><tr><td>2018-02-21</td><td>1132</td><td>2</td></tr><tr><td>2019-09-11</td><td>1132</td><td>2</td></tr><tr><td>2017-03-11</td><td>1122</td><td>1</td></tr><tr><td>2017-03-31</td><td>1142</td><td>1</td></tr><tr><td>2019-04-23</td><td>1102</td><td>2</td></tr></tbody></table></div>"
      ],
      "text/plain": [
       "shape: (104_681, 3)\n",
       "┌────────────┬────────────┬────────────────┐\n",
       "│ sales_date ┆ receipt_no ┆ receipt_sub_no │\n",
       "│ ---        ┆ ---        ┆ ---            │\n",
       "│ date       ┆ i64        ┆ i64            │\n",
       "╞════════════╪════════════╪════════════════╡\n",
       "│ 2018-11-03 ┆ 112        ┆ 1              │\n",
       "│ 2018-11-18 ┆ 1132       ┆ 2              │\n",
       "│ 2017-07-12 ┆ 1102       ┆ 1              │\n",
       "│ 2019-02-05 ┆ 1132       ┆ 1              │\n",
       "│ 2018-08-21 ┆ 1102       ┆ 2              │\n",
       "│ …          ┆ …          ┆ …              │\n",
       "│ 2018-02-21 ┆ 1132       ┆ 2              │\n",
       "│ 2019-09-11 ┆ 1132       ┆ 2              │\n",
       "│ 2017-03-11 ┆ 1122       ┆ 1              │\n",
       "│ 2017-03-31 ┆ 1142       ┆ 1              │\n",
       "│ 2019-04-23 ┆ 1102       ┆ 2              │\n",
       "└────────────┴────────────┴────────────────┘"
      ]
     },
     "execution_count": 90,
     "metadata": {},
     "output_type": "execute_result"
    }
   ],
   "source": [
    "df_receipt.select(\n",
    "    pl.col(\"sales_ymd\").cast(pl.String).str.to_date(\"%Y%m%d\").alias(\"sales_date\"),\n",
    "    pl.col(\"receipt_no\"),\n",
    "    pl.col(\"receipt_sub_no\"),\n",
    ")"
   ]
  },
  {
   "cell_type": "markdown",
   "metadata": {},
   "source": [
    "---\n",
    "\n",
    "> P-048: レシート明細データ（df_receipt）の売上エポック秒（sales_epoch）は数値型の UNIX 秒でデータを保有している。これを日付型に変換し、レシート番号(receipt_no)、レシートサブ番号（receipt_sub_no）とともに 10 件表示せよ。\n"
   ]
  },
  {
   "cell_type": "code",
   "execution_count": 101,
   "metadata": {},
   "outputs": [
    {
     "data": {
      "text/html": [
       "<div><style>\n",
       ".dataframe > thead > tr,\n",
       ".dataframe > tbody > tr {\n",
       "  text-align: right;\n",
       "  white-space: pre-wrap;\n",
       "}\n",
       "</style>\n",
       "<small>shape: (10, 3)</small><table border=\"1\" class=\"dataframe\"><thead><tr><th>sales_date</th><th>receipt_no</th><th>receipt_sub_no</th></tr><tr><td>date</td><td>i64</td><td>i64</td></tr></thead><tbody><tr><td>2018-11-03</td><td>112</td><td>1</td></tr><tr><td>2018-11-18</td><td>1132</td><td>2</td></tr><tr><td>2017-07-12</td><td>1102</td><td>1</td></tr><tr><td>2019-02-05</td><td>1132</td><td>1</td></tr><tr><td>2018-08-21</td><td>1102</td><td>2</td></tr><tr><td>2019-06-05</td><td>1112</td><td>1</td></tr><tr><td>2018-12-05</td><td>1102</td><td>2</td></tr><tr><td>2019-09-22</td><td>1102</td><td>1</td></tr><tr><td>2017-05-04</td><td>1112</td><td>2</td></tr><tr><td>2019-10-10</td><td>1102</td><td>1</td></tr></tbody></table></div>"
      ],
      "text/plain": [
       "shape: (10, 3)\n",
       "┌────────────┬────────────┬────────────────┐\n",
       "│ sales_date ┆ receipt_no ┆ receipt_sub_no │\n",
       "│ ---        ┆ ---        ┆ ---            │\n",
       "│ date       ┆ i64        ┆ i64            │\n",
       "╞════════════╪════════════╪════════════════╡\n",
       "│ 2018-11-03 ┆ 112        ┆ 1              │\n",
       "│ 2018-11-18 ┆ 1132       ┆ 2              │\n",
       "│ 2017-07-12 ┆ 1102       ┆ 1              │\n",
       "│ 2019-02-05 ┆ 1132       ┆ 1              │\n",
       "│ 2018-08-21 ┆ 1102       ┆ 2              │\n",
       "│ 2019-06-05 ┆ 1112       ┆ 1              │\n",
       "│ 2018-12-05 ┆ 1102       ┆ 2              │\n",
       "│ 2019-09-22 ┆ 1102       ┆ 1              │\n",
       "│ 2017-05-04 ┆ 1112       ┆ 2              │\n",
       "│ 2019-10-10 ┆ 1102       ┆ 1              │\n",
       "└────────────┴────────────┴────────────────┘"
      ]
     },
     "execution_count": 101,
     "metadata": {},
     "output_type": "execute_result"
    }
   ],
   "source": [
    "df_receipt.select(\n",
    "    pl.from_epoch(pl.col(\"sales_epoch\")).cast(pl.Date).alias(\"sales_date\"),\n",
    "    pl.col(\"receipt_no\"),\n",
    "    pl.col(\"receipt_sub_no\"),\n",
    ").head(10)"
   ]
  },
  {
   "cell_type": "markdown",
   "metadata": {},
   "source": [
    "---\n",
    "\n",
    "> P-049: レシート明細データ（df_receipt）の売上エポック秒（sales_epoch）を日付型に変換し、「年」だけ取り出してレシート番号(receipt_no)、レシートサブ番号（receipt_sub_no）とともに 10 件表示せよ。\n"
   ]
  },
  {
   "cell_type": "code",
   "execution_count": 102,
   "metadata": {},
   "outputs": [
    {
     "data": {
      "text/html": [
       "<div><style>\n",
       ".dataframe > thead > tr,\n",
       ".dataframe > tbody > tr {\n",
       "  text-align: right;\n",
       "  white-space: pre-wrap;\n",
       "}\n",
       "</style>\n",
       "<small>shape: (10, 3)</small><table border=\"1\" class=\"dataframe\"><thead><tr><th>sales_date</th><th>receipt_no</th><th>receipt_sub_no</th></tr><tr><td>i32</td><td>i64</td><td>i64</td></tr></thead><tbody><tr><td>2018</td><td>112</td><td>1</td></tr><tr><td>2018</td><td>1132</td><td>2</td></tr><tr><td>2017</td><td>1102</td><td>1</td></tr><tr><td>2019</td><td>1132</td><td>1</td></tr><tr><td>2018</td><td>1102</td><td>2</td></tr><tr><td>2019</td><td>1112</td><td>1</td></tr><tr><td>2018</td><td>1102</td><td>2</td></tr><tr><td>2019</td><td>1102</td><td>1</td></tr><tr><td>2017</td><td>1112</td><td>2</td></tr><tr><td>2019</td><td>1102</td><td>1</td></tr></tbody></table></div>"
      ],
      "text/plain": [
       "shape: (10, 3)\n",
       "┌────────────┬────────────┬────────────────┐\n",
       "│ sales_date ┆ receipt_no ┆ receipt_sub_no │\n",
       "│ ---        ┆ ---        ┆ ---            │\n",
       "│ i32        ┆ i64        ┆ i64            │\n",
       "╞════════════╪════════════╪════════════════╡\n",
       "│ 2018       ┆ 112        ┆ 1              │\n",
       "│ 2018       ┆ 1132       ┆ 2              │\n",
       "│ 2017       ┆ 1102       ┆ 1              │\n",
       "│ 2019       ┆ 1132       ┆ 1              │\n",
       "│ 2018       ┆ 1102       ┆ 2              │\n",
       "│ 2019       ┆ 1112       ┆ 1              │\n",
       "│ 2018       ┆ 1102       ┆ 2              │\n",
       "│ 2019       ┆ 1102       ┆ 1              │\n",
       "│ 2017       ┆ 1112       ┆ 2              │\n",
       "│ 2019       ┆ 1102       ┆ 1              │\n",
       "└────────────┴────────────┴────────────────┘"
      ]
     },
     "execution_count": 102,
     "metadata": {},
     "output_type": "execute_result"
    }
   ],
   "source": [
    "df_receipt.select(\n",
    "    pl.from_epoch(pl.col(\"sales_epoch\")).cast(pl.Date).alias(\"sales_date\").dt.year(),\n",
    "    pl.col(\"receipt_no\"),\n",
    "    pl.col(\"receipt_sub_no\"),\n",
    ").head(10)"
   ]
  },
  {
   "cell_type": "markdown",
   "metadata": {},
   "source": [
    "---\n",
    "\n",
    "> P-050: レシート明細データ（df_receipt）の売上エポック秒（sales_epoch）を日付型に変換し、「月」だけ取り出してレシート番号(receipt_no)、レシートサブ番号（receipt_sub_no）とともに 10 件表示せよ。なお、「月」は 0 埋め 2 桁で取り出すこと。\n"
   ]
  },
  {
   "cell_type": "code",
   "execution_count": null,
   "metadata": {},
   "outputs": [
    {
     "data": {
      "text/html": [
       "<div><style>\n",
       ".dataframe > thead > tr,\n",
       ".dataframe > tbody > tr {\n",
       "  text-align: right;\n",
       "  white-space: pre-wrap;\n",
       "}\n",
       "</style>\n",
       "<small>shape: (10, 3)</small><table border=\"1\" class=\"dataframe\"><thead><tr><th>sales_date</th><th>receipt_no</th><th>receipt_sub_no</th></tr><tr><td>str</td><td>i64</td><td>i64</td></tr></thead><tbody><tr><td>&quot;11&quot;</td><td>112</td><td>1</td></tr><tr><td>&quot;11&quot;</td><td>1132</td><td>2</td></tr><tr><td>&quot;07&quot;</td><td>1102</td><td>1</td></tr><tr><td>&quot;02&quot;</td><td>1132</td><td>1</td></tr><tr><td>&quot;08&quot;</td><td>1102</td><td>2</td></tr><tr><td>&quot;06&quot;</td><td>1112</td><td>1</td></tr><tr><td>&quot;12&quot;</td><td>1102</td><td>2</td></tr><tr><td>&quot;09&quot;</td><td>1102</td><td>1</td></tr><tr><td>&quot;05&quot;</td><td>1112</td><td>2</td></tr><tr><td>&quot;10&quot;</td><td>1102</td><td>1</td></tr></tbody></table></div>"
      ],
      "text/plain": [
       "shape: (10, 3)\n",
       "┌────────────┬────────────┬────────────────┐\n",
       "│ sales_date ┆ receipt_no ┆ receipt_sub_no │\n",
       "│ ---        ┆ ---        ┆ ---            │\n",
       "│ str        ┆ i64        ┆ i64            │\n",
       "╞════════════╪════════════╪════════════════╡\n",
       "│ 11         ┆ 112        ┆ 1              │\n",
       "│ 11         ┆ 1132       ┆ 2              │\n",
       "│ 07         ┆ 1102       ┆ 1              │\n",
       "│ 02         ┆ 1132       ┆ 1              │\n",
       "│ 08         ┆ 1102       ┆ 2              │\n",
       "│ 06         ┆ 1112       ┆ 1              │\n",
       "│ 12         ┆ 1102       ┆ 2              │\n",
       "│ 09         ┆ 1102       ┆ 1              │\n",
       "│ 05         ┆ 1112       ┆ 2              │\n",
       "│ 10         ┆ 1102       ┆ 1              │\n",
       "└────────────┴────────────┴────────────────┘"
      ]
     },
     "execution_count": 107,
     "metadata": {},
     "output_type": "execute_result"
    }
   ],
   "source": [
    "df_receipt.select(\n",
    "    pl.from_epoch(pl.col(\"sales_epoch\"))\n",
    "    .cast(pl.Date)\n",
    "    .alias(\"sales_date\")\n",
    "    .dt.month()\n",
    "    .cast(pl.String)\n",
    "    .str.zfill(2),\n",
    "    pl.col(\"receipt_no\"),\n",
    "    pl.col(\"receipt_sub_no\"),\n",
    ").head(10)"
   ]
  },
  {
   "cell_type": "markdown",
   "metadata": {},
   "source": [
    "---\n",
    "\n",
    "> P-051: レシート明細データ（df_receipt）の売上エポック秒を日付型に変換し、「日」だけ取り出してレシート番号(receipt_no)、レシートサブ番号（receipt_sub_no）とともに 10 件表示せよ。なお、「日」は 0 埋め 2 桁で取り出すこと。\n"
   ]
  },
  {
   "cell_type": "code",
   "execution_count": 115,
   "metadata": {},
   "outputs": [
    {
     "data": {
      "text/html": [
       "<div><style>\n",
       ".dataframe > thead > tr,\n",
       ".dataframe > tbody > tr {\n",
       "  text-align: right;\n",
       "  white-space: pre-wrap;\n",
       "}\n",
       "</style>\n",
       "<small>shape: (10, 3)</small><table border=\"1\" class=\"dataframe\"><thead><tr><th>sales_date</th><th>receipt_no</th><th>receipt_sub_no</th></tr><tr><td>str</td><td>i64</td><td>i64</td></tr></thead><tbody><tr><td>&quot;03&quot;</td><td>112</td><td>1</td></tr><tr><td>&quot;18&quot;</td><td>1132</td><td>2</td></tr><tr><td>&quot;12&quot;</td><td>1102</td><td>1</td></tr><tr><td>&quot;05&quot;</td><td>1132</td><td>1</td></tr><tr><td>&quot;21&quot;</td><td>1102</td><td>2</td></tr><tr><td>&quot;05&quot;</td><td>1112</td><td>1</td></tr><tr><td>&quot;05&quot;</td><td>1102</td><td>2</td></tr><tr><td>&quot;22&quot;</td><td>1102</td><td>1</td></tr><tr><td>&quot;04&quot;</td><td>1112</td><td>2</td></tr><tr><td>&quot;10&quot;</td><td>1102</td><td>1</td></tr></tbody></table></div>"
      ],
      "text/plain": [
       "shape: (10, 3)\n",
       "┌────────────┬────────────┬────────────────┐\n",
       "│ sales_date ┆ receipt_no ┆ receipt_sub_no │\n",
       "│ ---        ┆ ---        ┆ ---            │\n",
       "│ str        ┆ i64        ┆ i64            │\n",
       "╞════════════╪════════════╪════════════════╡\n",
       "│ 03         ┆ 112        ┆ 1              │\n",
       "│ 18         ┆ 1132       ┆ 2              │\n",
       "│ 12         ┆ 1102       ┆ 1              │\n",
       "│ 05         ┆ 1132       ┆ 1              │\n",
       "│ 21         ┆ 1102       ┆ 2              │\n",
       "│ 05         ┆ 1112       ┆ 1              │\n",
       "│ 05         ┆ 1102       ┆ 2              │\n",
       "│ 22         ┆ 1102       ┆ 1              │\n",
       "│ 04         ┆ 1112       ┆ 2              │\n",
       "│ 10         ┆ 1102       ┆ 1              │\n",
       "└────────────┴────────────┴────────────────┘"
      ]
     },
     "execution_count": 115,
     "metadata": {},
     "output_type": "execute_result"
    }
   ],
   "source": [
    "df_receipt.select(\n",
    "    pl.from_epoch(pl.col(\"sales_epoch\"))\n",
    "    .cast(pl.Date)\n",
    "    .alias(\"sales_date\")\n",
    "    .dt.day()\n",
    "    .cast(pl.String)\n",
    "    .str.zfill(2),\n",
    "    pl.col(\"receipt_no\"),\n",
    "    pl.col(\"receipt_sub_no\"),\n",
    ").head(10)"
   ]
  },
  {
   "cell_type": "markdown",
   "metadata": {},
   "source": [
    "---\n",
    "\n",
    "> P-052: レシート明細データ（df_receipt）の売上金額（amount）を顧客 ID（customer_id）ごとに合計の上、売上金額合計に対して 2,000 円以下を 0、2,000 円より大きい金額を 1 に二値化し、顧客 ID、売上金額合計とともに 10 件表示せよ。ただし、顧客 ID が\"Z\"から始まるのものは非会員を表すため、除外して計算すること。\n"
   ]
  },
  {
   "cell_type": "code",
   "execution_count": 124,
   "metadata": {},
   "outputs": [
    {
     "data": {
      "text/html": [
       "<div><style>\n",
       ".dataframe > thead > tr,\n",
       ".dataframe > tbody > tr {\n",
       "  text-align: right;\n",
       "  white-space: pre-wrap;\n",
       "}\n",
       "</style>\n",
       "<small>shape: (10, 3)</small><table border=\"1\" class=\"dataframe\"><thead><tr><th>customer_id</th><th>sum_amount</th><th>is_high_amount</th></tr><tr><td>str</td><td>i64</td><td>i32</td></tr></thead><tbody><tr><td>&quot;CS018414000039&quot;</td><td>5955</td><td>1</td></tr><tr><td>&quot;CS024514000005&quot;</td><td>979</td><td>0</td></tr><tr><td>&quot;CS031515000204&quot;</td><td>3128</td><td>1</td></tr><tr><td>&quot;CS011115000005&quot;</td><td>585</td><td>0</td></tr><tr><td>&quot;CS033512000066&quot;</td><td>446</td><td>0</td></tr><tr><td>&quot;CS019513000064&quot;</td><td>2365</td><td>1</td></tr><tr><td>&quot;CS019215000046&quot;</td><td>8140</td><td>1</td></tr><tr><td>&quot;CS005415000086&quot;</td><td>3859</td><td>1</td></tr><tr><td>&quot;CS024415000186&quot;</td><td>5352</td><td>1</td></tr><tr><td>&quot;CS002413000104&quot;</td><td>566</td><td>0</td></tr></tbody></table></div>"
      ],
      "text/plain": [
       "shape: (10, 3)\n",
       "┌────────────────┬────────────┬────────────────┐\n",
       "│ customer_id    ┆ sum_amount ┆ is_high_amount │\n",
       "│ ---            ┆ ---        ┆ ---            │\n",
       "│ str            ┆ i64        ┆ i32            │\n",
       "╞════════════════╪════════════╪════════════════╡\n",
       "│ CS018414000039 ┆ 5955       ┆ 1              │\n",
       "│ CS024514000005 ┆ 979        ┆ 0              │\n",
       "│ CS031515000204 ┆ 3128       ┆ 1              │\n",
       "│ CS011115000005 ┆ 585        ┆ 0              │\n",
       "│ CS033512000066 ┆ 446        ┆ 0              │\n",
       "│ CS019513000064 ┆ 2365       ┆ 1              │\n",
       "│ CS019215000046 ┆ 8140       ┆ 1              │\n",
       "│ CS005415000086 ┆ 3859       ┆ 1              │\n",
       "│ CS024415000186 ┆ 5352       ┆ 1              │\n",
       "│ CS002413000104 ┆ 566        ┆ 0              │\n",
       "└────────────────┴────────────┴────────────────┘"
      ]
     },
     "execution_count": 124,
     "metadata": {},
     "output_type": "execute_result"
    }
   ],
   "source": [
    "df_receipt.group_by(pl.col(\"customer_id\")).sum().select(\n",
    "    pl.col(\"customer_id\"),\n",
    "    pl.col(\"amount\").alias(\"sum_amount\"),\n",
    "    pl.when(pl.col(\"amount\") >= 2000).then(1).otherwise(0).alias(\"is_high_amount\"),\n",
    ").head(10)"
   ]
  },
  {
   "cell_type": "markdown",
   "metadata": {},
   "source": [
    "---\n",
    "\n",
    "> P-053: 顧客データ（df_customer）の郵便番号（postal_cd）に対し、東京（先頭 3 桁が 100〜209 のもの）を 1、それ以外のものを 0 に二値化せよ。さらにレシート明細データ（df_receipt）と結合し、全期間において売上実績のある顧客数を、作成した二値ごとにカウントせよ。\n"
   ]
  },
  {
   "cell_type": "code",
   "execution_count": null,
   "metadata": {},
   "outputs": [
    {
     "data": {
      "text/html": [
       "<div><style>\n",
       ".dataframe > thead > tr,\n",
       ".dataframe > tbody > tr {\n",
       "  text-align: right;\n",
       "  white-space: pre-wrap;\n",
       "}\n",
       "</style>\n",
       "<small>shape: (2, 2)</small><table border=\"1\" class=\"dataframe\"><thead><tr><th>is_tokyo</th><th>n_customers</th></tr><tr><td>i32</td><td>u32</td></tr></thead><tbody><tr><td>0</td><td>3906</td></tr><tr><td>1</td><td>4400</td></tr></tbody></table></div>"
      ],
      "text/plain": [
       "shape: (2, 2)\n",
       "┌──────────┬─────────────┐\n",
       "│ is_tokyo ┆ n_customers │\n",
       "│ ---      ┆ ---         │\n",
       "│ i32      ┆ u32         │\n",
       "╞══════════╪═════════════╡\n",
       "│ 0        ┆ 3906        │\n",
       "│ 1        ┆ 4400        │\n",
       "└──────────┴─────────────┘"
      ]
     },
     "execution_count": 75,
     "metadata": {},
     "output_type": "execute_result"
    }
   ],
   "source": [
    "df_customer.select(\n",
    "    pl.col(\"customer_id\"),\n",
    "    pl.col(\"postal_cd\").str.slice(0, 3),\n",
    "    pl.when(\n",
    "        (pl.col(\"postal_cd\").str.slice(0, 3) >= \"100\")\n",
    "        & (pl.col(\"postal_cd\").str.slice(0, 3) <= \"209\")\n",
    "    )\n",
    "    .then(1)\n",
    "    .otherwise(0)\n",
    "    .alias(\"is_tokyo\"),\n",
    ").join(\n",
    "    df_receipt.select(pl.col(\"customer_id\")),\n",
    "    on=\"customer_id\",\n",
    "    how=\"inner\",\n",
    ").group_by(\n",
    "    pl.col(\"is_tokyo\"),\n",
    ").agg(\n",
    "    pl.col(\"customer_id\").n_unique().alias(\"n_customers\"),\n",
    ").sort(by=\"is_tokyo\")"
   ]
  },
  {
   "cell_type": "markdown",
   "metadata": {},
   "source": [
    "---\n",
    "\n",
    "> P-054: 顧客データ（df_customer）の住所（address）は、埼玉県、千葉県、東京都、神奈川県のいずれかとなっている。都道府県毎にコード値を作成し、顧客 ID、住所とともに 10 件表示せよ。値は埼玉県を 11、千葉県を 12、東京都を 13、神奈川県を 14 とすること。\n"
   ]
  },
  {
   "cell_type": "code",
   "execution_count": null,
   "metadata": {},
   "outputs": [
    {
     "data": {
      "text/html": [
       "<div><style>\n",
       ".dataframe > thead > tr,\n",
       ".dataframe > tbody > tr {\n",
       "  text-align: right;\n",
       "  white-space: pre-wrap;\n",
       "}\n",
       "</style>\n",
       "<small>shape: (21_971, 3)</small><table border=\"1\" class=\"dataframe\"><thead><tr><th>customer_id</th><th>address</th><th>pref_cd</th></tr><tr><td>str</td><td>str</td><td>str</td></tr></thead><tbody><tr><td>&quot;CS021313000114&quot;</td><td>&quot;神奈川県伊勢原市粟窪**********&quot;</td><td>&quot;14&quot;</td></tr><tr><td>&quot;CS037613000071&quot;</td><td>&quot;東京都江東区南砂**********&quot;</td><td>&quot;13&quot;</td></tr><tr><td>&quot;CS031415000172&quot;</td><td>&quot;東京都渋谷区代々木**********&quot;</td><td>&quot;13&quot;</td></tr><tr><td>&quot;CS028811000001&quot;</td><td>&quot;神奈川県横浜市泉区和泉町**********&quot;</td><td>&quot;14&quot;</td></tr><tr><td>&quot;CS001215000145&quot;</td><td>&quot;東京都大田区仲六郷**********&quot;</td><td>&quot;13&quot;</td></tr><tr><td>&hellip;</td><td>&hellip;</td><td>&hellip;</td></tr><tr><td>&quot;CS002512000474&quot;</td><td>&quot;東京都国分寺市光町**********&quot;</td><td>&quot;13&quot;</td></tr><tr><td>&quot;CS029414000065&quot;</td><td>&quot;千葉県浦安市富士見**********&quot;</td><td>&quot;12&quot;</td></tr><tr><td>&quot;CS012403000043&quot;</td><td>&quot;神奈川県横浜市中区本牧間門**********&quot;</td><td>&quot;14&quot;</td></tr><tr><td>&quot;CS033512000184&quot;</td><td>&quot;神奈川県横浜市泉区和泉町**********&quot;</td><td>&quot;14&quot;</td></tr><tr><td>&quot;CS009213000022&quot;</td><td>&quot;東京都世田谷区駒沢**********&quot;</td><td>&quot;13&quot;</td></tr></tbody></table></div>"
      ],
      "text/plain": [
       "shape: (21_971, 3)\n",
       "┌────────────────┬─────────────────────────────────┬─────────┐\n",
       "│ customer_id    ┆ address                         ┆ pref_cd │\n",
       "│ ---            ┆ ---                             ┆ ---     │\n",
       "│ str            ┆ str                             ┆ str     │\n",
       "╞════════════════╪═════════════════════════════════╪═════════╡\n",
       "│ CS021313000114 ┆ 神奈川県伊勢原市粟窪**********  ┆ 14      │\n",
       "│ CS037613000071 ┆ 東京都江東区南砂**********      ┆ 13      │\n",
       "│ CS031415000172 ┆ 東京都渋谷区代々木**********    ┆ 13      │\n",
       "│ CS028811000001 ┆ 神奈川県横浜市泉区和泉町******* ┆ 14      │\n",
       "│                ┆ ***                             ┆         │\n",
       "│ CS001215000145 ┆ 東京都大田区仲六郷**********    ┆ 13      │\n",
       "│ …              ┆ …                               ┆ …       │\n",
       "│ CS002512000474 ┆ 東京都国分寺市光町**********    ┆ 13      │\n",
       "│ CS029414000065 ┆ 千葉県浦安市富士見**********    ┆ 12      │\n",
       "│ CS012403000043 ┆ 神奈川県横浜市中区本牧間門***** ┆ 14      │\n",
       "│                ┆ *****                           ┆         │\n",
       "│ CS033512000184 ┆ 神奈川県横浜市泉区和泉町******* ┆ 14      │\n",
       "│                ┆ ***                             ┆         │\n",
       "│ CS009213000022 ┆ 東京都世田谷区駒沢**********    ┆ 13      │\n",
       "└────────────────┴─────────────────────────────────┴─────────┘"
      ]
     },
     "execution_count": 80,
     "metadata": {},
     "output_type": "execute_result"
    }
   ],
   "source": [
    "df_customer.select(\n",
    "    pl.col(\"customer_id\"),\n",
    "    pl.col(\"address\"),\n",
    "    pl.col(\"address\")\n",
    "    .str.slice(0, 3)\n",
    "    .replace(\n",
    "        {\n",
    "            \"埼玉県\": 11,\n",
    "            \"千葉県\": 12,\n",
    "            \"東京都\": 13,\n",
    "            \"神奈川\": 14,\n",
    "        }\n",
    "    )\n",
    "    .alias(\"pref_cd\"),\n",
    ")"
   ]
  },
  {
   "cell_type": "markdown",
   "metadata": {},
   "source": [
    "---\n",
    "\n",
    "> P-055: レシート明細（df_receipt）データの売上金額（amount）を顧客 ID（customer_id）ごとに合計し、その合計金額の四分位点を求めよ。その上で、顧客ごとの売上金額合計に対して以下の基準でカテゴリ値を作成し、顧客 ID、売上金額合計とともに 10 件表示せよ。カテゴリ値は順に 1〜4 とする。\n",
    ">\n",
    "> - 最小値以上第 1 四分位未満 ・・・ 1 を付与\n",
    "> - 第 1 四分位以上第 2 四分位未満 ・・・ 2 を付与\n",
    "> - 第 2 四分位以上第 3 四分位未満 ・・・ 3 を付与\n",
    "> - 第 3 四分位以上 ・・・ 4 を付与\n"
   ]
  },
  {
   "cell_type": "code",
   "execution_count": 94,
   "metadata": {},
   "outputs": [
    {
     "data": {
      "text/html": [
       "<div><style>\n",
       ".dataframe > thead > tr,\n",
       ".dataframe > tbody > tr {\n",
       "  text-align: right;\n",
       "  white-space: pre-wrap;\n",
       "}\n",
       "</style>\n",
       "<small>shape: (8_307, 3)</small><table border=\"1\" class=\"dataframe\"><thead><tr><th>customer_id</th><th>sum_amount</th><th>amount_quantile</th></tr><tr><td>str</td><td>i64</td><td>i32</td></tr></thead><tbody><tr><td>&quot;CS004515000002&quot;</td><td>258</td><td>1</td></tr><tr><td>&quot;CS039214000007&quot;</td><td>6132</td><td>4</td></tr><tr><td>&quot;CS019305000009&quot;</td><td>969</td><td>2</td></tr><tr><td>&quot;CS007512000113&quot;</td><td>956</td><td>2</td></tr><tr><td>&quot;CS041414000001&quot;</td><td>8007</td><td>4</td></tr><tr><td>&hellip;</td><td>&hellip;</td><td>&hellip;</td></tr><tr><td>&quot;CS018615000088&quot;</td><td>2365</td><td>3</td></tr><tr><td>&quot;CS013615000030&quot;</td><td>573</td><td>2</td></tr><tr><td>&quot;CS037614000008&quot;</td><td>2317</td><td>3</td></tr><tr><td>&quot;CS023415000202&quot;</td><td>3236</td><td>3</td></tr><tr><td>&quot;CS003411000053&quot;</td><td>936</td><td>2</td></tr></tbody></table></div>"
      ],
      "text/plain": [
       "shape: (8_307, 3)\n",
       "┌────────────────┬────────────┬─────────────────┐\n",
       "│ customer_id    ┆ sum_amount ┆ amount_quantile │\n",
       "│ ---            ┆ ---        ┆ ---             │\n",
       "│ str            ┆ i64        ┆ i32             │\n",
       "╞════════════════╪════════════╪═════════════════╡\n",
       "│ CS004515000002 ┆ 258        ┆ 1               │\n",
       "│ CS039214000007 ┆ 6132       ┆ 4               │\n",
       "│ CS019305000009 ┆ 969        ┆ 2               │\n",
       "│ CS007512000113 ┆ 956        ┆ 2               │\n",
       "│ CS041414000001 ┆ 8007       ┆ 4               │\n",
       "│ …              ┆ …          ┆ …               │\n",
       "│ CS018615000088 ┆ 2365       ┆ 3               │\n",
       "│ CS013615000030 ┆ 573        ┆ 2               │\n",
       "│ CS037614000008 ┆ 2317       ┆ 3               │\n",
       "│ CS023415000202 ┆ 3236       ┆ 3               │\n",
       "│ CS003411000053 ┆ 936        ┆ 2               │\n",
       "└────────────────┴────────────┴─────────────────┘"
      ]
     },
     "execution_count": 94,
     "metadata": {},
     "output_type": "execute_result"
    }
   ],
   "source": [
    "df_receipt.select(\n",
    "    pl.col(\"customer_id\"),\n",
    "    pl.col(\"amount\"),\n",
    ").group_by(pl.col(\"customer_id\")).agg(\n",
    "    pl.col(\"amount\").sum().alias(\"sum_amount\"),\n",
    ").with_columns(\n",
    "    pl.when(pl.col(\"sum_amount\") < pl.col(\"sum_amount\").quantile(0.25))\n",
    "    .then(1)\n",
    "    .when(pl.col(\"sum_amount\") < pl.col(\"sum_amount\").quantile(0.5))\n",
    "    .then(2)\n",
    "    .when(pl.col(\"sum_amount\") < pl.col(\"sum_amount\").quantile(0.75))\n",
    "    .then(3)\n",
    "    .otherwise(4)\n",
    "    .alias(\"amount_quantile\")\n",
    ")"
   ]
  },
  {
   "cell_type": "markdown",
   "metadata": {},
   "source": [
    "---\n",
    "\n",
    "> P-056: 顧客データ（df_customer）の年齢（age）をもとに 10 歳刻みで年代を算出し、顧客 ID（customer_id）、生年月日（birth_day）とともに 10 件表示せよ。ただし、60 歳以上は全て 60 歳代とすること。年代を表すカテゴリ名は任意とする。\n"
   ]
  },
  {
   "cell_type": "code",
   "execution_count": 102,
   "metadata": {},
   "outputs": [
    {
     "data": {
      "text/html": [
       "<div><style>\n",
       ".dataframe > thead > tr,\n",
       ".dataframe > tbody > tr {\n",
       "  text-align: right;\n",
       "  white-space: pre-wrap;\n",
       "}\n",
       "</style>\n",
       "<small>shape: (10, 3)</small><table border=\"1\" class=\"dataframe\"><thead><tr><th>customer_id</th><th>birth_day</th><th>age</th></tr><tr><td>str</td><td>str</td><td>i64</td></tr></thead><tbody><tr><td>&quot;CS021313000114&quot;</td><td>&quot;1981-04-29&quot;</td><td>30</td></tr><tr><td>&quot;CS037613000071&quot;</td><td>&quot;1952-04-01&quot;</td><td>60</td></tr><tr><td>&quot;CS031415000172&quot;</td><td>&quot;1976-10-04&quot;</td><td>40</td></tr><tr><td>&quot;CS028811000001&quot;</td><td>&quot;1933-03-27&quot;</td><td>60</td></tr><tr><td>&quot;CS001215000145&quot;</td><td>&quot;1995-03-29&quot;</td><td>20</td></tr><tr><td>&quot;CS020401000016&quot;</td><td>&quot;1974-09-15&quot;</td><td>40</td></tr><tr><td>&quot;CS015414000103&quot;</td><td>&quot;1977-08-09&quot;</td><td>40</td></tr><tr><td>&quot;CS029403000008&quot;</td><td>&quot;1973-08-17&quot;</td><td>40</td></tr><tr><td>&quot;CS015804000004&quot;</td><td>&quot;1931-05-02&quot;</td><td>60</td></tr><tr><td>&quot;CS033513000180&quot;</td><td>&quot;1962-07-11&quot;</td><td>50</td></tr></tbody></table></div>"
      ],
      "text/plain": [
       "shape: (10, 3)\n",
       "┌────────────────┬────────────┬─────┐\n",
       "│ customer_id    ┆ birth_day  ┆ age │\n",
       "│ ---            ┆ ---        ┆ --- │\n",
       "│ str            ┆ str        ┆ i64 │\n",
       "╞════════════════╪════════════╪═════╡\n",
       "│ CS021313000114 ┆ 1981-04-29 ┆ 30  │\n",
       "│ CS037613000071 ┆ 1952-04-01 ┆ 60  │\n",
       "│ CS031415000172 ┆ 1976-10-04 ┆ 40  │\n",
       "│ CS028811000001 ┆ 1933-03-27 ┆ 60  │\n",
       "│ CS001215000145 ┆ 1995-03-29 ┆ 20  │\n",
       "│ CS020401000016 ┆ 1974-09-15 ┆ 40  │\n",
       "│ CS015414000103 ┆ 1977-08-09 ┆ 40  │\n",
       "│ CS029403000008 ┆ 1973-08-17 ┆ 40  │\n",
       "│ CS015804000004 ┆ 1931-05-02 ┆ 60  │\n",
       "│ CS033513000180 ┆ 1962-07-11 ┆ 50  │\n",
       "└────────────────┴────────────┴─────┘"
      ]
     },
     "execution_count": 102,
     "metadata": {},
     "output_type": "execute_result"
    }
   ],
   "source": [
    "df_customer.select(\n",
    "    pl.col(\"customer_id\"),\n",
    "    pl.col(\"birth_day\"),\n",
    "    pl.col(\"age\"),\n",
    ").with_columns(\n",
    "    pl.when(pl.col(\"age\") >= 60)\n",
    "    .then(60)\n",
    "    .otherwise(pl.col(\"age\") // 10 * 10)\n",
    "    .alias(\"age\")\n",
    ").head(10)"
   ]
  },
  {
   "cell_type": "markdown",
   "metadata": {},
   "source": [
    "---\n",
    "\n",
    "> P-057: 056 の抽出結果と性別コード（gender_cd）により、新たに性別 × 年代の組み合わせを表すカテゴリデータを作成し、10 件表示せよ。組み合わせを表すカテゴリの値は任意とする。\n"
   ]
  },
  {
   "cell_type": "code",
   "execution_count": null,
   "metadata": {},
   "outputs": [
    {
     "data": {
      "text/html": [
       "<div><style>\n",
       ".dataframe > thead > tr,\n",
       ".dataframe > tbody > tr {\n",
       "  text-align: right;\n",
       "  white-space: pre-wrap;\n",
       "}\n",
       "</style>\n",
       "<small>shape: (21_971, 6)</small><table border=\"1\" class=\"dataframe\"><thead><tr><th>customer_id</th><th>birth_day</th><th>gender</th><th>age</th><th>age_group</th><th>gender_age_group</th></tr><tr><td>str</td><td>str</td><td>str</td><td>i64</td><td>i64</td><td>str</td></tr></thead><tbody><tr><td>&quot;CS021313000114&quot;</td><td>&quot;1981-04-29&quot;</td><td>&quot;女性&quot;</td><td>37</td><td>30</td><td>&quot;女性30&quot;</td></tr><tr><td>&quot;CS037613000071&quot;</td><td>&quot;1952-04-01&quot;</td><td>&quot;不明&quot;</td><td>66</td><td>60</td><td>&quot;不明60&quot;</td></tr><tr><td>&quot;CS031415000172&quot;</td><td>&quot;1976-10-04&quot;</td><td>&quot;女性&quot;</td><td>42</td><td>40</td><td>&quot;女性40&quot;</td></tr><tr><td>&quot;CS028811000001&quot;</td><td>&quot;1933-03-27&quot;</td><td>&quot;女性&quot;</td><td>86</td><td>60</td><td>&quot;女性60&quot;</td></tr><tr><td>&quot;CS001215000145&quot;</td><td>&quot;1995-03-29&quot;</td><td>&quot;女性&quot;</td><td>24</td><td>20</td><td>&quot;女性20&quot;</td></tr><tr><td>&hellip;</td><td>&hellip;</td><td>&hellip;</td><td>&hellip;</td><td>&hellip;</td><td>&hellip;</td></tr><tr><td>&quot;CS002512000474&quot;</td><td>&quot;1959-10-12&quot;</td><td>&quot;女性&quot;</td><td>59</td><td>50</td><td>&quot;女性50&quot;</td></tr><tr><td>&quot;CS029414000065&quot;</td><td>&quot;1970-10-19&quot;</td><td>&quot;女性&quot;</td><td>48</td><td>40</td><td>&quot;女性40&quot;</td></tr><tr><td>&quot;CS012403000043&quot;</td><td>&quot;1972-12-16&quot;</td><td>&quot;男性&quot;</td><td>46</td><td>40</td><td>&quot;男性40&quot;</td></tr><tr><td>&quot;CS033512000184&quot;</td><td>&quot;1964-06-05&quot;</td><td>&quot;女性&quot;</td><td>54</td><td>50</td><td>&quot;女性50&quot;</td></tr><tr><td>&quot;CS009213000022&quot;</td><td>&quot;1996-08-16&quot;</td><td>&quot;女性&quot;</td><td>22</td><td>20</td><td>&quot;女性20&quot;</td></tr></tbody></table></div>"
      ],
      "text/plain": [
       "shape: (21_971, 6)\n",
       "┌────────────────┬────────────┬────────┬─────┬───────────┬──────────────────┐\n",
       "│ customer_id    ┆ birth_day  ┆ gender ┆ age ┆ age_group ┆ gender_age_group │\n",
       "│ ---            ┆ ---        ┆ ---    ┆ --- ┆ ---       ┆ ---              │\n",
       "│ str            ┆ str        ┆ str    ┆ i64 ┆ i64       ┆ str              │\n",
       "╞════════════════╪════════════╪════════╪═════╪═══════════╪══════════════════╡\n",
       "│ CS021313000114 ┆ 1981-04-29 ┆ 女性   ┆ 37  ┆ 30        ┆ 女性30           │\n",
       "│ CS037613000071 ┆ 1952-04-01 ┆ 不明   ┆ 66  ┆ 60        ┆ 不明60           │\n",
       "│ CS031415000172 ┆ 1976-10-04 ┆ 女性   ┆ 42  ┆ 40        ┆ 女性40           │\n",
       "│ CS028811000001 ┆ 1933-03-27 ┆ 女性   ┆ 86  ┆ 60        ┆ 女性60           │\n",
       "│ CS001215000145 ┆ 1995-03-29 ┆ 女性   ┆ 24  ┆ 20        ┆ 女性20           │\n",
       "│ …              ┆ …          ┆ …      ┆ …   ┆ …         ┆ …                │\n",
       "│ CS002512000474 ┆ 1959-10-12 ┆ 女性   ┆ 59  ┆ 50        ┆ 女性50           │\n",
       "│ CS029414000065 ┆ 1970-10-19 ┆ 女性   ┆ 48  ┆ 40        ┆ 女性40           │\n",
       "│ CS012403000043 ┆ 1972-12-16 ┆ 男性   ┆ 46  ┆ 40        ┆ 男性40           │\n",
       "│ CS033512000184 ┆ 1964-06-05 ┆ 女性   ┆ 54  ┆ 50        ┆ 女性50           │\n",
       "│ CS009213000022 ┆ 1996-08-16 ┆ 女性   ┆ 22  ┆ 20        ┆ 女性20           │\n",
       "└────────────────┴────────────┴────────┴─────┴───────────┴──────────────────┘"
      ]
     },
     "execution_count": 109,
     "metadata": {},
     "output_type": "execute_result"
    }
   ],
   "source": [
    "df_customer.select(\n",
    "    pl.col(\"customer_id\"),\n",
    "    pl.col(\"birth_day\"),\n",
    "    pl.col(\"gender\"),\n",
    "    pl.col(\"age\"),\n",
    ").with_columns(\n",
    "    pl.when(pl.col(\"age\") >= 60)\n",
    "    .then(60)\n",
    "    .otherwise(pl.col(\"age\") // 10 * 10)\n",
    "    .alias(\"age_group\")\n",
    ").with_columns(\n",
    "    pl.concat_str(\n",
    "        pl.col(\"gender\"), pl.col(\"age_group\").cast(pl.String).str.zfill(2)\n",
    "    ).alias(\"gender_age_group\")\n",
    ")"
   ]
  },
  {
   "cell_type": "markdown",
   "metadata": {},
   "source": [
    "---\n",
    "\n",
    "> P-058: 顧客データ（df_customer）の性別コード（gender_cd）をダミー変数化し、顧客 ID（customer_id）とともに 10 件表示せよ。\n"
   ]
  },
  {
   "cell_type": "code",
   "execution_count": 117,
   "metadata": {},
   "outputs": [
    {
     "data": {
      "text/html": [
       "<div><style>\n",
       ".dataframe > thead > tr,\n",
       ".dataframe > tbody > tr {\n",
       "  text-align: right;\n",
       "  white-space: pre-wrap;\n",
       "}\n",
       "</style>\n",
       "<small>shape: (10, 4)</small><table border=\"1\" class=\"dataframe\"><thead><tr><th>customer_id</th><th>gender_cd_0</th><th>gender_cd_1</th><th>gender_cd_9</th></tr><tr><td>str</td><td>u8</td><td>u8</td><td>u8</td></tr></thead><tbody><tr><td>&quot;CS021313000114&quot;</td><td>0</td><td>1</td><td>0</td></tr><tr><td>&quot;CS037613000071&quot;</td><td>0</td><td>0</td><td>1</td></tr><tr><td>&quot;CS031415000172&quot;</td><td>0</td><td>1</td><td>0</td></tr><tr><td>&quot;CS028811000001&quot;</td><td>0</td><td>1</td><td>0</td></tr><tr><td>&quot;CS001215000145&quot;</td><td>0</td><td>1</td><td>0</td></tr><tr><td>&quot;CS020401000016&quot;</td><td>1</td><td>0</td><td>0</td></tr><tr><td>&quot;CS015414000103&quot;</td><td>0</td><td>1</td><td>0</td></tr><tr><td>&quot;CS029403000008&quot;</td><td>1</td><td>0</td><td>0</td></tr><tr><td>&quot;CS015804000004&quot;</td><td>1</td><td>0</td><td>0</td></tr><tr><td>&quot;CS033513000180&quot;</td><td>0</td><td>1</td><td>0</td></tr></tbody></table></div>"
      ],
      "text/plain": [
       "shape: (10, 4)\n",
       "┌────────────────┬─────────────┬─────────────┬─────────────┐\n",
       "│ customer_id    ┆ gender_cd_0 ┆ gender_cd_1 ┆ gender_cd_9 │\n",
       "│ ---            ┆ ---         ┆ ---         ┆ ---         │\n",
       "│ str            ┆ u8          ┆ u8          ┆ u8          │\n",
       "╞════════════════╪═════════════╪═════════════╪═════════════╡\n",
       "│ CS021313000114 ┆ 0           ┆ 1           ┆ 0           │\n",
       "│ CS037613000071 ┆ 0           ┆ 0           ┆ 1           │\n",
       "│ CS031415000172 ┆ 0           ┆ 1           ┆ 0           │\n",
       "│ CS028811000001 ┆ 0           ┆ 1           ┆ 0           │\n",
       "│ CS001215000145 ┆ 0           ┆ 1           ┆ 0           │\n",
       "│ CS020401000016 ┆ 1           ┆ 0           ┆ 0           │\n",
       "│ CS015414000103 ┆ 0           ┆ 1           ┆ 0           │\n",
       "│ CS029403000008 ┆ 1           ┆ 0           ┆ 0           │\n",
       "│ CS015804000004 ┆ 1           ┆ 0           ┆ 0           │\n",
       "│ CS033513000180 ┆ 0           ┆ 1           ┆ 0           │\n",
       "└────────────────┴─────────────┴─────────────┴─────────────┘"
      ]
     },
     "execution_count": 117,
     "metadata": {},
     "output_type": "execute_result"
    }
   ],
   "source": [
    "df_customer.select(\n",
    "    pl.col(\"customer_id\"),\n",
    "    pl.col(\"gender_cd\"),\n",
    ").to_dummies([\"gender_cd\"]).head(10)"
   ]
  },
  {
   "cell_type": "markdown",
   "metadata": {},
   "source": [
    "---\n",
    "\n",
    "> P-059: レシート明細データ（df_receipt）の売上金額（amount）を顧客 ID（customer_id）ごとに合計し、売上金額合計を平均 0、標準偏差 1 に標準化して顧客 ID、売上金額合計とともに 10 件表示せよ。標準化に使用する標準偏差は、分散の平方根、もしくは不偏分散の平方根のどちらでも良いものとする。ただし、顧客 ID が\"Z\"から始まるのものは非会員を表すため、除外して計算すること。\n"
   ]
  },
  {
   "cell_type": "markdown",
   "metadata": {},
   "source": [
    "TIPS:\n",
    "\n",
    "- query()の引数 engine で'python'か'numexpr'かを選択でき、デフォルトはインストールされていれば numexpr が、無ければ python が使われます。さらに、文字列メソッドは engine='python'でないと query()内で使えません。\n"
   ]
  },
  {
   "cell_type": "code",
   "execution_count": 2,
   "metadata": {},
   "outputs": [
    {
     "data": {
      "text/html": [
       "<div><style>\n",
       ".dataframe > thead > tr,\n",
       ".dataframe > tbody > tr {\n",
       "  text-align: right;\n",
       "  white-space: pre-wrap;\n",
       "}\n",
       "</style>\n",
       "<small>shape: (8_306, 3)</small><table border=\"1\" class=\"dataframe\"><thead><tr><th>customer_id</th><th>sum_amount</th><th>z_score</th></tr><tr><td>str</td><td>i64</td><td>f64</td></tr></thead><tbody><tr><td>&quot;CS001113000004&quot;</td><td>1298</td><td>-0.459378</td></tr><tr><td>&quot;CS001114000005&quot;</td><td>626</td><td>-0.70639</td></tr><tr><td>&quot;CS001115000010&quot;</td><td>3044</td><td>0.182413</td></tr><tr><td>&quot;CS001205000004&quot;</td><td>1988</td><td>-0.205749</td></tr><tr><td>&quot;CS001205000006&quot;</td><td>3337</td><td>0.290114</td></tr><tr><td>&hellip;</td><td>&hellip;</td><td>&hellip;</td></tr><tr><td>&quot;CS051212000001&quot;</td><td>336</td><td>-0.812988</td></tr><tr><td>&quot;CS051513000004&quot;</td><td>551</td><td>-0.733959</td></tr><tr><td>&quot;CS051515000002&quot;</td><td>265</td><td>-0.839086</td></tr><tr><td>&quot;CS052212000002&quot;</td><td>192</td><td>-0.865919</td></tr><tr><td>&quot;CS052514000001&quot;</td><td>178</td><td>-0.871065</td></tr></tbody></table></div>"
      ],
      "text/plain": [
       "shape: (8_306, 3)\n",
       "┌────────────────┬────────────┬───────────┐\n",
       "│ customer_id    ┆ sum_amount ┆ z_score   │\n",
       "│ ---            ┆ ---        ┆ ---       │\n",
       "│ str            ┆ i64        ┆ f64       │\n",
       "╞════════════════╪════════════╪═══════════╡\n",
       "│ CS001113000004 ┆ 1298       ┆ -0.459378 │\n",
       "│ CS001114000005 ┆ 626        ┆ -0.70639  │\n",
       "│ CS001115000010 ┆ 3044       ┆ 0.182413  │\n",
       "│ CS001205000004 ┆ 1988       ┆ -0.205749 │\n",
       "│ CS001205000006 ┆ 3337       ┆ 0.290114  │\n",
       "│ …              ┆ …          ┆ …         │\n",
       "│ CS051212000001 ┆ 336        ┆ -0.812988 │\n",
       "│ CS051513000004 ┆ 551        ┆ -0.733959 │\n",
       "│ CS051515000002 ┆ 265        ┆ -0.839086 │\n",
       "│ CS052212000002 ┆ 192        ┆ -0.865919 │\n",
       "│ CS052514000001 ┆ 178        ┆ -0.871065 │\n",
       "└────────────────┴────────────┴───────────┘"
      ]
     },
     "execution_count": 2,
     "metadata": {},
     "output_type": "execute_result"
    }
   ],
   "source": [
    "df_receipt.filter(pl.col(\"customer_id\").str.starts_with(\"Z\").not_()).group_by(\n",
    "    pl.col(\"customer_id\")\n",
    ").agg(\n",
    "    pl.col(\"amount\").sum().alias(\"sum_amount\"),\n",
    ").with_columns(\n",
    "    (\n",
    "        (pl.col(\"sum_amount\") - pl.col(\"sum_amount\").mean())\n",
    "        / pl.col(\"sum_amount\").std(ddof=0)\n",
    "    ).alias(\"z_score\")\n",
    ").sort(pl.col(\"customer_id\"))"
   ]
  },
  {
   "cell_type": "markdown",
   "metadata": {},
   "source": [
    "---\n",
    "\n",
    "> P-060: レシート明細データ（df_receipt）の売上金額（amount）を顧客 ID（customer_id）ごとに合計し、売上金額合計を最小値 0、最大値 1 に正規化して顧客 ID、売上金額合計とともに 10 件表示せよ。ただし、顧客 ID が\"Z\"から始まるのものは非会員を表すため、除外して計算すること。\n"
   ]
  },
  {
   "cell_type": "code",
   "execution_count": null,
   "metadata": {},
   "outputs": [
    {
     "data": {
      "text/html": [
       "<div><style>\n",
       ".dataframe > thead > tr,\n",
       ".dataframe > tbody > tr {\n",
       "  text-align: right;\n",
       "  white-space: pre-wrap;\n",
       "}\n",
       "</style>\n",
       "<small>shape: (10, 3)</small><table border=\"1\" class=\"dataframe\"><thead><tr><th>customer_id</th><th>sum_amount</th><th>z_score</th></tr><tr><td>str</td><td>i64</td><td>f64</td></tr></thead><tbody><tr><td>&quot;CS001113000004&quot;</td><td>1298</td><td>0.053354</td></tr><tr><td>&quot;CS001114000005&quot;</td><td>626</td><td>0.024157</td></tr><tr><td>&quot;CS001115000010&quot;</td><td>3044</td><td>0.129214</td></tr><tr><td>&quot;CS001205000004&quot;</td><td>1988</td><td>0.083333</td></tr><tr><td>&quot;CS001205000006&quot;</td><td>3337</td><td>0.141945</td></tr><tr><td>&quot;CS001211000025&quot;</td><td>456</td><td>0.016771</td></tr><tr><td>&quot;CS001212000027&quot;</td><td>448</td><td>0.016423</td></tr><tr><td>&quot;CS001212000031&quot;</td><td>296</td><td>0.009819</td></tr><tr><td>&quot;CS001212000046&quot;</td><td>228</td><td>0.006865</td></tr><tr><td>&quot;CS001212000070&quot;</td><td>456</td><td>0.016771</td></tr></tbody></table></div>"
      ],
      "text/plain": [
       "shape: (10, 3)\n",
       "┌────────────────┬────────────┬──────────┐\n",
       "│ customer_id    ┆ sum_amount ┆ z_score  │\n",
       "│ ---            ┆ ---        ┆ ---      │\n",
       "│ str            ┆ i64        ┆ f64      │\n",
       "╞════════════════╪════════════╪══════════╡\n",
       "│ CS001113000004 ┆ 1298       ┆ 0.053354 │\n",
       "│ CS001114000005 ┆ 626        ┆ 0.024157 │\n",
       "│ CS001115000010 ┆ 3044       ┆ 0.129214 │\n",
       "│ CS001205000004 ┆ 1988       ┆ 0.083333 │\n",
       "│ CS001205000006 ┆ 3337       ┆ 0.141945 │\n",
       "│ CS001211000025 ┆ 456        ┆ 0.016771 │\n",
       "│ CS001212000027 ┆ 448        ┆ 0.016423 │\n",
       "│ CS001212000031 ┆ 296        ┆ 0.009819 │\n",
       "│ CS001212000046 ┆ 228        ┆ 0.006865 │\n",
       "│ CS001212000070 ┆ 456        ┆ 0.016771 │\n",
       "└────────────────┴────────────┴──────────┘"
      ]
     },
     "execution_count": 18,
     "metadata": {},
     "output_type": "execute_result"
    }
   ],
   "source": [
    "non_z_customer = pl.col(\"customer_id\").str.starts_with(\"Z\").not_()\n",
    "\n",
    "\n",
    "df_receipt.filter(non_z_customer).group_by(pl.col(\"customer_id\")).agg(\n",
    "    pl.col(\"amount\").sum().alias(\"sum_amount\"),\n",
    ").with_columns(\n",
    "    (\n",
    "        (pl.col(\"sum_amount\") - pl.col(\"sum_amount\").min())\n",
    "        / (pl.col(\"sum_amount\").max() - pl.col(\"sum_amount\").min())\n",
    "    ).alias(\"z_score\")\n",
    ").sort(pl.col(\"customer_id\")).head(10)"
   ]
  },
  {
   "cell_type": "markdown",
   "metadata": {},
   "source": [
    "---\n",
    "\n",
    "> P-061: レシート明細データ（df_receipt）の売上金額（amount）を顧客 ID（customer_id）ごとに合計し、売上金額合計を常用対数化（底 10）して顧客 ID、売上金額合計とともに 10 件表示せよ。ただし、顧客 ID が\"Z\"から始まるのものは非会員を表すため、除外して計算すること。\n"
   ]
  },
  {
   "cell_type": "code",
   "execution_count": null,
   "metadata": {},
   "outputs": [
    {
     "data": {
      "text/html": [
       "<div><style>\n",
       ".dataframe > thead > tr,\n",
       ".dataframe > tbody > tr {\n",
       "  text-align: right;\n",
       "  white-space: pre-wrap;\n",
       "}\n",
       "</style>\n",
       "<small>shape: (10, 3)</small><table border=\"1\" class=\"dataframe\"><thead><tr><th>customer_id</th><th>sum_amount</th><th>z_score</th></tr><tr><td>str</td><td>i64</td><td>f64</td></tr></thead><tbody><tr><td>&quot;CS001113000004&quot;</td><td>1298</td><td>3.113275</td></tr><tr><td>&quot;CS001114000005&quot;</td><td>626</td><td>2.796574</td></tr><tr><td>&quot;CS001115000010&quot;</td><td>3044</td><td>3.483445</td></tr><tr><td>&quot;CS001205000004&quot;</td><td>1988</td><td>3.298416</td></tr><tr><td>&quot;CS001205000006&quot;</td><td>3337</td><td>3.523356</td></tr><tr><td>&quot;CS001211000025&quot;</td><td>456</td><td>2.658965</td></tr><tr><td>&quot;CS001212000027&quot;</td><td>448</td><td>2.651278</td></tr><tr><td>&quot;CS001212000031&quot;</td><td>296</td><td>2.471292</td></tr><tr><td>&quot;CS001212000046&quot;</td><td>228</td><td>2.357935</td></tr><tr><td>&quot;CS001212000070&quot;</td><td>456</td><td>2.658965</td></tr></tbody></table></div>"
      ],
      "text/plain": [
       "shape: (10, 3)\n",
       "┌────────────────┬────────────┬──────────┐\n",
       "│ customer_id    ┆ sum_amount ┆ z_score  │\n",
       "│ ---            ┆ ---        ┆ ---      │\n",
       "│ str            ┆ i64        ┆ f64      │\n",
       "╞════════════════╪════════════╪══════════╡\n",
       "│ CS001113000004 ┆ 1298       ┆ 3.113275 │\n",
       "│ CS001114000005 ┆ 626        ┆ 2.796574 │\n",
       "│ CS001115000010 ┆ 3044       ┆ 3.483445 │\n",
       "│ CS001205000004 ┆ 1988       ┆ 3.298416 │\n",
       "│ CS001205000006 ┆ 3337       ┆ 3.523356 │\n",
       "│ CS001211000025 ┆ 456        ┆ 2.658965 │\n",
       "│ CS001212000027 ┆ 448        ┆ 2.651278 │\n",
       "│ CS001212000031 ┆ 296        ┆ 2.471292 │\n",
       "│ CS001212000046 ┆ 228        ┆ 2.357935 │\n",
       "│ CS001212000070 ┆ 456        ┆ 2.658965 │\n",
       "└────────────────┴────────────┴──────────┘"
      ]
     },
     "execution_count": 19,
     "metadata": {},
     "output_type": "execute_result"
    }
   ],
   "source": [
    "df_receipt.filter(non_z_customer).group_by(pl.col(\"customer_id\")).agg(\n",
    "    pl.col(\"amount\").sum().alias(\"sum_amount\"),\n",
    ").with_columns((pl.col(\"sum_amount\").log10()).alias(\"z_score\")).sort(\n",
    "    pl.col(\"customer_id\")\n",
    ").head(10)"
   ]
  },
  {
   "cell_type": "markdown",
   "metadata": {},
   "source": [
    "---\n",
    "\n",
    "> P-062: レシート明細データ（df_receipt）の売上金額（amount）を顧客 ID（customer_id）ごとに合計し、売上金額合計を自然対数化（底 e）して顧客 ID、売上金額合計とともに 10 件表示せよ。ただし、顧客 ID が\"Z\"から始まるのものは非会員を表すため、除外して計算すること。\n"
   ]
  },
  {
   "cell_type": "code",
   "execution_count": 23,
   "metadata": {},
   "outputs": [
    {
     "data": {
      "text/html": [
       "<div><style>\n",
       ".dataframe > thead > tr,\n",
       ".dataframe > tbody > tr {\n",
       "  text-align: right;\n",
       "  white-space: pre-wrap;\n",
       "}\n",
       "</style>\n",
       "<small>shape: (10, 3)</small><table border=\"1\" class=\"dataframe\"><thead><tr><th>customer_id</th><th>sum_amount</th><th>z_score</th></tr><tr><td>str</td><td>i64</td><td>f64</td></tr></thead><tbody><tr><td>&quot;CS001113000004&quot;</td><td>1298</td><td>7.16858</td></tr><tr><td>&quot;CS001114000005&quot;</td><td>626</td><td>6.43935</td></tr><tr><td>&quot;CS001115000010&quot;</td><td>3044</td><td>8.020928</td></tr><tr><td>&quot;CS001205000004&quot;</td><td>1988</td><td>7.594884</td></tr><tr><td>&quot;CS001205000006&quot;</td><td>3337</td><td>8.112827</td></tr><tr><td>&quot;CS001211000025&quot;</td><td>456</td><td>6.122493</td></tr><tr><td>&quot;CS001212000027&quot;</td><td>448</td><td>6.104793</td></tr><tr><td>&quot;CS001212000031&quot;</td><td>296</td><td>5.690359</td></tr><tr><td>&quot;CS001212000046&quot;</td><td>228</td><td>5.429346</td></tr><tr><td>&quot;CS001212000070&quot;</td><td>456</td><td>6.122493</td></tr></tbody></table></div>"
      ],
      "text/plain": [
       "shape: (10, 3)\n",
       "┌────────────────┬────────────┬──────────┐\n",
       "│ customer_id    ┆ sum_amount ┆ z_score  │\n",
       "│ ---            ┆ ---        ┆ ---      │\n",
       "│ str            ┆ i64        ┆ f64      │\n",
       "╞════════════════╪════════════╪══════════╡\n",
       "│ CS001113000004 ┆ 1298       ┆ 7.16858  │\n",
       "│ CS001114000005 ┆ 626        ┆ 6.43935  │\n",
       "│ CS001115000010 ┆ 3044       ┆ 8.020928 │\n",
       "│ CS001205000004 ┆ 1988       ┆ 7.594884 │\n",
       "│ CS001205000006 ┆ 3337       ┆ 8.112827 │\n",
       "│ CS001211000025 ┆ 456        ┆ 6.122493 │\n",
       "│ CS001212000027 ┆ 448        ┆ 6.104793 │\n",
       "│ CS001212000031 ┆ 296        ┆ 5.690359 │\n",
       "│ CS001212000046 ┆ 228        ┆ 5.429346 │\n",
       "│ CS001212000070 ┆ 456        ┆ 6.122493 │\n",
       "└────────────────┴────────────┴──────────┘"
      ]
     },
     "execution_count": 23,
     "metadata": {},
     "output_type": "execute_result"
    }
   ],
   "source": [
    "df_receipt.filter(non_z_customer).group_by(pl.col(\"customer_id\")).agg(\n",
    "    pl.col(\"amount\").sum().alias(\"sum_amount\"),\n",
    ").with_columns((pl.col(\"sum_amount\").log()).alias(\"z_score\")).sort(\n",
    "    pl.col(\"customer_id\")\n",
    ").head(10)"
   ]
  },
  {
   "cell_type": "markdown",
   "metadata": {},
   "source": [
    "---\n",
    "\n",
    "> P-063: 商品データ（df_product）の単価（unit_price）と原価（unit_cost）から各商品の利益額を算出し、結果を 10 件表示せよ。\n"
   ]
  },
  {
   "cell_type": "code",
   "execution_count": 27,
   "metadata": {},
   "outputs": [
    {
     "data": {
      "text/html": [
       "<div><style>\n",
       ".dataframe > thead > tr,\n",
       ".dataframe > tbody > tr {\n",
       "  text-align: right;\n",
       "  white-space: pre-wrap;\n",
       "}\n",
       "</style>\n",
       "<small>shape: (10, 7)</small><table border=\"1\" class=\"dataframe\"><thead><tr><th>﻿product_cd</th><th>category_major_cd</th><th>category_medium_cd</th><th>category_small_cd</th><th>unit_price</th><th>unit_cost</th><th>unit_profit</th></tr><tr><td>str</td><td>i64</td><td>i64</td><td>i64</td><td>i64</td><td>i64</td><td>i64</td></tr></thead><tbody><tr><td>&quot;P040101001&quot;</td><td>4</td><td>401</td><td>40101</td><td>198</td><td>149</td><td>49</td></tr><tr><td>&quot;P040101002&quot;</td><td>4</td><td>401</td><td>40101</td><td>218</td><td>164</td><td>54</td></tr><tr><td>&quot;P040101003&quot;</td><td>4</td><td>401</td><td>40101</td><td>230</td><td>173</td><td>57</td></tr><tr><td>&quot;P040101004&quot;</td><td>4</td><td>401</td><td>40101</td><td>248</td><td>186</td><td>62</td></tr><tr><td>&quot;P040101005&quot;</td><td>4</td><td>401</td><td>40101</td><td>268</td><td>201</td><td>67</td></tr><tr><td>&quot;P040101006&quot;</td><td>4</td><td>401</td><td>40101</td><td>298</td><td>224</td><td>74</td></tr><tr><td>&quot;P040101007&quot;</td><td>4</td><td>401</td><td>40101</td><td>338</td><td>254</td><td>84</td></tr><tr><td>&quot;P040101008&quot;</td><td>4</td><td>401</td><td>40101</td><td>420</td><td>315</td><td>105</td></tr><tr><td>&quot;P040101009&quot;</td><td>4</td><td>401</td><td>40101</td><td>498</td><td>374</td><td>124</td></tr><tr><td>&quot;P040101010&quot;</td><td>4</td><td>401</td><td>40101</td><td>580</td><td>435</td><td>145</td></tr></tbody></table></div>"
      ],
      "text/plain": [
       "shape: (10, 7)\n",
       "┌────────────┬───────────────┬───────────────┬──────────────┬────────────┬───────────┬─────────────┐\n",
       "│ ﻿product_cd ┆ category_majo ┆ category_medi ┆ category_sma ┆ unit_price ┆ unit_cost ┆ unit_profit │\n",
       "│ ---        ┆ r_cd          ┆ um_cd         ┆ ll_cd        ┆ ---        ┆ ---       ┆ ---         │\n",
       "│ str        ┆ ---           ┆ ---           ┆ ---          ┆ i64        ┆ i64       ┆ i64         │\n",
       "│            ┆ i64           ┆ i64           ┆ i64          ┆            ┆           ┆             │\n",
       "╞════════════╪═══════════════╪═══════════════╪══════════════╪════════════╪═══════════╪═════════════╡\n",
       "│ P040101001 ┆ 4             ┆ 401           ┆ 40101        ┆ 198        ┆ 149       ┆ 49          │\n",
       "│ P040101002 ┆ 4             ┆ 401           ┆ 40101        ┆ 218        ┆ 164       ┆ 54          │\n",
       "│ P040101003 ┆ 4             ┆ 401           ┆ 40101        ┆ 230        ┆ 173       ┆ 57          │\n",
       "│ P040101004 ┆ 4             ┆ 401           ┆ 40101        ┆ 248        ┆ 186       ┆ 62          │\n",
       "│ P040101005 ┆ 4             ┆ 401           ┆ 40101        ┆ 268        ┆ 201       ┆ 67          │\n",
       "│ P040101006 ┆ 4             ┆ 401           ┆ 40101        ┆ 298        ┆ 224       ┆ 74          │\n",
       "│ P040101007 ┆ 4             ┆ 401           ┆ 40101        ┆ 338        ┆ 254       ┆ 84          │\n",
       "│ P040101008 ┆ 4             ┆ 401           ┆ 40101        ┆ 420        ┆ 315       ┆ 105         │\n",
       "│ P040101009 ┆ 4             ┆ 401           ┆ 40101        ┆ 498        ┆ 374       ┆ 124         │\n",
       "│ P040101010 ┆ 4             ┆ 401           ┆ 40101        ┆ 580        ┆ 435       ┆ 145         │\n",
       "└────────────┴───────────────┴───────────────┴──────────────┴────────────┴───────────┴─────────────┘"
      ]
     },
     "execution_count": 27,
     "metadata": {},
     "output_type": "execute_result"
    }
   ],
   "source": [
    "df_product.with_columns(\n",
    "    (pl.col(\"unit_price\") - pl.col(\"unit_cost\")).alias(\"unit_profit\")\n",
    ").head(10)"
   ]
  },
  {
   "cell_type": "markdown",
   "metadata": {},
   "source": [
    "---\n",
    "\n",
    "> P-064: 商品データ（df_product）の単価（unit_price）と原価（unit_cost）から、各商品の利益率の全体平均を算出せよ。ただし、単価と原価には欠損が生じていることに注意せよ。\n"
   ]
  },
  {
   "cell_type": "code",
   "execution_count": 5,
   "metadata": {},
   "outputs": [
    {
     "data": {
      "text/plain": [
       "0.24911389885177004"
      ]
     },
     "execution_count": 5,
     "metadata": {},
     "output_type": "execute_result"
    }
   ],
   "source": [
    "df_product.select(\n",
    "    pl.col(\"unit_price\"),\n",
    "    pl.col(\"unit_cost\"),\n",
    ").with_columns(\n",
    "    ((pl.col(\"unit_price\") - pl.col(\"unit_cost\")) / pl.col(\"unit_price\")).alias(\n",
    "        \"unit_profit\"\n",
    "    )\n",
    ").mean().item(0, -1)"
   ]
  },
  {
   "cell_type": "markdown",
   "metadata": {},
   "source": [
    "---\n",
    "\n",
    "> P-065: 商品データ（df_product）の各商品について、利益率が 30%となる新たな単価を求めよ。ただし、1 円未満は切り捨てること。そして結果を 10 件表示させ、利益率がおよそ 30％付近であることを確認せよ。ただし、単価（unit_price）と原価（unit_cost）には欠損が生じていることに注意せよ。\n"
   ]
  },
  {
   "cell_type": "code",
   "execution_count": 19,
   "metadata": {},
   "outputs": [
    {
     "data": {
      "text/html": [
       "<div><style>\n",
       ".dataframe > thead > tr,\n",
       ".dataframe > tbody > tr {\n",
       "  text-align: right;\n",
       "  white-space: pre-wrap;\n",
       "}\n",
       "</style>\n",
       "<small>shape: (5, 3)</small><table border=\"1\" class=\"dataframe\"><thead><tr><th>unit_cost</th><th>new_price</th><th>new_profit</th></tr><tr><td>i64</td><td>u32</td><td>f64</td></tr></thead><tbody><tr><td>149</td><td>212</td><td>0.29717</td></tr><tr><td>164</td><td>234</td><td>0.299145</td></tr><tr><td>173</td><td>247</td><td>0.299595</td></tr><tr><td>186</td><td>265</td><td>0.298113</td></tr><tr><td>201</td><td>287</td><td>0.299652</td></tr></tbody></table></div>"
      ],
      "text/plain": [
       "shape: (5, 3)\n",
       "┌───────────┬───────────┬────────────┐\n",
       "│ unit_cost ┆ new_price ┆ new_profit │\n",
       "│ ---       ┆ ---       ┆ ---        │\n",
       "│ i64       ┆ u32       ┆ f64        │\n",
       "╞═══════════╪═══════════╪════════════╡\n",
       "│ 149       ┆ 212       ┆ 0.29717    │\n",
       "│ 164       ┆ 234       ┆ 0.299145   │\n",
       "│ 173       ┆ 247       ┆ 0.299595   │\n",
       "│ 186       ┆ 265       ┆ 0.298113   │\n",
       "│ 201       ┆ 287       ┆ 0.299652   │\n",
       "└───────────┴───────────┴────────────┘"
      ]
     },
     "execution_count": 19,
     "metadata": {},
     "output_type": "execute_result"
    }
   ],
   "source": [
    "formula = (pl.col(\"unit_cost\") / 0.7).alias(\"new_price\").floor()\n",
    "\n",
    "df_product.select(pl.col(\"unit_cost\")).with_columns(\n",
    "    formula.cast(pl.UInt32),\n",
    ").with_columns(\n",
    "    ((pl.col(\"new_price\") - pl.col(\"unit_cost\")) / pl.col(\"new_price\")).alias(\n",
    "        \"new_profit\"\n",
    "    ),\n",
    ").head()"
   ]
  },
  {
   "cell_type": "markdown",
   "metadata": {},
   "source": [
    "---\n",
    "\n",
    "> P-066: 商品データ（df_product）の各商品について、利益率が 30%となる新たな単価を求めよ。今回は、1 円未満を丸めること（四捨五入または偶数への丸めで良い）。そして結果を 10 件表示させ、利益率がおよそ 30％付近であることを確認せよ。ただし、単価（unit_price）と原価（unit_cost）には欠損が生じていることに注意せよ。\n"
   ]
  },
  {
   "cell_type": "code",
   "execution_count": 20,
   "metadata": {},
   "outputs": [
    {
     "data": {
      "text/html": [
       "<div><style>\n",
       ".dataframe > thead > tr,\n",
       ".dataframe > tbody > tr {\n",
       "  text-align: right;\n",
       "  white-space: pre-wrap;\n",
       "}\n",
       "</style>\n",
       "<small>shape: (5, 3)</small><table border=\"1\" class=\"dataframe\"><thead><tr><th>unit_cost</th><th>new_price</th><th>new_profit</th></tr><tr><td>i64</td><td>u32</td><td>f64</td></tr></thead><tbody><tr><td>149</td><td>213</td><td>0.300469</td></tr><tr><td>164</td><td>234</td><td>0.299145</td></tr><tr><td>173</td><td>247</td><td>0.299595</td></tr><tr><td>186</td><td>266</td><td>0.300752</td></tr><tr><td>201</td><td>287</td><td>0.299652</td></tr></tbody></table></div>"
      ],
      "text/plain": [
       "shape: (5, 3)\n",
       "┌───────────┬───────────┬────────────┐\n",
       "│ unit_cost ┆ new_price ┆ new_profit │\n",
       "│ ---       ┆ ---       ┆ ---        │\n",
       "│ i64       ┆ u32       ┆ f64        │\n",
       "╞═══════════╪═══════════╪════════════╡\n",
       "│ 149       ┆ 213       ┆ 0.300469   │\n",
       "│ 164       ┆ 234       ┆ 0.299145   │\n",
       "│ 173       ┆ 247       ┆ 0.299595   │\n",
       "│ 186       ┆ 266       ┆ 0.300752   │\n",
       "│ 201       ┆ 287       ┆ 0.299652   │\n",
       "└───────────┴───────────┴────────────┘"
      ]
     },
     "execution_count": 20,
     "metadata": {},
     "output_type": "execute_result"
    }
   ],
   "source": [
    "formula = (pl.col(\"unit_cost\") / 0.7).alias(\"new_price\").round()\n",
    "\n",
    "df_product.select(pl.col(\"unit_cost\")).with_columns(\n",
    "    formula.cast(pl.UInt32),\n",
    ").with_columns(\n",
    "    ((pl.col(\"new_price\") - pl.col(\"unit_cost\")) / pl.col(\"new_price\")).alias(\n",
    "        \"new_profit\"\n",
    "    ),\n",
    ").head()"
   ]
  },
  {
   "cell_type": "markdown",
   "metadata": {},
   "source": [
    "---\n",
    "\n",
    "> P-067: 商品データ（df_product）の各商品について、利益率が 30%となる新たな単価を求めよ。今回は、1 円未満を切り上げること。そして結果を 10 件表示させ、利益率がおよそ 30％付近であることを確認せよ。ただし、単価（unit_price）と原価（unit_cost）には欠損が生じていることに注意せよ。\n"
   ]
  },
  {
   "cell_type": "code",
   "execution_count": 21,
   "metadata": {},
   "outputs": [
    {
     "data": {
      "text/html": [
       "<div><style>\n",
       ".dataframe > thead > tr,\n",
       ".dataframe > tbody > tr {\n",
       "  text-align: right;\n",
       "  white-space: pre-wrap;\n",
       "}\n",
       "</style>\n",
       "<small>shape: (5, 3)</small><table border=\"1\" class=\"dataframe\"><thead><tr><th>unit_cost</th><th>new_price</th><th>new_profit</th></tr><tr><td>i64</td><td>u32</td><td>f64</td></tr></thead><tbody><tr><td>149</td><td>213</td><td>0.300469</td></tr><tr><td>164</td><td>235</td><td>0.302128</td></tr><tr><td>173</td><td>248</td><td>0.302419</td></tr><tr><td>186</td><td>266</td><td>0.300752</td></tr><tr><td>201</td><td>288</td><td>0.302083</td></tr></tbody></table></div>"
      ],
      "text/plain": [
       "shape: (5, 3)\n",
       "┌───────────┬───────────┬────────────┐\n",
       "│ unit_cost ┆ new_price ┆ new_profit │\n",
       "│ ---       ┆ ---       ┆ ---        │\n",
       "│ i64       ┆ u32       ┆ f64        │\n",
       "╞═══════════╪═══════════╪════════════╡\n",
       "│ 149       ┆ 213       ┆ 0.300469   │\n",
       "│ 164       ┆ 235       ┆ 0.302128   │\n",
       "│ 173       ┆ 248       ┆ 0.302419   │\n",
       "│ 186       ┆ 266       ┆ 0.300752   │\n",
       "│ 201       ┆ 288       ┆ 0.302083   │\n",
       "└───────────┴───────────┴────────────┘"
      ]
     },
     "execution_count": 21,
     "metadata": {},
     "output_type": "execute_result"
    }
   ],
   "source": [
    "formula = (pl.col(\"unit_cost\") / 0.7).alias(\"new_price\").ceil()\n",
    "\n",
    "df_product.select(pl.col(\"unit_cost\")).with_columns(\n",
    "    formula.cast(pl.UInt32),\n",
    ").with_columns(\n",
    "    ((pl.col(\"new_price\") - pl.col(\"unit_cost\")) / pl.col(\"new_price\")).alias(\n",
    "        \"new_profit\"\n",
    "    ),\n",
    ").head()"
   ]
  },
  {
   "cell_type": "markdown",
   "metadata": {},
   "source": [
    "---\n",
    "\n",
    "> P-068: 商品データ（df_product）の各商品について、消費税率 10％の税込み金額を求めよ。1 円未満の端数は切り捨てとし、結果を 10 件表示せよ。ただし、単価（unit_price）には欠損が生じていることに注意せよ。\n"
   ]
  },
  {
   "cell_type": "code",
   "execution_count": 23,
   "metadata": {},
   "outputs": [
    {
     "data": {
      "text/html": [
       "<div><style>\n",
       ".dataframe > thead > tr,\n",
       ".dataframe > tbody > tr {\n",
       "  text-align: right;\n",
       "  white-space: pre-wrap;\n",
       "}\n",
       "</style>\n",
       "<small>shape: (10_030, 2)</small><table border=\"1\" class=\"dataframe\"><thead><tr><th>unit_price</th><th>with_tax</th></tr><tr><td>i64</td><td>f64</td></tr></thead><tbody><tr><td>198</td><td>217.0</td></tr><tr><td>218</td><td>239.0</td></tr><tr><td>230</td><td>253.0</td></tr><tr><td>248</td><td>272.0</td></tr><tr><td>268</td><td>294.0</td></tr><tr><td>&hellip;</td><td>&hellip;</td></tr><tr><td>280</td><td>308.0</td></tr><tr><td>680</td><td>748.0</td></tr><tr><td>1080</td><td>1188.0</td></tr><tr><td>1130</td><td>1243.0</td></tr><tr><td>1280</td><td>1408.0</td></tr></tbody></table></div>"
      ],
      "text/plain": [
       "shape: (10_030, 2)\n",
       "┌────────────┬──────────┐\n",
       "│ unit_price ┆ with_tax │\n",
       "│ ---        ┆ ---      │\n",
       "│ i64        ┆ f64      │\n",
       "╞════════════╪══════════╡\n",
       "│ 198        ┆ 217.0    │\n",
       "│ 218        ┆ 239.0    │\n",
       "│ 230        ┆ 253.0    │\n",
       "│ 248        ┆ 272.0    │\n",
       "│ 268        ┆ 294.0    │\n",
       "│ …          ┆ …        │\n",
       "│ 280        ┆ 308.0    │\n",
       "│ 680        ┆ 748.0    │\n",
       "│ 1080       ┆ 1188.0   │\n",
       "│ 1130       ┆ 1243.0   │\n",
       "│ 1280       ┆ 1408.0   │\n",
       "└────────────┴──────────┘"
      ]
     },
     "execution_count": 23,
     "metadata": {},
     "output_type": "execute_result"
    }
   ],
   "source": [
    "df_product.select(pl.col(\"unit_price\")).with_columns(\n",
    "    pl.col(\"unit_price\").mul(1.1).floor().alias(\"with_tax\")\n",
    ")"
   ]
  },
  {
   "cell_type": "markdown",
   "metadata": {},
   "source": [
    "---\n",
    "\n",
    "> P-069: レシート明細データ（df_receipt）と商品データ（df_product）を結合し、顧客毎に全商品の売上金額合計と、カテゴリ大区分コード（category_major_cd）が\"07\"（瓶詰缶詰）の売上金額合計を計算の上、両者の比率を求めよ。抽出対象はカテゴリ大区分コード\"07\"（瓶詰缶詰）の売上実績がある顧客のみとし、結果を 10 件表示せよ。\n"
   ]
  },
  {
   "cell_type": "code",
   "execution_count": 57,
   "metadata": {},
   "outputs": [
    {
     "data": {
      "text/html": [
       "<div><style>\n",
       ".dataframe > thead > tr,\n",
       ".dataframe > tbody > tr {\n",
       "  text-align: right;\n",
       "  white-space: pre-wrap;\n",
       "}\n",
       "</style>\n",
       "<small>shape: (5, 3)</small><table border=\"1\" class=\"dataframe\"><thead><tr><th>customer_id</th><th>sum_amount</th><th>sum_amount_cat7</th></tr><tr><td>str</td><td>i64</td><td>i64</td></tr></thead><tbody><tr><td>&quot;CS031414000102&quot;</td><td>1800</td><td>558</td></tr><tr><td>&quot;CS028511000038&quot;</td><td>1028</td><td>880</td></tr><tr><td>&quot;CS006411000021&quot;</td><td>2373</td><td>1780</td></tr><tr><td>&quot;CS031415000177&quot;</td><td>8951</td><td>3654</td></tr><tr><td>&quot;CS035514000115&quot;</td><td>286</td><td>0</td></tr></tbody></table></div>"
      ],
      "text/plain": [
       "shape: (5, 3)\n",
       "┌────────────────┬────────────┬─────────────────┐\n",
       "│ customer_id    ┆ sum_amount ┆ sum_amount_cat7 │\n",
       "│ ---            ┆ ---        ┆ ---             │\n",
       "│ str            ┆ i64        ┆ i64             │\n",
       "╞════════════════╪════════════╪═════════════════╡\n",
       "│ CS031414000102 ┆ 1800       ┆ 558             │\n",
       "│ CS028511000038 ┆ 1028       ┆ 880             │\n",
       "│ CS006411000021 ┆ 2373       ┆ 1780            │\n",
       "│ CS031415000177 ┆ 8951       ┆ 3654            │\n",
       "│ CS035514000115 ┆ 286        ┆ 0               │\n",
       "└────────────────┴────────────┴─────────────────┘"
      ]
     },
     "execution_count": 57,
     "metadata": {},
     "output_type": "execute_result"
    }
   ],
   "source": [
    "if \"\\ufeffproduct_cd\" in df_product.columns:  # BOM\n",
    "    df_product = df_product.rename({\"\\ufeffproduct_cd\": \"product_cd\"})\n",
    "\n",
    "df_receipt.join(df_product, on=\"product_cd\", how=\"inner\").group_by(\n",
    "    pl.col(\"customer_id\")\n",
    ").agg(\n",
    "    pl.col(\"amount\").sum().alias(\"sum_amount\"),\n",
    "    pl.when(pl.col(\"category_major_cd\") == 7)\n",
    "    .then(pl.col(\"amount\"))\n",
    "    .otherwise(0)\n",
    "    .sum()\n",
    "    .alias(\"sum_amount_cat7\"),\n",
    ").head()"
   ]
  },
  {
   "cell_type": "markdown",
   "metadata": {},
   "source": [
    "---\n",
    "\n",
    "> P-070: レシート明細データ（df_receipt）の売上日（sales_ymd）に対し、顧客データ（df_customer）の会員申込日（application_date）からの経過日数を計算し、顧客 ID（customer_id）、売上日、会員申込日とともに 10 件表示せよ（sales_ymd は数値、application_date は文字列でデータを保持している点に注意）。\n"
   ]
  },
  {
   "cell_type": "code",
   "execution_count": 68,
   "metadata": {},
   "outputs": [
    {
     "data": {
      "text/html": [
       "<div><style>\n",
       ".dataframe > thead > tr,\n",
       ".dataframe > tbody > tr {\n",
       "  text-align: right;\n",
       "  white-space: pre-wrap;\n",
       "}\n",
       "</style>\n",
       "<small>shape: (65_682, 4)</small><table border=\"1\" class=\"dataframe\"><thead><tr><th>customer_id</th><th>sales_ymd</th><th>application_date</th><th>days_diff</th></tr><tr><td>str</td><td>i64</td><td>i64</td><td>duration[ms]</td></tr></thead><tbody><tr><td>&quot;CS006214000001&quot;</td><td>20181103</td><td>20150201</td><td>1371d</td></tr><tr><td>&quot;CS008415000097&quot;</td><td>20181118</td><td>20150322</td><td>1337d</td></tr><tr><td>&quot;CS028414000014&quot;</td><td>20170712</td><td>20150711</td><td>732d</td></tr><tr><td>&quot;CS025415000050&quot;</td><td>20180821</td><td>20160131</td><td>933d</td></tr><tr><td>&quot;CS003515000195&quot;</td><td>20190605</td><td>20150306</td><td>1552d</td></tr><tr><td>&hellip;</td><td>&hellip;</td><td>&hellip;</td><td>&hellip;</td></tr><tr><td>&quot;CS010414000008&quot;</td><td>20180131</td><td>20150203</td><td>1093d</td></tr><tr><td>&quot;CS004515000066&quot;</td><td>20181217</td><td>20150617</td><td>1279d</td></tr><tr><td>&quot;CS046415000017&quot;</td><td>20190911</td><td>20180304</td><td>556d</td></tr><tr><td>&quot;CS040513000195&quot;</td><td>20170311</td><td>20150805</td><td>584d</td></tr><tr><td>&quot;CS002513000049&quot;</td><td>20170331</td><td>20150326</td><td>736d</td></tr></tbody></table></div>"
      ],
      "text/plain": [
       "shape: (65_682, 4)\n",
       "┌────────────────┬───────────┬──────────────────┬──────────────┐\n",
       "│ customer_id    ┆ sales_ymd ┆ application_date ┆ days_diff    │\n",
       "│ ---            ┆ ---       ┆ ---              ┆ ---          │\n",
       "│ str            ┆ i64       ┆ i64              ┆ duration[ms] │\n",
       "╞════════════════╪═══════════╪══════════════════╪══════════════╡\n",
       "│ CS006214000001 ┆ 20181103  ┆ 20150201         ┆ 1371d        │\n",
       "│ CS008415000097 ┆ 20181118  ┆ 20150322         ┆ 1337d        │\n",
       "│ CS028414000014 ┆ 20170712  ┆ 20150711         ┆ 732d         │\n",
       "│ CS025415000050 ┆ 20180821  ┆ 20160131         ┆ 933d         │\n",
       "│ CS003515000195 ┆ 20190605  ┆ 20150306         ┆ 1552d        │\n",
       "│ …              ┆ …         ┆ …                ┆ …            │\n",
       "│ CS010414000008 ┆ 20180131  ┆ 20150203         ┆ 1093d        │\n",
       "│ CS004515000066 ┆ 20181217  ┆ 20150617         ┆ 1279d        │\n",
       "│ CS046415000017 ┆ 20190911  ┆ 20180304         ┆ 556d         │\n",
       "│ CS040513000195 ┆ 20170311  ┆ 20150805         ┆ 584d         │\n",
       "│ CS002513000049 ┆ 20170331  ┆ 20150326         ┆ 736d         │\n",
       "└────────────────┴───────────┴──────────────────┴──────────────┘"
      ]
     },
     "execution_count": 68,
     "metadata": {},
     "output_type": "execute_result"
    }
   ],
   "source": [
    "df_receipt.join(df_customer, on=\"customer_id\", how=\"inner\").with_columns(\n",
    "    (\n",
    "        pl.col(\"sales_ymd\").cast(pl.String).str.strptime(pl.Date, \"%Y%m%d\")\n",
    "        - pl.col(\"application_date\").cast(pl.String).str.strptime(pl.Date, \"%Y%m%d\")\n",
    "    ).alias(\"days_diff\")\n",
    ").select(\n",
    "    pl.col(\"customer_id\"),\n",
    "    pl.col(\"sales_ymd\"),\n",
    "    pl.col(\"application_date\"),\n",
    "    pl.col(\"days_diff\"),\n",
    ")"
   ]
  },
  {
   "cell_type": "markdown",
   "metadata": {},
   "source": [
    "---\n",
    "\n",
    "> P-071: レシート明細データ（df_receipt）の売上日（sales_ymd）に対し、顧客データ（df_customer）の会員申込日（application_date）からの経過月数を計算し、顧客 ID（customer_id）、売上日、会員申込日とともに 10 件表示せよ（sales_ymd は数値、application_date は文字列でデータを保持している点に注意）。1 ヶ月未満は切り捨てること。\n"
   ]
  },
  {
   "cell_type": "code",
   "execution_count": null,
   "metadata": {},
   "outputs": [],
   "source": []
  },
  {
   "cell_type": "markdown",
   "metadata": {},
   "source": [
    "---\n",
    "\n",
    "> P-072: レシート明細データ（df_receipt）の売上日（df_customer）に対し、顧客データ（df_customer）の会員申込日（application_date）からの経過年数を計算し、顧客 ID（customer_id）、売上日、会員申込日とともに 10 件表示せよ（sales_ymd は数値、application_date は文字列でデータを保持している点に注意）。1 年未満は切り捨てること。\n"
   ]
  },
  {
   "cell_type": "code",
   "execution_count": null,
   "metadata": {},
   "outputs": [],
   "source": []
  },
  {
   "cell_type": "markdown",
   "metadata": {},
   "source": [
    "---\n",
    "\n",
    "> P-073: レシート明細データ（df_receipt）の売上日（sales_ymd）に対し、顧客データ（df_customer）の会員申込日（application_date）からのエポック秒による経過時間を計算し、顧客 ID（customer_id）、売上日、会員申込日とともに 10 件表示せよ（なお、sales_ymd は数値、application_date は文字列でデータを保持している点に注意）。なお、時間情報は保有していないため各日付は 0 時 0 分 0 秒を表すものとする。\n"
   ]
  },
  {
   "cell_type": "code",
   "execution_count": null,
   "metadata": {},
   "outputs": [],
   "source": []
  },
  {
   "cell_type": "markdown",
   "metadata": {},
   "source": [
    "---\n",
    "\n",
    "> P-074: レシート明細データ（df_receipt）の売上日（sales_ymd）に対し、当該週の月曜日からの経過日数を計算し、売上日、直前の月曜日付とともに 10 件表示せよ（sales_ymd は数値でデータを保持している点に注意）。\n"
   ]
  },
  {
   "cell_type": "code",
   "execution_count": null,
   "metadata": {},
   "outputs": [],
   "source": []
  },
  {
   "cell_type": "markdown",
   "metadata": {},
   "source": [
    "---\n",
    "\n",
    "> P-075: 顧客データ（df_customer）からランダムに 1%のデータを抽出し、先頭から 10 件表示せよ。\n"
   ]
  },
  {
   "cell_type": "code",
   "execution_count": null,
   "metadata": {},
   "outputs": [],
   "source": []
  },
  {
   "cell_type": "markdown",
   "metadata": {},
   "source": [
    "---\n",
    "\n",
    "> P-076: 顧客データ（df_customer）から性別コード（gender_cd）の割合に基づきランダムに 10%のデータを層化抽出し、性別コードごとに件数を集計せよ。\n"
   ]
  },
  {
   "cell_type": "code",
   "execution_count": null,
   "metadata": {},
   "outputs": [],
   "source": []
  },
  {
   "cell_type": "markdown",
   "metadata": {},
   "source": [
    "---\n",
    "\n",
    "> P-077: レシート明細データ（df_receipt）の売上金額を顧客単位に合計し、合計した売上金額の外れ値を抽出せよ。なお、外れ値は売上金額合計を対数化したうえで平均と標準偏差を計算し、その平均から 3σ を超えて離れたものとする（自然対数と常用対数のどちらでも可）。結果は 10 件表示せよ。\n"
   ]
  },
  {
   "cell_type": "code",
   "execution_count": null,
   "metadata": {},
   "outputs": [],
   "source": []
  },
  {
   "cell_type": "markdown",
   "metadata": {},
   "source": [
    "---\n",
    "\n",
    "> P-078: レシート明細データ（df_receipt）の売上金額（amount）を顧客単位に合計し、合計した売上金額の外れ値を抽出せよ。ただし、顧客 ID が\"Z\"から始まるのものは非会員を表すため、除外して計算すること。なお、ここでは外れ値を第 1 四分位と第 3 四分位の差である IQR を用いて、「第 1 四分位数-1.5×IQR」を下回るもの、または「第 3 四分位数+1.5×IQR」を超えるものとする。結果は 10 件表示せよ。\n"
   ]
  },
  {
   "cell_type": "code",
   "execution_count": null,
   "metadata": {},
   "outputs": [],
   "source": []
  },
  {
   "cell_type": "markdown",
   "metadata": {},
   "source": [
    "---\n",
    "\n",
    "> P-079: 商品データ（df_product）の各項目に対し、欠損数を確認せよ。\n"
   ]
  },
  {
   "cell_type": "code",
   "execution_count": null,
   "metadata": {},
   "outputs": [],
   "source": []
  },
  {
   "cell_type": "markdown",
   "metadata": {},
   "source": [
    "---\n",
    "\n",
    "> P-080: 商品データ（df_product）のいずれかの項目に欠損が発生しているレコードを全て削除した新たな商品データを作成せよ。なお、削除前後の件数を表示させ、079 で確認した件数だけ減少していることも確認すること。\n"
   ]
  },
  {
   "cell_type": "code",
   "execution_count": null,
   "metadata": {},
   "outputs": [],
   "source": []
  },
  {
   "cell_type": "markdown",
   "metadata": {},
   "source": [
    "---\n",
    "\n",
    "> P-081: 単価（unit_price）と原価（unit_cost）の欠損値について、それぞれの平均値で補完した新たな商品データを作成せよ。なお、平均値については 1 円未満を丸めること（四捨五入または偶数への丸めで良い）。補完実施後、各項目について欠損が生じていないことも確認すること。\n"
   ]
  },
  {
   "cell_type": "code",
   "execution_count": null,
   "metadata": {},
   "outputs": [],
   "source": []
  },
  {
   "cell_type": "markdown",
   "metadata": {
    "tags": []
   },
   "source": [
    "---\n",
    "\n",
    "> P-082: 単価（unit_price）と原価（unit_cost）の欠損値について、それぞれの中央値で補完した新たな商品データを作成せよ。なお、中央値については 1 円未満を丸めること（四捨五入または偶数への丸めで良い）。補完実施後、各項目について欠損が生じていないことも確認すること。\n"
   ]
  },
  {
   "cell_type": "code",
   "execution_count": null,
   "metadata": {},
   "outputs": [],
   "source": []
  },
  {
   "cell_type": "markdown",
   "metadata": {},
   "source": [
    "---\n",
    "\n",
    "> P-083: 単価（unit_price）と原価（unit_cost）の欠損値について、各商品のカテゴリ小区分コード（category_small_cd）ごとに算出した中央値で補完した新たな商品データを作成せよ。なお、中央値については 1 円未満を丸めること（四捨五入または偶数への丸めで良い）。補完実施後、各項目について欠損が生じていないことも確認すること。\n"
   ]
  },
  {
   "cell_type": "code",
   "execution_count": null,
   "metadata": {},
   "outputs": [],
   "source": []
  },
  {
   "cell_type": "markdown",
   "metadata": {},
   "source": [
    "---\n",
    "\n",
    "> P-084: 顧客データ（df_customer）の全顧客に対して全期間の売上金額に占める 2019 年売上金額の割合を計算し、新たなデータを作成せよ。ただし、売上実績がない場合は 0 として扱うこと。そして計算した割合が 0 超のものを抽出し、結果を 10 件表示せよ。また、作成したデータに欠損が存在しないことを確認せよ。\n"
   ]
  },
  {
   "cell_type": "code",
   "execution_count": null,
   "metadata": {},
   "outputs": [],
   "source": []
  },
  {
   "cell_type": "markdown",
   "metadata": {},
   "source": [
    "---\n",
    "\n",
    "> P-085: 顧客データ（df_customer）の全顧客に対し、郵便番号（postal_cd）を用いてジオコードデータ（df_geocode）を紐付け、新たな顧客データを作成せよ。ただし、1 つの郵便番号（postal_cd）に複数の経度（longitude）、緯度（latitude）情報が紐づく場合は、経度（longitude）、緯度（latitude）の平均値を算出して使用すること。また、作成結果を確認するために結果を 10 件表示せよ。\n"
   ]
  },
  {
   "cell_type": "code",
   "execution_count": null,
   "metadata": {},
   "outputs": [],
   "source": []
  },
  {
   "cell_type": "markdown",
   "metadata": {},
   "source": [
    "---\n",
    "\n",
    "> P-086: 085 で作成した緯度経度つき顧客データに対し、会員申込店舗コード（application_store_cd）をキーに店舗データ（df_store）と結合せよ。そして申込み店舗の緯度（latitude）・経度情報（longitude)と顧客住所（address）の緯度・経度を用いて申込み店舗と顧客住所の距離（単位：km）を求め、顧客 ID（customer_id）、顧客住所（address）、店舗住所（address）とともに表示せよ。計算式は以下の簡易式で良いものとするが、その他精度の高い方式を利用したライブラリを利用してもかまわない。結果は 10 件表示せよ。\n",
    "\n",
    "$$\n",
    "\\mbox{緯度（ラジアン）}：\\phi \\\\\n",
    "\\mbox{経度（ラジアン）}：\\lambda \\\\\n",
    "\\mbox{距離}L = 6371 * \\arccos(\\sin \\phi_1 * \\sin \\phi_2\n",
    "+ \\cos \\phi_1 * \\cos \\phi_2 * \\cos(\\lambda_1 − \\lambda_2))\n",
    "$$\n"
   ]
  },
  {
   "cell_type": "code",
   "execution_count": null,
   "metadata": {},
   "outputs": [],
   "source": []
  },
  {
   "cell_type": "markdown",
   "metadata": {},
   "source": [
    "---\n",
    "\n",
    "> P-087: 顧客データ（df_customer）では、異なる店舗での申込みなどにより同一顧客が複数登録されている。名前（customer_name）と郵便番号（postal_cd）が同じ顧客は同一顧客とみなして 1 顧客 1 レコードとなるように名寄せした名寄顧客データを作成し、顧客データの件数、名寄顧客データの件数、重複数を算出せよ。ただし、同一顧客に対しては売上金額合計が最も高いものを残し、売上金額合計が同一もしくは売上実績がない顧客については顧客 ID（customer_id）の番号が小さいものを残すこととする。\n"
   ]
  },
  {
   "cell_type": "code",
   "execution_count": null,
   "metadata": {},
   "outputs": [],
   "source": []
  },
  {
   "cell_type": "markdown",
   "metadata": {},
   "source": [
    "---\n",
    "\n",
    "> P-088: 087 で作成したデータを元に、顧客データに統合名寄 ID を付与したデータを作成せよ。ただし、統合名寄 ID は以下の仕様で付与するものとする。\n",
    ">\n",
    "> - 重複していない顧客：顧客 ID（customer_id）を設定\n",
    "> - 重複している顧客：前設問で抽出したレコードの顧客 ID を設定\n",
    ">\n",
    "> 顧客 ID のユニーク件数と、統合名寄 ID のユニーク件数の差も確認すること。\n"
   ]
  },
  {
   "cell_type": "code",
   "execution_count": null,
   "metadata": {},
   "outputs": [],
   "source": []
  },
  {
   "cell_type": "markdown",
   "metadata": {},
   "source": [
    "---\n",
    "\n",
    "> P-089: 売上実績がある顧客を、予測モデル構築のため学習用データとテスト用データに分割したい。それぞれ 8:2 の割合でランダムにデータを分割せよ。\n"
   ]
  },
  {
   "cell_type": "code",
   "execution_count": null,
   "metadata": {},
   "outputs": [],
   "source": []
  },
  {
   "cell_type": "markdown",
   "metadata": {},
   "source": [
    "---\n",
    "\n",
    "> P-090: レシート明細データ（df_receipt）は 2017 年 1 月 1 日〜2019 年 10 月 31 日までのデータを有している。売上金額（amount）を月次で集計し、学習用に 12 ヶ月、テスト用に 6 ヶ月の時系列モデル構築用データを 3 セット作成せよ。\n"
   ]
  },
  {
   "cell_type": "code",
   "execution_count": null,
   "metadata": {},
   "outputs": [],
   "source": []
  },
  {
   "cell_type": "markdown",
   "metadata": {},
   "source": [
    "---\n",
    "\n",
    "> P-091: 顧客データ（df_customer）の各顧客に対し、売上実績がある顧客数と売上実績がない顧客数が 1:1 となるようにアンダーサンプリングで抽出せよ。\n"
   ]
  },
  {
   "cell_type": "code",
   "execution_count": null,
   "metadata": {},
   "outputs": [],
   "source": []
  },
  {
   "cell_type": "markdown",
   "metadata": {},
   "source": [
    "---\n",
    "\n",
    "> P-092: 顧客データ（df_customer）の性別について、第三正規形へと正規化せよ。\n"
   ]
  },
  {
   "cell_type": "code",
   "execution_count": null,
   "metadata": {},
   "outputs": [],
   "source": []
  },
  {
   "cell_type": "markdown",
   "metadata": {},
   "source": [
    "---\n",
    "\n",
    "> P-093: 商品データ（df_product）では各カテゴリのコード値だけを保有し、カテゴリ名は保有していない。カテゴリデータ（df_category）と組み合わせて非正規化し、カテゴリ名を保有した新たな商品データを作成せよ。\n"
   ]
  },
  {
   "cell_type": "code",
   "execution_count": null,
   "metadata": {},
   "outputs": [],
   "source": []
  },
  {
   "cell_type": "markdown",
   "metadata": {},
   "source": [
    "---\n",
    "\n",
    "> P-094: 093 で作成したカテゴリ名付き商品データを以下の仕様でファイル出力せよ。\n",
    ">\n",
    "> |    ファイル形式     | ヘッダ有無 | 文字エンコーディング |\n",
    "> | :-----------------: | :--------: | :------------------: |\n",
    "> | CSV（カンマ区切り） |    有り    |        UTF-8         |\n",
    ">\n",
    "> ファイル出力先のパスは以下のようにすること\n",
    ">\n",
    "> | 出力先 |\n",
    "> | :----: |\n",
    "> | ./data |\n"
   ]
  },
  {
   "cell_type": "code",
   "execution_count": null,
   "metadata": {},
   "outputs": [],
   "source": []
  },
  {
   "cell_type": "markdown",
   "metadata": {},
   "source": [
    "---\n",
    "\n",
    "> P-095: 093 で作成したカテゴリ名付き商品データを以下の仕様でファイル出力せよ。\n",
    ">\n",
    "> |    ファイル形式     | ヘッダ有無 | 文字エンコーディング |\n",
    "> | :-----------------: | :--------: | :------------------: |\n",
    "> | CSV（カンマ区切り） |    有り    |        CP932         |\n",
    ">\n",
    "> ファイル出力先のパスは以下のようにすること。\n",
    ">\n",
    "> | 出力先 |\n",
    "> | :----: |\n",
    "> | ./data |\n"
   ]
  },
  {
   "cell_type": "code",
   "execution_count": null,
   "metadata": {},
   "outputs": [],
   "source": []
  },
  {
   "cell_type": "markdown",
   "metadata": {},
   "source": [
    "---\n",
    "\n",
    "> P-096: 093 で作成したカテゴリ名付き商品データを以下の仕様でファイル出力せよ。\n",
    ">\n",
    "> |    ファイル形式     | ヘッダ有無 | 文字エンコーディング |\n",
    "> | :-----------------: | :--------: | :------------------: |\n",
    "> | CSV（カンマ区切り） |    無し    |        UTF-8         |\n",
    ">\n",
    "> ファイル出力先のパスは以下のようにすること。\n",
    ">\n",
    "> | 出力先 |\n",
    "> | :----: |\n",
    "> | ./data |\n"
   ]
  },
  {
   "cell_type": "code",
   "execution_count": null,
   "metadata": {},
   "outputs": [],
   "source": []
  },
  {
   "cell_type": "markdown",
   "metadata": {},
   "source": [
    "---\n",
    "\n",
    "> P-097: 094 で作成した以下形式のファイルを読み込み、データを 3 件を表示させて正しく取り込まれていることを確認せよ。\n",
    ">\n",
    "> |    ファイル形式     | ヘッダ有無 | 文字エンコーディング |\n",
    "> | :-----------------: | :--------: | :------------------: |\n",
    "> | CSV（カンマ区切り） |    有り    |        UTF-8         |\n"
   ]
  },
  {
   "cell_type": "code",
   "execution_count": null,
   "metadata": {},
   "outputs": [],
   "source": []
  },
  {
   "cell_type": "markdown",
   "metadata": {},
   "source": [
    "---\n",
    "\n",
    "> P-098: 096 で作成した以下形式のファイルを読み込み、データを 3 件を表示させて正しく取り込まれていることを確認せよ。\n",
    ">\n",
    "> |    ファイル形式     | ヘッダ有無 | 文字エンコーディング |\n",
    "> | :-----------------: | :--------: | :------------------: |\n",
    "> | CSV（カンマ区切り） | ヘッダ無し |        UTF-8         |\n"
   ]
  },
  {
   "cell_type": "code",
   "execution_count": null,
   "metadata": {},
   "outputs": [],
   "source": []
  },
  {
   "cell_type": "markdown",
   "metadata": {},
   "source": [
    "---\n",
    "\n",
    "> P-099: 093 で作成したカテゴリ名付き商品データを以下の仕様でファイル出力せよ。\n",
    ">\n",
    "> |   ファイル形式    | ヘッダ有無 | 文字エンコーディング |\n",
    "> | :---------------: | :--------: | :------------------: |\n",
    "> | TSV（タブ区切り） |    有り    |        UTF-8         |\n",
    ">\n",
    "> ファイル出力先のパスは以下のようにすること\n",
    ">\n",
    "> | 出力先 |\n",
    "> | :----: |\n",
    "> | ./data |\n"
   ]
  },
  {
   "cell_type": "code",
   "execution_count": null,
   "metadata": {},
   "outputs": [],
   "source": []
  },
  {
   "cell_type": "markdown",
   "metadata": {},
   "source": [
    "---\n",
    "\n",
    "> P-100: 099 で作成した以下形式のファイルを読み込み、データを 3 件を表示させて正しく取り込まれていることを確認せよ。\n",
    ">\n",
    "> |   ファイル形式    | ヘッダ有無 | 文字エンコーディング |\n",
    "> | :---------------: | :--------: | :------------------: |\n",
    "> | TSV（タブ区切り） |    有り    |        UTF-8         |\n"
   ]
  },
  {
   "cell_type": "code",
   "execution_count": null,
   "metadata": {},
   "outputs": [],
   "source": []
  },
  {
   "cell_type": "markdown",
   "metadata": {},
   "source": [
    "# これで１００本終わりです。おつかれさまでした！\n"
   ]
  }
 ],
 "metadata": {
  "kernelspec": {
   "display_name": "kaggle",
   "language": "python",
   "name": "python3"
  },
  "language_info": {
   "codemirror_mode": {
    "name": "ipython",
    "version": 3
   },
   "file_extension": ".py",
   "mimetype": "text/x-python",
   "name": "python",
   "nbconvert_exporter": "python",
   "pygments_lexer": "ipython3",
   "version": "3.12.7"
  }
 },
 "nbformat": 4,
 "nbformat_minor": 4
}
